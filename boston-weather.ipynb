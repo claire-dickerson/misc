{
 "cells": [
  {
   "cell_type": "markdown",
   "id": "033b9fd5",
   "metadata": {
    "papermill": {
     "duration": 0.005618,
     "end_time": "2023-03-16T15:59:47.567030",
     "exception": false,
     "start_time": "2023-03-16T15:59:47.561412",
     "status": "completed"
    },
    "tags": []
   },
   "source": [
    "# Boston weather visualization\n",
    "![beany baby <3 ](https://cdn10.bostonmagazine.com/wp-content/uploads/sites/2/2022/06/image002.jpg)\n",
    "\n",
    "This notebook focuses on visualizing data from the Boston weather data set, primarily with Plotly <3 "
   ]
  },
  {
   "cell_type": "markdown",
   "id": "b5e7ded5",
   "metadata": {
    "papermill": {
     "duration": 0.003998,
     "end_time": "2023-03-16T15:59:47.575522",
     "exception": false,
     "start_time": "2023-03-16T15:59:47.571524",
     "status": "completed"
    },
    "tags": []
   },
   "source": [
    "## Imports and reading the data"
   ]
  },
  {
   "cell_type": "code",
   "execution_count": 1,
   "id": "1355f1dd",
   "metadata": {
    "execution": {
     "iopub.execute_input": "2023-03-16T15:59:47.585847Z",
     "iopub.status.busy": "2023-03-16T15:59:47.585444Z",
     "iopub.status.idle": "2023-03-16T15:59:48.754793Z",
     "shell.execute_reply": "2023-03-16T15:59:48.753480Z"
    },
    "papermill": {
     "duration": 1.178148,
     "end_time": "2023-03-16T15:59:48.757880",
     "exception": false,
     "start_time": "2023-03-16T15:59:47.579732",
     "status": "completed"
    },
    "tags": []
   },
   "outputs": [],
   "source": [
    "import numpy as np\n",
    "import pandas as pd\n",
    "import matplotlib.pyplot as plt\n",
    "import seaborn as sns"
   ]
  },
  {
   "cell_type": "code",
   "execution_count": 2,
   "id": "535a5669",
   "metadata": {
    "execution": {
     "iopub.execute_input": "2023-03-16T15:59:48.768214Z",
     "iopub.status.busy": "2023-03-16T15:59:48.767794Z",
     "iopub.status.idle": "2023-03-16T15:59:48.828985Z",
     "shell.execute_reply": "2023-03-16T15:59:48.827748Z"
    },
    "papermill": {
     "duration": 0.069856,
     "end_time": "2023-03-16T15:59:48.832146",
     "exception": false,
     "start_time": "2023-03-16T15:59:48.762290",
     "status": "completed"
    },
    "tags": []
   },
   "outputs": [
    {
     "data": {
      "text/html": [
       "<div>\n",
       "<style scoped>\n",
       "    .dataframe tbody tr th:only-of-type {\n",
       "        vertical-align: middle;\n",
       "    }\n",
       "\n",
       "    .dataframe tbody tr th {\n",
       "        vertical-align: top;\n",
       "    }\n",
       "\n",
       "    .dataframe thead th {\n",
       "        text-align: right;\n",
       "    }\n",
       "</style>\n",
       "<table border=\"1\" class=\"dataframe\">\n",
       "  <thead>\n",
       "    <tr style=\"text-align: right;\">\n",
       "      <th></th>\n",
       "      <th>time</th>\n",
       "      <th>tavg</th>\n",
       "      <th>tmin</th>\n",
       "      <th>tmax</th>\n",
       "      <th>prcp</th>\n",
       "      <th>wdir</th>\n",
       "      <th>wspd</th>\n",
       "      <th>pres</th>\n",
       "    </tr>\n",
       "  </thead>\n",
       "  <tbody>\n",
       "    <tr>\n",
       "      <th>0</th>\n",
       "      <td>2013-03-01</td>\n",
       "      <td>3.2</td>\n",
       "      <td>1.1</td>\n",
       "      <td>5.0</td>\n",
       "      <td>0.0</td>\n",
       "      <td>342.0</td>\n",
       "      <td>15.1</td>\n",
       "      <td>1002.7</td>\n",
       "    </tr>\n",
       "    <tr>\n",
       "      <th>1</th>\n",
       "      <td>2013-03-02</td>\n",
       "      <td>3.1</td>\n",
       "      <td>1.1</td>\n",
       "      <td>5.6</td>\n",
       "      <td>0.0</td>\n",
       "      <td>307.0</td>\n",
       "      <td>14.4</td>\n",
       "      <td>1004.2</td>\n",
       "    </tr>\n",
       "    <tr>\n",
       "      <th>2</th>\n",
       "      <td>2013-03-03</td>\n",
       "      <td>2.6</td>\n",
       "      <td>0.6</td>\n",
       "      <td>6.1</td>\n",
       "      <td>0.0</td>\n",
       "      <td>NaN</td>\n",
       "      <td>14.4</td>\n",
       "      <td>1002.6</td>\n",
       "    </tr>\n",
       "    <tr>\n",
       "      <th>3</th>\n",
       "      <td>2013-03-04</td>\n",
       "      <td>1.8</td>\n",
       "      <td>-0.6</td>\n",
       "      <td>5.0</td>\n",
       "      <td>0.0</td>\n",
       "      <td>303.0</td>\n",
       "      <td>28.1</td>\n",
       "      <td>1003.0</td>\n",
       "    </tr>\n",
       "    <tr>\n",
       "      <th>4</th>\n",
       "      <td>2013-03-05</td>\n",
       "      <td>2.9</td>\n",
       "      <td>0.0</td>\n",
       "      <td>6.1</td>\n",
       "      <td>0.0</td>\n",
       "      <td>NaN</td>\n",
       "      <td>16.6</td>\n",
       "      <td>1013.5</td>\n",
       "    </tr>\n",
       "    <tr>\n",
       "      <th>...</th>\n",
       "      <td>...</td>\n",
       "      <td>...</td>\n",
       "      <td>...</td>\n",
       "      <td>...</td>\n",
       "      <td>...</td>\n",
       "      <td>...</td>\n",
       "      <td>...</td>\n",
       "      <td>...</td>\n",
       "    </tr>\n",
       "    <tr>\n",
       "      <th>3648</th>\n",
       "      <td>2023-02-25</td>\n",
       "      <td>-7.9</td>\n",
       "      <td>-10.6</td>\n",
       "      <td>-6.7</td>\n",
       "      <td>0.3</td>\n",
       "      <td>313.0</td>\n",
       "      <td>11.9</td>\n",
       "      <td>1029.5</td>\n",
       "    </tr>\n",
       "    <tr>\n",
       "      <th>3649</th>\n",
       "      <td>2023-02-26</td>\n",
       "      <td>-4.2</td>\n",
       "      <td>-7.8</td>\n",
       "      <td>3.9</td>\n",
       "      <td>0.0</td>\n",
       "      <td>268.0</td>\n",
       "      <td>11.9</td>\n",
       "      <td>1012.6</td>\n",
       "    </tr>\n",
       "    <tr>\n",
       "      <th>3650</th>\n",
       "      <td>2023-02-27</td>\n",
       "      <td>-1.7</td>\n",
       "      <td>-2.8</td>\n",
       "      <td>-0.6</td>\n",
       "      <td>0.0</td>\n",
       "      <td>46.0</td>\n",
       "      <td>18.7</td>\n",
       "      <td>1014.9</td>\n",
       "    </tr>\n",
       "    <tr>\n",
       "      <th>3651</th>\n",
       "      <td>2023-02-28</td>\n",
       "      <td>0.6</td>\n",
       "      <td>-1.7</td>\n",
       "      <td>2.2</td>\n",
       "      <td>7.1</td>\n",
       "      <td>86.0</td>\n",
       "      <td>23.8</td>\n",
       "      <td>1010.7</td>\n",
       "    </tr>\n",
       "    <tr>\n",
       "      <th>3652</th>\n",
       "      <td>2023-03-01</td>\n",
       "      <td>2.4</td>\n",
       "      <td>0.6</td>\n",
       "      <td>5.6</td>\n",
       "      <td>0.0</td>\n",
       "      <td>12.0</td>\n",
       "      <td>14.0</td>\n",
       "      <td>1019.1</td>\n",
       "    </tr>\n",
       "  </tbody>\n",
       "</table>\n",
       "<p>3653 rows × 8 columns</p>\n",
       "</div>"
      ],
      "text/plain": [
       "           time  tavg  tmin  tmax  prcp   wdir  wspd    pres\n",
       "0    2013-03-01   3.2   1.1   5.0   0.0  342.0  15.1  1002.7\n",
       "1    2013-03-02   3.1   1.1   5.6   0.0  307.0  14.4  1004.2\n",
       "2    2013-03-03   2.6   0.6   6.1   0.0    NaN  14.4  1002.6\n",
       "3    2013-03-04   1.8  -0.6   5.0   0.0  303.0  28.1  1003.0\n",
       "4    2013-03-05   2.9   0.0   6.1   0.0    NaN  16.6  1013.5\n",
       "...         ...   ...   ...   ...   ...    ...   ...     ...\n",
       "3648 2023-02-25  -7.9 -10.6  -6.7   0.3  313.0  11.9  1029.5\n",
       "3649 2023-02-26  -4.2  -7.8   3.9   0.0  268.0  11.9  1012.6\n",
       "3650 2023-02-27  -1.7  -2.8  -0.6   0.0   46.0  18.7  1014.9\n",
       "3651 2023-02-28   0.6  -1.7   2.2   7.1   86.0  23.8  1010.7\n",
       "3652 2023-03-01   2.4   0.6   5.6   0.0   12.0  14.0  1019.1\n",
       "\n",
       "[3653 rows x 8 columns]"
      ]
     },
     "execution_count": 2,
     "metadata": {},
     "output_type": "execute_result"
    }
   ],
   "source": [
    "weather = pd.read_csv(\"/kaggle/input/boston-weather-2013-2023/boston_weather_data.csv\", parse_dates=['time'])\n",
    "weather"
   ]
  },
  {
   "cell_type": "markdown",
   "id": "101fda92",
   "metadata": {
    "papermill": {
     "duration": 0.004487,
     "end_time": "2023-03-16T15:59:48.841357",
     "exception": false,
     "start_time": "2023-03-16T15:59:48.836870",
     "status": "completed"
    },
    "tags": []
   },
   "source": [
    "## Preprocessing"
   ]
  },
  {
   "cell_type": "code",
   "execution_count": 3,
   "id": "8f745917",
   "metadata": {
    "execution": {
     "iopub.execute_input": "2023-03-16T15:59:48.853139Z",
     "iopub.status.busy": "2023-03-16T15:59:48.852012Z",
     "iopub.status.idle": "2023-03-16T15:59:48.911553Z",
     "shell.execute_reply": "2023-03-16T15:59:48.909963Z"
    },
    "papermill": {
     "duration": 0.068763,
     "end_time": "2023-03-16T15:59:48.914773",
     "exception": false,
     "start_time": "2023-03-16T15:59:48.846010",
     "status": "completed"
    },
    "tags": []
   },
   "outputs": [],
   "source": [
    "# Renaming columns for more clarity\n",
    "weather = weather.rename(columns={\"time\":\"date\", \"tavg\":\"temp_avg\",\n",
    "                        \"tmin\":\"temp_min\", \"tmax\":\"temp_max\", \n",
    "                        \"prcp\":\"precip\", \"wdir\":\"wind_dir\", \n",
    "                        \"wspd\":\"wind_spd\", \"pres\":\"pressure\"})\n",
    "\n",
    "# Removing 2013 and 2023 data since it does not include the full year\n",
    "weather = weather.query('date >= 2014 and date < 2023').copy().reset_index(drop=True)\n",
    "\n",
    "# Adding date and month columns\n",
    "weather['year'] = weather.date.dt.strftime('%Y')\n",
    "weather['month'] = weather.date.dt.strftime('%b')"
   ]
  },
  {
   "cell_type": "markdown",
   "id": "6c7a5a59",
   "metadata": {
    "papermill": {
     "duration": 0.004353,
     "end_time": "2023-03-16T15:59:48.923826",
     "exception": false,
     "start_time": "2023-03-16T15:59:48.919473",
     "status": "completed"
    },
    "tags": []
   },
   "source": [
    "## Exploring data"
   ]
  },
  {
   "cell_type": "code",
   "execution_count": 4,
   "id": "13716b31",
   "metadata": {
    "execution": {
     "iopub.execute_input": "2023-03-16T15:59:48.935033Z",
     "iopub.status.busy": "2023-03-16T15:59:48.934598Z",
     "iopub.status.idle": "2023-03-16T15:59:48.977505Z",
     "shell.execute_reply": "2023-03-16T15:59:48.976004Z"
    },
    "papermill": {
     "duration": 0.051803,
     "end_time": "2023-03-16T15:59:48.980270",
     "exception": false,
     "start_time": "2023-03-16T15:59:48.928467",
     "status": "completed"
    },
    "tags": []
   },
   "outputs": [
    {
     "data": {
      "text/html": [
       "<div>\n",
       "<style scoped>\n",
       "    .dataframe tbody tr th:only-of-type {\n",
       "        vertical-align: middle;\n",
       "    }\n",
       "\n",
       "    .dataframe tbody tr th {\n",
       "        vertical-align: top;\n",
       "    }\n",
       "\n",
       "    .dataframe thead th {\n",
       "        text-align: right;\n",
       "    }\n",
       "</style>\n",
       "<table border=\"1\" class=\"dataframe\">\n",
       "  <thead>\n",
       "    <tr style=\"text-align: right;\">\n",
       "      <th></th>\n",
       "      <th>temp_avg</th>\n",
       "      <th>temp_min</th>\n",
       "      <th>temp_max</th>\n",
       "      <th>precip</th>\n",
       "      <th>wind_dir</th>\n",
       "      <th>wind_spd</th>\n",
       "      <th>pressure</th>\n",
       "    </tr>\n",
       "  </thead>\n",
       "  <tbody>\n",
       "    <tr>\n",
       "      <th>count</th>\n",
       "      <td>3287.000000</td>\n",
       "      <td>3287.000000</td>\n",
       "      <td>3287.000000</td>\n",
       "      <td>3287.000000</td>\n",
       "      <td>2848.000000</td>\n",
       "      <td>3287.000000</td>\n",
       "      <td>3147.000000</td>\n",
       "    </tr>\n",
       "    <tr>\n",
       "      <th>mean</th>\n",
       "      <td>11.556343</td>\n",
       "      <td>7.518375</td>\n",
       "      <td>15.878156</td>\n",
       "      <td>2.949498</td>\n",
       "      <td>199.455407</td>\n",
       "      <td>17.652449</td>\n",
       "      <td>1016.514426</td>\n",
       "    </tr>\n",
       "    <tr>\n",
       "      <th>std</th>\n",
       "      <td>9.605537</td>\n",
       "      <td>9.429885</td>\n",
       "      <td>10.263156</td>\n",
       "      <td>7.483538</td>\n",
       "      <td>100.258041</td>\n",
       "      <td>6.052148</td>\n",
       "      <td>7.791432</td>\n",
       "    </tr>\n",
       "    <tr>\n",
       "      <th>min</th>\n",
       "      <td>-17.700000</td>\n",
       "      <td>-22.700000</td>\n",
       "      <td>-12.100000</td>\n",
       "      <td>0.000000</td>\n",
       "      <td>0.000000</td>\n",
       "      <td>2.500000</td>\n",
       "      <td>983.900000</td>\n",
       "    </tr>\n",
       "    <tr>\n",
       "      <th>25%</th>\n",
       "      <td>3.900000</td>\n",
       "      <td>0.600000</td>\n",
       "      <td>7.200000</td>\n",
       "      <td>0.000000</td>\n",
       "      <td>109.000000</td>\n",
       "      <td>13.300000</td>\n",
       "      <td>1011.450000</td>\n",
       "    </tr>\n",
       "    <tr>\n",
       "      <th>50%</th>\n",
       "      <td>11.500000</td>\n",
       "      <td>7.800000</td>\n",
       "      <td>15.600000</td>\n",
       "      <td>0.000000</td>\n",
       "      <td>225.000000</td>\n",
       "      <td>16.600000</td>\n",
       "      <td>1016.400000</td>\n",
       "    </tr>\n",
       "    <tr>\n",
       "      <th>75%</th>\n",
       "      <td>19.900000</td>\n",
       "      <td>15.850000</td>\n",
       "      <td>24.400000</td>\n",
       "      <td>1.500000</td>\n",
       "      <td>278.000000</td>\n",
       "      <td>21.200000</td>\n",
       "      <td>1021.600000</td>\n",
       "    </tr>\n",
       "    <tr>\n",
       "      <th>max</th>\n",
       "      <td>32.300000</td>\n",
       "      <td>28.300000</td>\n",
       "      <td>37.800000</td>\n",
       "      <td>73.700000</td>\n",
       "      <td>360.000000</td>\n",
       "      <td>61.200000</td>\n",
       "      <td>1042.400000</td>\n",
       "    </tr>\n",
       "  </tbody>\n",
       "</table>\n",
       "</div>"
      ],
      "text/plain": [
       "          temp_avg     temp_min     temp_max       precip     wind_dir  \\\n",
       "count  3287.000000  3287.000000  3287.000000  3287.000000  2848.000000   \n",
       "mean     11.556343     7.518375    15.878156     2.949498   199.455407   \n",
       "std       9.605537     9.429885    10.263156     7.483538   100.258041   \n",
       "min     -17.700000   -22.700000   -12.100000     0.000000     0.000000   \n",
       "25%       3.900000     0.600000     7.200000     0.000000   109.000000   \n",
       "50%      11.500000     7.800000    15.600000     0.000000   225.000000   \n",
       "75%      19.900000    15.850000    24.400000     1.500000   278.000000   \n",
       "max      32.300000    28.300000    37.800000    73.700000   360.000000   \n",
       "\n",
       "          wind_spd     pressure  \n",
       "count  3287.000000  3147.000000  \n",
       "mean     17.652449  1016.514426  \n",
       "std       6.052148     7.791432  \n",
       "min       2.500000   983.900000  \n",
       "25%      13.300000  1011.450000  \n",
       "50%      16.600000  1016.400000  \n",
       "75%      21.200000  1021.600000  \n",
       "max      61.200000  1042.400000  "
      ]
     },
     "execution_count": 4,
     "metadata": {},
     "output_type": "execute_result"
    }
   ],
   "source": [
    "weather.describe()"
   ]
  },
  {
   "cell_type": "code",
   "execution_count": 5,
   "id": "4f8c4019",
   "metadata": {
    "execution": {
     "iopub.execute_input": "2023-03-16T15:59:48.992600Z",
     "iopub.status.busy": "2023-03-16T15:59:48.991876Z",
     "iopub.status.idle": "2023-03-16T15:59:49.018791Z",
     "shell.execute_reply": "2023-03-16T15:59:49.017019Z"
    },
    "papermill": {
     "duration": 0.037478,
     "end_time": "2023-03-16T15:59:49.022895",
     "exception": false,
     "start_time": "2023-03-16T15:59:48.985417",
     "status": "completed"
    },
    "tags": []
   },
   "outputs": [
    {
     "name": "stdout",
     "output_type": "stream",
     "text": [
      "The highest temperature was 37.8 and the lowest temperature was -22.7.\n"
     ]
    },
    {
     "data": {
      "text/html": [
       "<div>\n",
       "<style scoped>\n",
       "    .dataframe tbody tr th:only-of-type {\n",
       "        vertical-align: middle;\n",
       "    }\n",
       "\n",
       "    .dataframe tbody tr th {\n",
       "        vertical-align: top;\n",
       "    }\n",
       "\n",
       "    .dataframe thead th {\n",
       "        text-align: right;\n",
       "    }\n",
       "</style>\n",
       "<table border=\"1\" class=\"dataframe\">\n",
       "  <thead>\n",
       "    <tr style=\"text-align: right;\">\n",
       "      <th></th>\n",
       "      <th>date</th>\n",
       "      <th>temp_avg</th>\n",
       "      <th>temp_min</th>\n",
       "      <th>temp_max</th>\n",
       "      <th>precip</th>\n",
       "      <th>wind_dir</th>\n",
       "      <th>wind_spd</th>\n",
       "      <th>pressure</th>\n",
       "      <th>year</th>\n",
       "      <th>month</th>\n",
       "    </tr>\n",
       "  </thead>\n",
       "  <tbody>\n",
       "    <tr>\n",
       "      <th>774</th>\n",
       "      <td>2016-02-14</td>\n",
       "      <td>-17.7</td>\n",
       "      <td>-22.7</td>\n",
       "      <td>-11.0</td>\n",
       "      <td>0.0</td>\n",
       "      <td>297.0</td>\n",
       "      <td>27.7</td>\n",
       "      <td>1027.8</td>\n",
       "      <td>2016</td>\n",
       "      <td>Feb</td>\n",
       "    </tr>\n",
       "    <tr>\n",
       "      <th>2737</th>\n",
       "      <td>2021-06-30</td>\n",
       "      <td>31.0</td>\n",
       "      <td>22.2</td>\n",
       "      <td>37.8</td>\n",
       "      <td>4.1</td>\n",
       "      <td>237.0</td>\n",
       "      <td>15.8</td>\n",
       "      <td>1013.6</td>\n",
       "      <td>2021</td>\n",
       "      <td>Jun</td>\n",
       "    </tr>\n",
       "    <tr>\n",
       "      <th>3126</th>\n",
       "      <td>2022-07-24</td>\n",
       "      <td>30.6</td>\n",
       "      <td>22.2</td>\n",
       "      <td>37.8</td>\n",
       "      <td>0.0</td>\n",
       "      <td>215.0</td>\n",
       "      <td>21.2</td>\n",
       "      <td>1013.3</td>\n",
       "      <td>2022</td>\n",
       "      <td>Jul</td>\n",
       "    </tr>\n",
       "  </tbody>\n",
       "</table>\n",
       "</div>"
      ],
      "text/plain": [
       "           date  temp_avg  temp_min  temp_max  precip  wind_dir  wind_spd  \\\n",
       "774  2016-02-14     -17.7     -22.7     -11.0     0.0     297.0      27.7   \n",
       "2737 2021-06-30      31.0      22.2      37.8     4.1     237.0      15.8   \n",
       "3126 2022-07-24      30.6      22.2      37.8     0.0     215.0      21.2   \n",
       "\n",
       "      pressure  year month  \n",
       "774     1027.8  2016   Feb  \n",
       "2737    1013.6  2021   Jun  \n",
       "3126    1013.3  2022   Jul  "
      ]
     },
     "execution_count": 5,
     "metadata": {},
     "output_type": "execute_result"
    }
   ],
   "source": [
    "print(f\"The highest temperature was {max(weather['temp_max'])} and the lowest temperature was {min(weather['temp_min'])}.\")\n",
    "weather.query('temp_max == 37.8 or temp_min == -22.7')"
   ]
  },
  {
   "cell_type": "code",
   "execution_count": 6,
   "id": "4e8fbb31",
   "metadata": {
    "execution": {
     "iopub.execute_input": "2023-03-16T15:59:49.040003Z",
     "iopub.status.busy": "2023-03-16T15:59:49.039592Z",
     "iopub.status.idle": "2023-03-16T15:59:49.057645Z",
     "shell.execute_reply": "2023-03-16T15:59:49.056463Z"
    },
    "papermill": {
     "duration": 0.030017,
     "end_time": "2023-03-16T15:59:49.060215",
     "exception": false,
     "start_time": "2023-03-16T15:59:49.030198",
     "status": "completed"
    },
    "tags": []
   },
   "outputs": [],
   "source": [
    "# Creating average temperature dfs for later plotting\n",
    "avg_temp = weather.groupby(['year', 'month'],sort=False).mean()[['temp_avg', 'temp_min', 'temp_max']].reset_index()\n",
    "avg_temp_monthly = avg_temp.groupby('month', sort=False).mean().reset_index()"
   ]
  },
  {
   "cell_type": "markdown",
   "id": "04cd3204",
   "metadata": {
    "papermill": {
     "duration": 0.004948,
     "end_time": "2023-03-16T15:59:49.070484",
     "exception": false,
     "start_time": "2023-03-16T15:59:49.065536",
     "status": "completed"
    },
    "tags": []
   },
   "source": [
    "## Visualizations"
   ]
  },
  {
   "cell_type": "code",
   "execution_count": 7,
   "id": "6d3b24e9",
   "metadata": {
    "execution": {
     "iopub.execute_input": "2023-03-16T15:59:49.083319Z",
     "iopub.status.busy": "2023-03-16T15:59:49.082555Z",
     "iopub.status.idle": "2023-03-16T15:59:49.402656Z",
     "shell.execute_reply": "2023-03-16T15:59:49.401460Z"
    },
    "papermill": {
     "duration": 0.329434,
     "end_time": "2023-03-16T15:59:49.405172",
     "exception": false,
     "start_time": "2023-03-16T15:59:49.075738",
     "status": "completed"
    },
    "tags": []
   },
   "outputs": [
    {
     "data": {
      "image/png": "[encoded data removed]",
      "text/plain": [
       "<Figure size 640x480 with 1 Axes>"
      ]
     },
     "metadata": {},
     "output_type": "display_data"
    }
   ],
   "source": [
    "avg_temp.groupby('month', sort=False).mean().plot()\n",
    "plt.xlabel('Month')\n",
    "plt.ylabel('Temperature')\n",
    "plt.title('Max, min, avg temperatures each month in Boston 2014-2022')\n",
    "plt.show()"
   ]
  },
  {
   "cell_type": "code",
   "execution_count": 8,
   "id": "c8a1394b",
   "metadata": {
    "execution": {
     "iopub.execute_input": "2023-03-16T15:59:49.420194Z",
     "iopub.status.busy": "2023-03-16T15:59:49.419045Z",
     "iopub.status.idle": "2023-03-16T15:59:49.645862Z",
     "shell.execute_reply": "2023-03-16T15:59:49.644599Z"
    },
    "papermill": {
     "duration": 0.237063,
     "end_time": "2023-03-16T15:59:49.648666",
     "exception": false,
     "start_time": "2023-03-16T15:59:49.411603",
     "status": "completed"
    },
    "tags": []
   },
   "outputs": [
    {
     "data": {
      "image/png": "[encoded data removed]",
      "text/plain": [
       "<Figure size 640x480 with 1 Axes>"
      ]
     },
     "metadata": {},
     "output_type": "display_data"
    }
   ],
   "source": [
    "avg_temp.groupby('year', sort=False).mean().plot()\n",
    "plt.ylabel('Temperature')\n",
    "plt.xlabel('Year')\n",
    "plt.title('Max, min, avg temperatures each year in Boston 2014-2022')\n",
    "plt.legend(loc=(0.7, 0.7))\n",
    "plt.show()"
   ]
  },
  {
   "cell_type": "code",
   "execution_count": 9,
   "id": "e5d98676",
   "metadata": {
    "execution": {
     "iopub.execute_input": "2023-03-16T15:59:49.665160Z",
     "iopub.status.busy": "2023-03-16T15:59:49.664382Z",
     "iopub.status.idle": "2023-03-16T15:59:51.433728Z",
     "shell.execute_reply": "2023-03-16T15:59:51.432383Z"
    },
    "papermill": {
     "duration": 1.780946,
     "end_time": "2023-03-16T15:59:51.436734",
     "exception": false,
     "start_time": "2023-03-16T15:59:49.655788",
     "status": "completed"
    },
    "tags": []
   },
   "outputs": [],
   "source": [
    "# More imports\n",
    "import plotly.express as px\n",
    "import plotly.graph_objects as go\n",
    "from plotly.subplots import make_subplots"
   ]
  },
  {
   "cell_type": "code",
   "execution_count": 10,
   "id": "24447bf6",
   "metadata": {
    "execution": {
     "iopub.execute_input": "2023-03-16T15:59:51.453104Z",
     "iopub.status.busy": "2023-03-16T15:59:51.452190Z",
     "iopub.status.idle": "2023-03-16T15:59:51.789259Z",
     "shell.execute_reply": "2023-03-16T15:59:51.787901Z"
    },
    "papermill": {
     "duration": 0.348234,
     "end_time": "2023-03-16T15:59:51.792024",
     "exception": false,
     "start_time": "2023-03-16T15:59:51.443790",
     "status": "completed"
    },
    "tags": []
   },
   "outputs": [
    {
     "data": {
      "text/html": [
       "        <script type=\"text/javascript\">\n",
       "        window.PlotlyConfig = {MathJaxConfig: 'local'};\n",
       "        if (window.MathJax && window.MathJax.Hub && window.MathJax.Hub.Config) {window.MathJax.Hub.Config({SVG: {font: \"STIX-Web\"}});}\n",
       "        if (typeof require !== 'undefined') {\n",
       "        require.undef(\"plotly\");\n",
       "        requirejs.config({\n",
       "            paths: {\n",
       "                'plotly': ['https://cdn.plot.ly/plotly-2.18.0.min']\n",
       "            }\n",
       "        });\n",
       "        require(['plotly'], function(Plotly) {\n",
       "            window._Plotly = Plotly;\n",
       "        });\n",
       "        }\n",
       "        </script>\n",
       "        "
      ]
     },
     "metadata": {},
     "output_type": "display_data"
    },
    {
     "data": {
      "text/html": [
       "<div>                            <div id=\"a5a23410-80c6-46a7-bda4-02795f83a988\" class=\"plotly-graph-div\" style=\"height:525px; width:100%;\"></div>            <script type=\"text/javascript\">                require([\"plotly\"], function(Plotly) {                    window.PLOTLYENV=window.PLOTLYENV || {};                                    if (document.getElementById(\"a5a23410-80c6-46a7-bda4-02795f83a988\")) {                    Plotly.newPlot(                        \"a5a23410-80c6-46a7-bda4-02795f83a988\",                        [{\"name\":\"Average temperature\",\"x\":[\"Jan\",\"Feb\",\"Mar\",\"Apr\",\"May\",\"Jun\",\"Jul\",\"Aug\",\"Sep\",\"Oct\",\"Nov\",\"Dec\"],\"y\":[-0.6121863799283154,0.27776409414340447,3.3616487455197137,8.995555555555557,14.86810035842294,20.124814814814815,23.740143369175627,23.459856630824373,19.582592592592594,13.64910394265233,7.495925925925927,3.0290322580645164],\"type\":\"scatter\"},{\"name\":\"Maximum temperature\",\"x\":[\"Jan\",\"Feb\",\"Mar\",\"Apr\",\"May\",\"Jun\",\"Jul\",\"Aug\",\"Sep\",\"Oct\",\"Nov\",\"Dec\"],\"y\":[3.256989247311828,4.596661193212917,7.793906810035842,13.453703703703704,19.86344086021505,24.992592592592594,28.345878136200717,28.06523297491039,23.842592592592595,17.56989247311828,11.505555555555555,6.5562724014336915],\"type\":\"bar\"},{\"name\":\"Minimum temperature\",\"x\":[\"Jan\",\"Feb\",\"Mar\",\"Apr\",\"May\",\"Jun\",\"Jul\",\"Aug\",\"Sep\",\"Oct\",\"Nov\",\"Dec\"],\"y\":[-4.543010752688172,-3.947112753147236,-0.7326164874551971,4.988148148148148,10.578136200716846,15.78037037037037,19.61075268817204,19.465232974910393,15.602962962962964,9.856272401433692,3.365185185185185,-0.5329749103942653],\"type\":\"bar\"}],                        {\"template\":{\"data\":{\"histogram2dcontour\":[{\"type\":\"histogram2dcontour\",\"colorbar\":{\"outlinewidth\":0,\"ticks\":\"\"},\"colorscale\":[[0.0,\"#0d0887\"],[0.1111111111111111,\"#46039f\"],[0.2222222222222222,\"#7201a8\"],[0.3333333333333333,\"#9c179e\"],[0.4444444444444444,\"#bd3786\"],[0.5555555555555556,\"#d8576b\"],[0.6666666666666666,\"#ed7953\"],[0.7777777777777778,\"#fb9f3a\"],[0.8888888888888888,\"#fdca26\"],[1.0,\"#f0f921\"]]}],\"choropleth\":[{\"type\":\"choropleth\",\"colorbar\":{\"outlinewidth\":0,\"ticks\":\"\"}}],\"histogram2d\":[{\"type\":\"histogram2d\",\"colorbar\":{\"outlinewidth\":0,\"ticks\":\"\"},\"colorscale\":[[0.0,\"#0d0887\"],[0.1111111111111111,\"#46039f\"],[0.2222222222222222,\"#7201a8\"],[0.3333333333333333,\"#9c179e\"],[0.4444444444444444,\"#bd3786\"],[0.5555555555555556,\"#d8576b\"],[0.6666666666666666,\"#ed7953\"],[0.7777777777777778,\"#fb9f3a\"],[0.8888888888888888,\"#fdca26\"],[1.0,\"#f0f921\"]]}],\"heatmap\":[{\"type\":\"heatmap\",\"colorbar\":{\"outlinewidth\":0,\"ticks\":\"\"},\"colorscale\":[[0.0,\"#0d0887\"],[0.1111111111111111,\"#46039f\"],[0.2222222222222222,\"#7201a8\"],[0.3333333333333333,\"#9c179e\"],[0.4444444444444444,\"#bd3786\"],[0.5555555555555556,\"#d8576b\"],[0.6666666666666666,\"#ed7953\"],[0.7777777777777778,\"#fb9f3a\"],[0.8888888888888888,\"#fdca26\"],[1.0,\"#f0f921\"]]}],\"heatmapgl\":[{\"type\":\"heatmapgl\",\"colorbar\":{\"outlinewidth\":0,\"ticks\":\"\"},\"colorscale\":[[0.0,\"#0d0887\"],[0.1111111111111111,\"#46039f\"],[0.2222222222222222,\"#7201a8\"],[0.3333333333333333,\"#9c179e\"],[0.4444444444444444,\"#bd3786\"],[0.5555555555555556,\"#d8576b\"],[0.6666666666666666,\"#ed7953\"],[0.7777777777777778,\"#fb9f3a\"],[0.8888888888888888,\"#fdca26\"],[1.0,\"#f0f921\"]]}],\"contourcarpet\":[{\"type\":\"contourcarpet\",\"colorbar\":{\"outlinewidth\":0,\"ticks\":\"\"}}],\"contour\":[{\"type\":\"contour\",\"colorbar\":{\"outlinewidth\":0,\"ticks\":\"\"},\"colorscale\":[[0.0,\"#0d0887\"],[0.1111111111111111,\"#46039f\"],[0.2222222222222222,\"#7201a8\"],[0.3333333333333333,\"#9c179e\"],[0.4444444444444444,\"#bd3786\"],[0.5555555555555556,\"#d8576b\"],[0.6666666666666666,\"#ed7953\"],[0.7777777777777778,\"#fb9f3a\"],[0.8888888888888888,\"#fdca26\"],[1.0,\"#f0f921\"]]}],\"surface\":[{\"type\":\"surface\",\"colorbar\":{\"outlinewidth\":0,\"ticks\":\"\"},\"colorscale\":[[0.0,\"#0d0887\"],[0.1111111111111111,\"#46039f\"],[0.2222222222222222,\"#7201a8\"],[0.3333333333333333,\"#9c179e\"],[0.4444444444444444,\"#bd3786\"],[0.5555555555555556,\"#d8576b\"],[0.6666666666666666,\"#ed7953\"],[0.7777777777777778,\"#fb9f3a\"],[0.8888888888888888,\"#fdca26\"],[1.0,\"#f0f921\"]]}],\"mesh3d\":[{\"type\":\"mesh3d\",\"colorbar\":{\"outlinewidth\":0,\"ticks\":\"\"}}],\"scatter\":[{\"fillpattern\":{\"fillmode\":\"overlay\",\"size\":10,\"solidity\":0.2},\"type\":\"scatter\"}],\"parcoords\":[{\"type\":\"parcoords\",\"line\":{\"colorbar\":{\"outlinewidth\":0,\"ticks\":\"\"}}}],\"scatterpolargl\":[{\"type\":\"scatterpolargl\",\"marker\":{\"colorbar\":{\"outlinewidth\":0,\"ticks\":\"\"}}}],\"bar\":[{\"error_x\":{\"color\":\"#2a3f5f\"},\"error_y\":{\"color\":\"#2a3f5f\"},\"marker\":{\"line\":{\"color\":\"#E5ECF6\",\"width\":0.5},\"pattern\":{\"fillmode\":\"overlay\",\"size\":10,\"solidity\":0.2}},\"type\":\"bar\"}],\"scattergeo\":[{\"type\":\"scattergeo\",\"marker\":{\"colorbar\":{\"outlinewidth\":0,\"ticks\":\"\"}}}],\"scatterpolar\":[{\"type\":\"scatterpolar\",\"marker\":{\"colorbar\":{\"outlinewidth\":0,\"ticks\":\"\"}}}],\"histogram\":[{\"marker\":{\"pattern\":{\"fillmode\":\"overlay\",\"size\":10,\"solidity\":0.2}},\"type\":\"histogram\"}],\"scattergl\":[{\"type\":\"scattergl\",\"marker\":{\"colorbar\":{\"outlinewidth\":0,\"ticks\":\"\"}}}],\"scatter3d\":[{\"type\":\"scatter3d\",\"line\":{\"colorbar\":{\"outlinewidth\":0,\"ticks\":\"\"}},\"marker\":{\"colorbar\":{\"outlinewidth\":0,\"ticks\":\"\"}}}],\"scattermapbox\":[{\"type\":\"scattermapbox\",\"marker\":{\"colorbar\":{\"outlinewidth\":0,\"ticks\":\"\"}}}],\"scatterternary\":[{\"type\":\"scatterternary\",\"marker\":{\"colorbar\":{\"outlinewidth\":0,\"ticks\":\"\"}}}],\"scattercarpet\":[{\"type\":\"scattercarpet\",\"marker\":{\"colorbar\":{\"outlinewidth\":0,\"ticks\":\"\"}}}],\"carpet\":[{\"aaxis\":{\"endlinecolor\":\"#2a3f5f\",\"gridcolor\":\"white\",\"linecolor\":\"white\",\"minorgridcolor\":\"white\",\"startlinecolor\":\"#2a3f5f\"},\"baxis\":{\"endlinecolor\":\"#2a3f5f\",\"gridcolor\":\"white\",\"linecolor\":\"white\",\"minorgridcolor\":\"white\",\"startlinecolor\":\"#2a3f5f\"},\"type\":\"carpet\"}],\"table\":[{\"cells\":{\"fill\":{\"color\":\"#EBF0F8\"},\"line\":{\"color\":\"white\"}},\"header\":{\"fill\":{\"color\":\"#C8D4E3\"},\"line\":{\"color\":\"white\"}},\"type\":\"table\"}],\"barpolar\":[{\"marker\":{\"line\":{\"color\":\"#E5ECF6\",\"width\":0.5},\"pattern\":{\"fillmode\":\"overlay\",\"size\":10,\"solidity\":0.2}},\"type\":\"barpolar\"}],\"pie\":[{\"automargin\":true,\"type\":\"pie\"}]},\"layout\":{\"autotypenumbers\":\"strict\",\"colorway\":[\"#636efa\",\"#EF553B\",\"#00cc96\",\"#ab63fa\",\"#FFA15A\",\"#19d3f3\",\"#FF6692\",\"#B6E880\",\"#FF97FF\",\"#FECB52\"],\"font\":{\"color\":\"#2a3f5f\"},\"hovermode\":\"closest\",\"hoverlabel\":{\"align\":\"left\"},\"paper_bgcolor\":\"white\",\"plot_bgcolor\":\"#E5ECF6\",\"polar\":{\"bgcolor\":\"#E5ECF6\",\"angularaxis\":{\"gridcolor\":\"white\",\"linecolor\":\"white\",\"ticks\":\"\"},\"radialaxis\":{\"gridcolor\":\"white\",\"linecolor\":\"white\",\"ticks\":\"\"}},\"ternary\":{\"bgcolor\":\"#E5ECF6\",\"aaxis\":{\"gridcolor\":\"white\",\"linecolor\":\"white\",\"ticks\":\"\"},\"baxis\":{\"gridcolor\":\"white\",\"linecolor\":\"white\",\"ticks\":\"\"},\"caxis\":{\"gridcolor\":\"white\",\"linecolor\":\"white\",\"ticks\":\"\"}},\"coloraxis\":{\"colorbar\":{\"outlinewidth\":0,\"ticks\":\"\"}},\"colorscale\":{\"sequential\":[[0.0,\"#0d0887\"],[0.1111111111111111,\"#46039f\"],[0.2222222222222222,\"#7201a8\"],[0.3333333333333333,\"#9c179e\"],[0.4444444444444444,\"#bd3786\"],[0.5555555555555556,\"#d8576b\"],[0.6666666666666666,\"#ed7953\"],[0.7777777777777778,\"#fb9f3a\"],[0.8888888888888888,\"#fdca26\"],[1.0,\"#f0f921\"]],\"sequentialminus\":[[0.0,\"#0d0887\"],[0.1111111111111111,\"#46039f\"],[0.2222222222222222,\"#7201a8\"],[0.3333333333333333,\"#9c179e\"],[0.4444444444444444,\"#bd3786\"],[0.5555555555555556,\"#d8576b\"],[0.6666666666666666,\"#ed7953\"],[0.7777777777777778,\"#fb9f3a\"],[0.8888888888888888,\"#fdca26\"],[1.0,\"#f0f921\"]],\"diverging\":[[0,\"#8e0152\"],[0.1,\"#c51b7d\"],[0.2,\"#de77ae\"],[0.3,\"#f1b6da\"],[0.4,\"#fde0ef\"],[0.5,\"#f7f7f7\"],[0.6,\"#e6f5d0\"],[0.7,\"#b8e186\"],[0.8,\"#7fbc41\"],[0.9,\"#4d9221\"],[1,\"#276419\"]]},\"xaxis\":{\"gridcolor\":\"white\",\"linecolor\":\"white\",\"ticks\":\"\",\"title\":{\"standoff\":15},\"zerolinecolor\":\"white\",\"automargin\":true,\"zerolinewidth\":2},\"yaxis\":{\"gridcolor\":\"white\",\"linecolor\":\"white\",\"ticks\":\"\",\"title\":{\"standoff\":15},\"zerolinecolor\":\"white\",\"automargin\":true,\"zerolinewidth\":2},\"scene\":{\"xaxis\":{\"backgroundcolor\":\"#E5ECF6\",\"gridcolor\":\"white\",\"linecolor\":\"white\",\"showbackground\":true,\"ticks\":\"\",\"zerolinecolor\":\"white\",\"gridwidth\":2},\"yaxis\":{\"backgroundcolor\":\"#E5ECF6\",\"gridcolor\":\"white\",\"linecolor\":\"white\",\"showbackground\":true,\"ticks\":\"\",\"zerolinecolor\":\"white\",\"gridwidth\":2},\"zaxis\":{\"backgroundcolor\":\"#E5ECF6\",\"gridcolor\":\"white\",\"linecolor\":\"white\",\"showbackground\":true,\"ticks\":\"\",\"zerolinecolor\":\"white\",\"gridwidth\":2}},\"shapedefaults\":{\"line\":{\"color\":\"#2a3f5f\"}},\"annotationdefaults\":{\"arrowcolor\":\"#2a3f5f\",\"arrowhead\":0,\"arrowwidth\":1},\"geo\":{\"bgcolor\":\"white\",\"landcolor\":\"#E5ECF6\",\"subunitcolor\":\"white\",\"showland\":true,\"showlakes\":true,\"lakecolor\":\"white\"},\"title\":{\"x\":0.05},\"mapbox\":{\"style\":\"light\"}}},\"title\":{\"text\":\"Monthly temperatures in Boston 2014-2022\"},\"xaxis\":{\"title\":{\"text\":\"Month\"}},\"yaxis\":{\"title\":{\"text\":\"Temperature (C)\"}}},                        {\"responsive\": true}                    ).then(function(){\n",
       "                            \n",
       "var gd = document.getElementById('a5a23410-80c6-46a7-bda4-02795f83a988');\n",
       "var x = new MutationObserver(function (mutations, observer) {{\n",
       "        var display = window.getComputedStyle(gd).display;\n",
       "        if (!display || display === 'none') {{\n",
       "            console.log([gd, 'removed!']);\n",
       "            Plotly.purge(gd);\n",
       "            observer.disconnect();\n",
       "        }}\n",
       "}});\n",
       "\n",
       "// Listen for the removal of the full notebook cells\n",
       "var notebookContainer = gd.closest('#notebook-container');\n",
       "if (notebookContainer) {{\n",
       "    x.observe(notebookContainer, {childList: true});\n",
       "}}\n",
       "\n",
       "// Listen for the clearing of the current output cell\n",
       "var outputEl = gd.closest('.output');\n",
       "if (outputEl) {{\n",
       "    x.observe(outputEl, {childList: true});\n",
       "}}\n",
       "\n",
       "                        })                };                });            </script>        </div>"
      ]
     },
     "metadata": {},
     "output_type": "display_data"
    }
   ],
   "source": [
    "# Create figure\n",
    "fig = go.Figure()\n",
    "\n",
    "# Add plot 1 \n",
    "fig.add_trace(\n",
    "    go.Scatter(\n",
    "        x=avg_temp_monthly['month'],\n",
    "        y=avg_temp_monthly['temp_avg'],\n",
    "        name=\"Average temperature\"\n",
    "    ))\n",
    "\n",
    "# Add plot 2\n",
    "fig.add_trace(\n",
    "    go.Bar(\n",
    "        x=avg_temp_monthly['month'],\n",
    "        y=avg_temp_monthly['temp_max'],\n",
    "        name=\"Maximum temperature\"\n",
    "    ))\n",
    "\n",
    "# Add plot 3\n",
    "fig.add_trace(\n",
    "    go.Bar(\n",
    "        x=avg_temp_monthly['month'],\n",
    "        y=avg_temp_monthly['temp_min'],\n",
    "        name=\"Minimum temperature\"\n",
    "    ))\n",
    "\n",
    "# Add labels and title\n",
    "fig.update_layout(\n",
    "    title=\"Monthly temperatures in Boston 2014-2022\",\n",
    "    xaxis_title=\"Month\",\n",
    "    yaxis_title=\"Temperature (C)\",\n",
    "    )\n",
    "\n",
    "# Reveal the beauty \n",
    "fig.show()"
   ]
  },
  {
   "cell_type": "code",
   "execution_count": 11,
   "id": "471048f6",
   "metadata": {
    "execution": {
     "iopub.execute_input": "2023-03-16T15:59:51.808435Z",
     "iopub.status.busy": "2023-03-16T15:59:51.808012Z",
     "iopub.status.idle": "2023-03-16T15:59:52.061728Z",
     "shell.execute_reply": "2023-03-16T15:59:52.060455Z"
    },
    "papermill": {
     "duration": 0.264927,
     "end_time": "2023-03-16T15:59:52.064327",
     "exception": false,
     "start_time": "2023-03-16T15:59:51.799400",
     "status": "completed"
    },
    "tags": []
   },
   "outputs": [
    {
     "data": {
      "text/html": [
       "<div>                            <div id=\"9e6a75a7-6801-47c2-96b9-74e486167570\" class=\"plotly-graph-div\" style=\"height:525px; width:100%;\"></div>            <script type=\"text/javascript\">                require([\"plotly\"], function(Plotly) {                    window.PLOTLYENV=window.PLOTLYENV || {};                                    if (document.getElementById(\"9e6a75a7-6801-47c2-96b9-74e486167570\")) {                    Plotly.newPlot(                        \"9e6a75a7-6801-47c2-96b9-74e486167570\",                        [{\"name\":\"Average temperature <b>(°C)</b>\",\"x\":[\"Jan\",\"Feb\",\"Mar\",\"Apr\",\"May\",\"Jun\",\"Jul\",\"Aug\",\"Sep\",\"Oct\",\"Nov\",\"Dec\"],\"y\":[-0.6121863799283154,0.27776409414340447,3.3616487455197137,8.995555555555557,14.86810035842294,20.124814814814815,23.740143369175627,23.459856630824373,19.582592592592594,13.64910394265233,7.495925925925927,3.0290322580645164],\"type\":\"bar\"},{\"name\":\"Precipitation <b>(mm)</b>\",\"x\":[\"Jan\",\"Feb\",\"Mar\",\"Apr\",\"May\",\"Jun\",\"Jul\",\"Aug\",\"Sep\",\"Oct\",\"Nov\",\"Dec\"],\"y\":[2.6053763440860216,3.3106299212598422,2.854480286738351,3.425185185185185,2.1910394265232975,2.775925925925926,3.1487455197132617,2.3806451612903228,2.6444444444444444,3.6240143369175626,3.077037037037037,3.392831541218638],\"type\":\"scatter\",\"xaxis\":\"x\",\"yaxis\":\"y2\"}],                        {\"template\":{\"data\":{\"histogram2dcontour\":[{\"type\":\"histogram2dcontour\",\"colorbar\":{\"outlinewidth\":0,\"ticks\":\"\"},\"colorscale\":[[0.0,\"#0d0887\"],[0.1111111111111111,\"#46039f\"],[0.2222222222222222,\"#7201a8\"],[0.3333333333333333,\"#9c179e\"],[0.4444444444444444,\"#bd3786\"],[0.5555555555555556,\"#d8576b\"],[0.6666666666666666,\"#ed7953\"],[0.7777777777777778,\"#fb9f3a\"],[0.8888888888888888,\"#fdca26\"],[1.0,\"#f0f921\"]]}],\"choropleth\":[{\"type\":\"choropleth\",\"colorbar\":{\"outlinewidth\":0,\"ticks\":\"\"}}],\"histogram2d\":[{\"type\":\"histogram2d\",\"colorbar\":{\"outlinewidth\":0,\"ticks\":\"\"},\"colorscale\":[[0.0,\"#0d0887\"],[0.1111111111111111,\"#46039f\"],[0.2222222222222222,\"#7201a8\"],[0.3333333333333333,\"#9c179e\"],[0.4444444444444444,\"#bd3786\"],[0.5555555555555556,\"#d8576b\"],[0.6666666666666666,\"#ed7953\"],[0.7777777777777778,\"#fb9f3a\"],[0.8888888888888888,\"#fdca26\"],[1.0,\"#f0f921\"]]}],\"heatmap\":[{\"type\":\"heatmap\",\"colorbar\":{\"outlinewidth\":0,\"ticks\":\"\"},\"colorscale\":[[0.0,\"#0d0887\"],[0.1111111111111111,\"#46039f\"],[0.2222222222222222,\"#7201a8\"],[0.3333333333333333,\"#9c179e\"],[0.4444444444444444,\"#bd3786\"],[0.5555555555555556,\"#d8576b\"],[0.6666666666666666,\"#ed7953\"],[0.7777777777777778,\"#fb9f3a\"],[0.8888888888888888,\"#fdca26\"],[1.0,\"#f0f921\"]]}],\"heatmapgl\":[{\"type\":\"heatmapgl\",\"colorbar\":{\"outlinewidth\":0,\"ticks\":\"\"},\"colorscale\":[[0.0,\"#0d0887\"],[0.1111111111111111,\"#46039f\"],[0.2222222222222222,\"#7201a8\"],[0.3333333333333333,\"#9c179e\"],[0.4444444444444444,\"#bd3786\"],[0.5555555555555556,\"#d8576b\"],[0.6666666666666666,\"#ed7953\"],[0.7777777777777778,\"#fb9f3a\"],[0.8888888888888888,\"#fdca26\"],[1.0,\"#f0f921\"]]}],\"contourcarpet\":[{\"type\":\"contourcarpet\",\"colorbar\":{\"outlinewidth\":0,\"ticks\":\"\"}}],\"contour\":[{\"type\":\"contour\",\"colorbar\":{\"outlinewidth\":0,\"ticks\":\"\"},\"colorscale\":[[0.0,\"#0d0887\"],[0.1111111111111111,\"#46039f\"],[0.2222222222222222,\"#7201a8\"],[0.3333333333333333,\"#9c179e\"],[0.4444444444444444,\"#bd3786\"],[0.5555555555555556,\"#d8576b\"],[0.6666666666666666,\"#ed7953\"],[0.7777777777777778,\"#fb9f3a\"],[0.8888888888888888,\"#fdca26\"],[1.0,\"#f0f921\"]]}],\"surface\":[{\"type\":\"surface\",\"colorbar\":{\"outlinewidth\":0,\"ticks\":\"\"},\"colorscale\":[[0.0,\"#0d0887\"],[0.1111111111111111,\"#46039f\"],[0.2222222222222222,\"#7201a8\"],[0.3333333333333333,\"#9c179e\"],[0.4444444444444444,\"#bd3786\"],[0.5555555555555556,\"#d8576b\"],[0.6666666666666666,\"#ed7953\"],[0.7777777777777778,\"#fb9f3a\"],[0.8888888888888888,\"#fdca26\"],[1.0,\"#f0f921\"]]}],\"mesh3d\":[{\"type\":\"mesh3d\",\"colorbar\":{\"outlinewidth\":0,\"ticks\":\"\"}}],\"scatter\":[{\"fillpattern\":{\"fillmode\":\"overlay\",\"size\":10,\"solidity\":0.2},\"type\":\"scatter\"}],\"parcoords\":[{\"type\":\"parcoords\",\"line\":{\"colorbar\":{\"outlinewidth\":0,\"ticks\":\"\"}}}],\"scatterpolargl\":[{\"type\":\"scatterpolargl\",\"marker\":{\"colorbar\":{\"outlinewidth\":0,\"ticks\":\"\"}}}],\"bar\":[{\"error_x\":{\"color\":\"#2a3f5f\"},\"error_y\":{\"color\":\"#2a3f5f\"},\"marker\":{\"line\":{\"color\":\"#E5ECF6\",\"width\":0.5},\"pattern\":{\"fillmode\":\"overlay\",\"size\":10,\"solidity\":0.2}},\"type\":\"bar\"}],\"scattergeo\":[{\"type\":\"scattergeo\",\"marker\":{\"colorbar\":{\"outlinewidth\":0,\"ticks\":\"\"}}}],\"scatterpolar\":[{\"type\":\"scatterpolar\",\"marker\":{\"colorbar\":{\"outlinewidth\":0,\"ticks\":\"\"}}}],\"histogram\":[{\"marker\":{\"pattern\":{\"fillmode\":\"overlay\",\"size\":10,\"solidity\":0.2}},\"type\":\"histogram\"}],\"scattergl\":[{\"type\":\"scattergl\",\"marker\":{\"colorbar\":{\"outlinewidth\":0,\"ticks\":\"\"}}}],\"scatter3d\":[{\"type\":\"scatter3d\",\"line\":{\"colorbar\":{\"outlinewidth\":0,\"ticks\":\"\"}},\"marker\":{\"colorbar\":{\"outlinewidth\":0,\"ticks\":\"\"}}}],\"scattermapbox\":[{\"type\":\"scattermapbox\",\"marker\":{\"colorbar\":{\"outlinewidth\":0,\"ticks\":\"\"}}}],\"scatterternary\":[{\"type\":\"scatterternary\",\"marker\":{\"colorbar\":{\"outlinewidth\":0,\"ticks\":\"\"}}}],\"scattercarpet\":[{\"type\":\"scattercarpet\",\"marker\":{\"colorbar\":{\"outlinewidth\":0,\"ticks\":\"\"}}}],\"carpet\":[{\"aaxis\":{\"endlinecolor\":\"#2a3f5f\",\"gridcolor\":\"white\",\"linecolor\":\"white\",\"minorgridcolor\":\"white\",\"startlinecolor\":\"#2a3f5f\"},\"baxis\":{\"endlinecolor\":\"#2a3f5f\",\"gridcolor\":\"white\",\"linecolor\":\"white\",\"minorgridcolor\":\"white\",\"startlinecolor\":\"#2a3f5f\"},\"type\":\"carpet\"}],\"table\":[{\"cells\":{\"fill\":{\"color\":\"#EBF0F8\"},\"line\":{\"color\":\"white\"}},\"header\":{\"fill\":{\"color\":\"#C8D4E3\"},\"line\":{\"color\":\"white\"}},\"type\":\"table\"}],\"barpolar\":[{\"marker\":{\"line\":{\"color\":\"#E5ECF6\",\"width\":0.5},\"pattern\":{\"fillmode\":\"overlay\",\"size\":10,\"solidity\":0.2}},\"type\":\"barpolar\"}],\"pie\":[{\"automargin\":true,\"type\":\"pie\"}]},\"layout\":{\"autotypenumbers\":\"strict\",\"colorway\":[\"#636efa\",\"#EF553B\",\"#00cc96\",\"#ab63fa\",\"#FFA15A\",\"#19d3f3\",\"#FF6692\",\"#B6E880\",\"#FF97FF\",\"#FECB52\"],\"font\":{\"color\":\"#2a3f5f\"},\"hovermode\":\"closest\",\"hoverlabel\":{\"align\":\"left\"},\"paper_bgcolor\":\"white\",\"plot_bgcolor\":\"#E5ECF6\",\"polar\":{\"bgcolor\":\"#E5ECF6\",\"angularaxis\":{\"gridcolor\":\"white\",\"linecolor\":\"white\",\"ticks\":\"\"},\"radialaxis\":{\"gridcolor\":\"white\",\"linecolor\":\"white\",\"ticks\":\"\"}},\"ternary\":{\"bgcolor\":\"#E5ECF6\",\"aaxis\":{\"gridcolor\":\"white\",\"linecolor\":\"white\",\"ticks\":\"\"},\"baxis\":{\"gridcolor\":\"white\",\"linecolor\":\"white\",\"ticks\":\"\"},\"caxis\":{\"gridcolor\":\"white\",\"linecolor\":\"white\",\"ticks\":\"\"}},\"coloraxis\":{\"colorbar\":{\"outlinewidth\":0,\"ticks\":\"\"}},\"colorscale\":{\"sequential\":[[0.0,\"#0d0887\"],[0.1111111111111111,\"#46039f\"],[0.2222222222222222,\"#7201a8\"],[0.3333333333333333,\"#9c179e\"],[0.4444444444444444,\"#bd3786\"],[0.5555555555555556,\"#d8576b\"],[0.6666666666666666,\"#ed7953\"],[0.7777777777777778,\"#fb9f3a\"],[0.8888888888888888,\"#fdca26\"],[1.0,\"#f0f921\"]],\"sequentialminus\":[[0.0,\"#0d0887\"],[0.1111111111111111,\"#46039f\"],[0.2222222222222222,\"#7201a8\"],[0.3333333333333333,\"#9c179e\"],[0.4444444444444444,\"#bd3786\"],[0.5555555555555556,\"#d8576b\"],[0.6666666666666666,\"#ed7953\"],[0.7777777777777778,\"#fb9f3a\"],[0.8888888888888888,\"#fdca26\"],[1.0,\"#f0f921\"]],\"diverging\":[[0,\"#8e0152\"],[0.1,\"#c51b7d\"],[0.2,\"#de77ae\"],[0.3,\"#f1b6da\"],[0.4,\"#fde0ef\"],[0.5,\"#f7f7f7\"],[0.6,\"#e6f5d0\"],[0.7,\"#b8e186\"],[0.8,\"#7fbc41\"],[0.9,\"#4d9221\"],[1,\"#276419\"]]},\"xaxis\":{\"gridcolor\":\"white\",\"linecolor\":\"white\",\"ticks\":\"\",\"title\":{\"standoff\":15},\"zerolinecolor\":\"white\",\"automargin\":true,\"zerolinewidth\":2},\"yaxis\":{\"gridcolor\":\"white\",\"linecolor\":\"white\",\"ticks\":\"\",\"title\":{\"standoff\":15},\"zerolinecolor\":\"white\",\"automargin\":true,\"zerolinewidth\":2},\"scene\":{\"xaxis\":{\"backgroundcolor\":\"#E5ECF6\",\"gridcolor\":\"white\",\"linecolor\":\"white\",\"showbackground\":true,\"ticks\":\"\",\"zerolinecolor\":\"white\",\"gridwidth\":2},\"yaxis\":{\"backgroundcolor\":\"#E5ECF6\",\"gridcolor\":\"white\",\"linecolor\":\"white\",\"showbackground\":true,\"ticks\":\"\",\"zerolinecolor\":\"white\",\"gridwidth\":2},\"zaxis\":{\"backgroundcolor\":\"#E5ECF6\",\"gridcolor\":\"white\",\"linecolor\":\"white\",\"showbackground\":true,\"ticks\":\"\",\"zerolinecolor\":\"white\",\"gridwidth\":2}},\"shapedefaults\":{\"line\":{\"color\":\"#2a3f5f\"}},\"annotationdefaults\":{\"arrowcolor\":\"#2a3f5f\",\"arrowhead\":0,\"arrowwidth\":1},\"geo\":{\"bgcolor\":\"white\",\"landcolor\":\"#E5ECF6\",\"subunitcolor\":\"white\",\"showland\":true,\"showlakes\":true,\"lakecolor\":\"white\"},\"title\":{\"x\":0.05},\"mapbox\":{\"style\":\"light\"}}},\"xaxis\":{\"anchor\":\"y\",\"domain\":[0.0,0.94],\"title\":{\"text\":\"Month\"}},\"yaxis\":{\"anchor\":\"x\",\"domain\":[0.0,1.0],\"title\":{\"text\":\"Average temperature <b>(°C)</b>\"}},\"yaxis2\":{\"anchor\":\"x\",\"overlaying\":\"y\",\"side\":\"right\",\"title\":{\"text\":\"Average precipitation <b>(mm)</b>\"}},\"title\":{\"text\":\"Average temperature and precipitation in Boston 2014-2022\"}},                        {\"responsive\": true}                    ).then(function(){\n",
       "                            \n",
       "var gd = document.getElementById('9e6a75a7-6801-47c2-96b9-74e486167570');\n",
       "var x = new MutationObserver(function (mutations, observer) {{\n",
       "        var display = window.getComputedStyle(gd).display;\n",
       "        if (!display || display === 'none') {{\n",
       "            console.log([gd, 'removed!']);\n",
       "            Plotly.purge(gd);\n",
       "            observer.disconnect();\n",
       "        }}\n",
       "}});\n",
       "\n",
       "// Listen for the removal of the full notebook cells\n",
       "var notebookContainer = gd.closest('#notebook-container');\n",
       "if (notebookContainer) {{\n",
       "    x.observe(notebookContainer, {childList: true});\n",
       "}}\n",
       "\n",
       "// Listen for the clearing of the current output cell\n",
       "var outputEl = gd.closest('.output');\n",
       "if (outputEl) {{\n",
       "    x.observe(outputEl, {childList: true});\n",
       "}}\n",
       "\n",
       "                        })                };                });            </script>        </div>"
      ]
     },
     "metadata": {},
     "output_type": "display_data"
    }
   ],
   "source": [
    "# Creating df with average precipitation\n",
    "precip = weather.groupby([\"month\"], sort=False).mean()[['precip']].reset_index()\n",
    "\n",
    "# Create figure with secondary y-axis\n",
    "fig = make_subplots(specs=[[{\"secondary_y\": True}]])\n",
    "\n",
    "# Add plots\n",
    "fig.add_trace(go.Bar(\n",
    "        x=avg_temp_monthly['month'], \n",
    "        y=avg_temp_monthly['temp_avg'], \n",
    "        name=\"Average temperature <b>(°C)</b>\")\n",
    "        )\n",
    "\n",
    "fig.add_trace(go.Scatter(\n",
    "        x=precip['month'],\n",
    "        y=precip['precip'],\n",
    "        name=\"Precipitation <b>(mm)</b>\"),\n",
    "             secondary_y=True\n",
    "        )\n",
    "\n",
    "# Add figure title\n",
    "fig.update_layout(\n",
    "    title_text=\"Average temperature and precipitation in Boston 2014-2022\",\n",
    "    xaxis_title=\"Month\"\n",
    ")\n",
    "\n",
    "# Add labels to y-axes\n",
    "fig.update_yaxes(title_text=\"Average temperature <b>(°C)</b>\", secondary_y=False)\n",
    "fig.update_yaxes(title_text=\"Average precipitation <b>(mm)</b>\", secondary_y=True)\n",
    "\n",
    "fig.show()"
   ]
  }
 ],
 "metadata": {
  "kernelspec": {
   "display_name": "Python 3",
   "language": "python",
   "name": "python3"
  },
  "language_info": {
   "codemirror_mode": {
    "name": "ipython",
    "version": 3
   },
   "file_extension": ".py",
   "mimetype": "text/x-python",
   "name": "python",
   "nbconvert_exporter": "python",
   "pygments_lexer": "ipython3",
   "version": "3.7.12"
  },
  "papermill": {
   "default_parameters": {},
   "duration": 15.704177,
   "end_time": "2023-03-16T15:59:52.895565",
   "environment_variables": {},
   "exception": null,
   "input_path": "__notebook__.ipynb",
   "output_path": "__notebook__.ipynb",
   "parameters": {},
   "start_time": "2023-03-16T15:59:37.191388",
   "version": "2.4.0"
  }
 },
 "nbformat": 4,
 "nbformat_minor": 5
}
