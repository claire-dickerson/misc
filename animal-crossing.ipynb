{
 "cells": [
  {
   "cell_type": "markdown",
   "id": "ef6c1a44",
   "metadata": {
    "papermill": {
     "duration": 0.015729,
     "end_time": "2023-03-07T15:06:41.646459",
     "exception": false,
     "start_time": "2023-03-07T15:06:41.630730",
     "status": "completed"
    },
    "tags": []
   },
   "source": [
    "# Animal Crossing!\n",
    "![All hail Queen Isabelle](https://upload.wikimedia.org/wikipedia/en/2/26/Isabelle_AF.png)\n",
    "\n",
    "I was playing Animal Crossing the other day and thought it would be fun to look at the popularity of villagers in the Animal Crossing data set :)"
   ]
  },
  {
   "cell_type": "markdown",
   "id": "1cb504a9",
   "metadata": {
    "papermill": {
     "duration": 0.012967,
     "end_time": "2023-03-07T15:06:41.673094",
     "exception": false,
     "start_time": "2023-03-07T15:06:41.660127",
     "status": "completed"
    },
    "tags": []
   },
   "source": [
    "# Imports and cleaning the data"
   ]
  },
  {
   "cell_type": "code",
   "execution_count": 1,
   "id": "a53c4773",
   "metadata": {
    "_cell_guid": "b1076dfc-b9ad-4769-8c92-a6c4dae69d19",
    "_uuid": "8f2839f25d086af736a60e9eeb907d3b93b6e0e5",
    "execution": {
     "iopub.execute_input": "2023-03-07T15:06:41.702825Z",
     "iopub.status.busy": "2023-03-07T15:06:41.702273Z",
     "iopub.status.idle": "2023-03-07T15:06:44.091955Z",
     "shell.execute_reply": "2023-03-07T15:06:44.090630Z"
    },
    "papermill": {
     "duration": 2.408739,
     "end_time": "2023-03-07T15:06:44.095164",
     "exception": false,
     "start_time": "2023-03-07T15:06:41.686425",
     "status": "completed"
    },
    "tags": []
   },
   "outputs": [],
   "source": [
    "import numpy as np\n",
    "import pandas as pd\n",
    "import matplotlib.pyplot as plt\n",
    "import seaborn as sns\n",
    "import plotly.express as px"
   ]
  },
  {
   "cell_type": "code",
   "execution_count": 2,
   "id": "fc62bef0",
   "metadata": {
    "execution": {
     "iopub.execute_input": "2023-03-07T15:06:44.125492Z",
     "iopub.status.busy": "2023-03-07T15:06:44.124533Z",
     "iopub.status.idle": "2023-03-07T15:06:44.160853Z",
     "shell.execute_reply": "2023-03-07T15:06:44.159585Z"
    },
    "papermill": {
     "duration": 0.054536,
     "end_time": "2023-03-07T15:06:44.163692",
     "exception": false,
     "start_time": "2023-03-07T15:06:44.109156",
     "status": "completed"
    },
    "tags": []
   },
   "outputs": [],
   "source": [
    "villagers = pd.read_csv('/kaggle/input/animal-crossing-new-horizons-nookplaza-dataset/villagers.csv')\n",
    "popularity = pd.read_csv('/kaggle/input/acnh-villager-popularity/acnh_villager_data.csv')"
   ]
  },
  {
   "cell_type": "markdown",
   "id": "e890b55b",
   "metadata": {
    "papermill": {
     "duration": 0.014028,
     "end_time": "2023-03-07T15:06:44.191842",
     "exception": false,
     "start_time": "2023-03-07T15:06:44.177814",
     "status": "completed"
    },
    "tags": []
   },
   "source": [
    "**Note:** the popularity data set is from March 2022 so it's not fully up to date "
   ]
  },
  {
   "cell_type": "code",
   "execution_count": 3,
   "id": "4f50c803",
   "metadata": {
    "execution": {
     "iopub.execute_input": "2023-03-07T15:06:44.220751Z",
     "iopub.status.busy": "2023-03-07T15:06:44.220115Z",
     "iopub.status.idle": "2023-03-07T15:06:44.260188Z",
     "shell.execute_reply": "2023-03-07T15:06:44.258842Z"
    },
    "papermill": {
     "duration": 0.057637,
     "end_time": "2023-03-07T15:06:44.262787",
     "exception": false,
     "start_time": "2023-03-07T15:06:44.205150",
     "status": "completed"
    },
    "tags": []
   },
   "outputs": [
    {
     "data": {
      "text/html": [
       "<div>\n",
       "<style scoped>\n",
       "    .dataframe tbody tr th:only-of-type {\n",
       "        vertical-align: middle;\n",
       "    }\n",
       "\n",
       "    .dataframe tbody tr th {\n",
       "        vertical-align: top;\n",
       "    }\n",
       "\n",
       "    .dataframe thead th {\n",
       "        text-align: right;\n",
       "    }\n",
       "</style>\n",
       "<table border=\"1\" class=\"dataframe\">\n",
       "  <thead>\n",
       "    <tr style=\"text-align: right;\">\n",
       "      <th></th>\n",
       "      <th>Name</th>\n",
       "      <th>Species</th>\n",
       "      <th>Gender</th>\n",
       "      <th>Personality</th>\n",
       "      <th>Hobby</th>\n",
       "      <th>Birthday</th>\n",
       "      <th>Catchphrase</th>\n",
       "      <th>Favorite_Song</th>\n",
       "      <th>Style_1</th>\n",
       "      <th>Style_2</th>\n",
       "      <th>Color_1</th>\n",
       "      <th>Color_2</th>\n",
       "      <th>Wallpaper</th>\n",
       "      <th>Flooring</th>\n",
       "      <th>Furniture_List</th>\n",
       "      <th>Filename</th>\n",
       "      <th>Unique_Entry_ID</th>\n",
       "    </tr>\n",
       "  </thead>\n",
       "  <tbody>\n",
       "    <tr>\n",
       "      <th>0</th>\n",
       "      <td>Admiral</td>\n",
       "      <td>Bird</td>\n",
       "      <td>Male</td>\n",
       "      <td>Cranky</td>\n",
       "      <td>Nature</td>\n",
       "      <td>27-Jan</td>\n",
       "      <td>aye aye</td>\n",
       "      <td>Steep Hill</td>\n",
       "      <td>Cool</td>\n",
       "      <td>Cool</td>\n",
       "      <td>Black</td>\n",
       "      <td>Blue</td>\n",
       "      <td>dirt-clod wall</td>\n",
       "      <td>tatami</td>\n",
       "      <td>717;1849;7047;2736;787;5970;3449;3622;3802;410...</td>\n",
       "      <td>brd06</td>\n",
       "      <td>B3RyfNEqwGmcccRC3</td>\n",
       "    </tr>\n",
       "    <tr>\n",
       "      <th>1</th>\n",
       "      <td>Agent S</td>\n",
       "      <td>Squirrel</td>\n",
       "      <td>Female</td>\n",
       "      <td>Peppy</td>\n",
       "      <td>Fitness</td>\n",
       "      <td>2-Jul</td>\n",
       "      <td>sidekick</td>\n",
       "      <td>Go K.K. Rider</td>\n",
       "      <td>Active</td>\n",
       "      <td>Simple</td>\n",
       "      <td>Blue</td>\n",
       "      <td>Black</td>\n",
       "      <td>concrete wall</td>\n",
       "      <td>colorful tile flooring</td>\n",
       "      <td>7845;7150;3468;4080;290;3971;3449;1708;4756;25...</td>\n",
       "      <td>squ05</td>\n",
       "      <td>SGMdki6dzpDZyXAw5</td>\n",
       "    </tr>\n",
       "    <tr>\n",
       "      <th>2</th>\n",
       "      <td>Agnes</td>\n",
       "      <td>Pig</td>\n",
       "      <td>Female</td>\n",
       "      <td>Big Sister</td>\n",
       "      <td>Play</td>\n",
       "      <td>21-Apr</td>\n",
       "      <td>snuffle</td>\n",
       "      <td>K.K. House</td>\n",
       "      <td>Simple</td>\n",
       "      <td>Elegant</td>\n",
       "      <td>Pink</td>\n",
       "      <td>White</td>\n",
       "      <td>gray molded-panel wall</td>\n",
       "      <td>arabesque flooring</td>\n",
       "      <td>4129;7236;7235;7802;896;3428;4027;7325;3958;71...</td>\n",
       "      <td>pig17</td>\n",
       "      <td>jzWCiDPm9MqtCfecP</td>\n",
       "    </tr>\n",
       "    <tr>\n",
       "      <th>3</th>\n",
       "      <td>Al</td>\n",
       "      <td>Gorilla</td>\n",
       "      <td>Male</td>\n",
       "      <td>Lazy</td>\n",
       "      <td>Fitness</td>\n",
       "      <td>18-Oct</td>\n",
       "      <td>ayyyeee</td>\n",
       "      <td>Go K.K. Rider</td>\n",
       "      <td>Active</td>\n",
       "      <td>Active</td>\n",
       "      <td>Red</td>\n",
       "      <td>White</td>\n",
       "      <td>concrete wall</td>\n",
       "      <td>green rubber flooring</td>\n",
       "      <td>1452;4078;4013;833;4116;3697;7845;3307;3946;39...</td>\n",
       "      <td>gor08</td>\n",
       "      <td>LBifxETQJGEaLhBjC</td>\n",
       "    </tr>\n",
       "    <tr>\n",
       "      <th>4</th>\n",
       "      <td>Alfonso</td>\n",
       "      <td>Alligator</td>\n",
       "      <td>Male</td>\n",
       "      <td>Lazy</td>\n",
       "      <td>Play</td>\n",
       "      <td>9-Jun</td>\n",
       "      <td>it'sa me</td>\n",
       "      <td>Forest Life</td>\n",
       "      <td>Simple</td>\n",
       "      <td>Simple</td>\n",
       "      <td>Red</td>\n",
       "      <td>Blue</td>\n",
       "      <td>yellow playroom wall</td>\n",
       "      <td>green honeycomb tile</td>\n",
       "      <td>4763;3205;3701;1557;3623;85;3208;3584;4761;121...</td>\n",
       "      <td>crd00</td>\n",
       "      <td>REpd8KxB8p9aGBRSE</td>\n",
       "    </tr>\n",
       "    <tr>\n",
       "      <th>...</th>\n",
       "      <td>...</td>\n",
       "      <td>...</td>\n",
       "      <td>...</td>\n",
       "      <td>...</td>\n",
       "      <td>...</td>\n",
       "      <td>...</td>\n",
       "      <td>...</td>\n",
       "      <td>...</td>\n",
       "      <td>...</td>\n",
       "      <td>...</td>\n",
       "      <td>...</td>\n",
       "      <td>...</td>\n",
       "      <td>...</td>\n",
       "      <td>...</td>\n",
       "      <td>...</td>\n",
       "      <td>...</td>\n",
       "      <td>...</td>\n",
       "    </tr>\n",
       "    <tr>\n",
       "      <th>386</th>\n",
       "      <td>Winnie</td>\n",
       "      <td>Horse</td>\n",
       "      <td>Female</td>\n",
       "      <td>Peppy</td>\n",
       "      <td>Fashion</td>\n",
       "      <td>31-Jan</td>\n",
       "      <td>hay-OK</td>\n",
       "      <td>K.K. Country</td>\n",
       "      <td>Cool</td>\n",
       "      <td>Simple</td>\n",
       "      <td>White</td>\n",
       "      <td>Gray</td>\n",
       "      <td>backyard-fence wall</td>\n",
       "      <td>backyard lawn</td>\n",
       "      <td>1626;1626;5970;4003;3509;1620;1627;3467;1631;1...</td>\n",
       "      <td>hrs05</td>\n",
       "      <td>b4HwfyvThyipScSAv</td>\n",
       "    </tr>\n",
       "    <tr>\n",
       "      <th>387</th>\n",
       "      <td>Wolfgang</td>\n",
       "      <td>Wolf</td>\n",
       "      <td>Male</td>\n",
       "      <td>Cranky</td>\n",
       "      <td>Education</td>\n",
       "      <td>25-Nov</td>\n",
       "      <td>snarrrl</td>\n",
       "      <td>K.K. D&amp;B</td>\n",
       "      <td>Cool</td>\n",
       "      <td>Active</td>\n",
       "      <td>Black</td>\n",
       "      <td>Green</td>\n",
       "      <td>dark wooden-mosaic wall</td>\n",
       "      <td>stripe flooring</td>\n",
       "      <td>4117;7323;7323;3275;4109;3270;3196;4338;3200;3...</td>\n",
       "      <td>wol02</td>\n",
       "      <td>RbF2wcn6jRxtgLDRd</td>\n",
       "    </tr>\n",
       "    <tr>\n",
       "      <th>388</th>\n",
       "      <td>Yuka</td>\n",
       "      <td>Koala</td>\n",
       "      <td>Female</td>\n",
       "      <td>Snooty</td>\n",
       "      <td>Fashion</td>\n",
       "      <td>20-Jul</td>\n",
       "      <td>tsk tsk</td>\n",
       "      <td>Soulful K.K.</td>\n",
       "      <td>Cool</td>\n",
       "      <td>Elegant</td>\n",
       "      <td>Orange</td>\n",
       "      <td>Yellow</td>\n",
       "      <td>beige art-deco wall</td>\n",
       "      <td>simple purple flooring</td>\n",
       "      <td>3957;3955;2554;3974;3951;794;4106;3959;3958;997</td>\n",
       "      <td>kal00</td>\n",
       "      <td>QDcxk3dCNT6yeD9hk</td>\n",
       "    </tr>\n",
       "    <tr>\n",
       "      <th>389</th>\n",
       "      <td>Zell</td>\n",
       "      <td>Deer</td>\n",
       "      <td>Male</td>\n",
       "      <td>Smug</td>\n",
       "      <td>Music</td>\n",
       "      <td>7-Jun</td>\n",
       "      <td>pronk</td>\n",
       "      <td>K.K. Swing</td>\n",
       "      <td>Cool</td>\n",
       "      <td>Gorgeous</td>\n",
       "      <td>Purple</td>\n",
       "      <td>Gray</td>\n",
       "      <td>cityscape wall</td>\n",
       "      <td>monochromatic tile flooring</td>\n",
       "      <td>1875;863;4129;4053;4053;3951;794;3775;4046;423...</td>\n",
       "      <td>der02</td>\n",
       "      <td>LodBWtdMRZbjFNga9</td>\n",
       "    </tr>\n",
       "    <tr>\n",
       "      <th>390</th>\n",
       "      <td>Zucker</td>\n",
       "      <td>Octopus</td>\n",
       "      <td>Male</td>\n",
       "      <td>Lazy</td>\n",
       "      <td>Nature</td>\n",
       "      <td>8-Mar</td>\n",
       "      <td>bloop</td>\n",
       "      <td>Spring Blossoms</td>\n",
       "      <td>Simple</td>\n",
       "      <td>Cute</td>\n",
       "      <td>Blue</td>\n",
       "      <td>Yellow</td>\n",
       "      <td>chain-link fence</td>\n",
       "      <td>backyard lawn</td>\n",
       "      <td>4042;4412;7526;4077;4077;3064;4077;3946;3617;3...</td>\n",
       "      <td>ocp02</td>\n",
       "      <td>2F5tipHqgmWvWXTLC</td>\n",
       "    </tr>\n",
       "  </tbody>\n",
       "</table>\n",
       "<p>391 rows × 17 columns</p>\n",
       "</div>"
      ],
      "text/plain": [
       "         Name    Species  Gender Personality      Hobby Birthday Catchphrase  \\\n",
       "0     Admiral       Bird    Male      Cranky     Nature   27-Jan     aye aye   \n",
       "1     Agent S   Squirrel  Female       Peppy    Fitness    2-Jul    sidekick   \n",
       "2       Agnes        Pig  Female  Big Sister       Play   21-Apr     snuffle   \n",
       "3          Al    Gorilla    Male        Lazy    Fitness   18-Oct     ayyyeee   \n",
       "4     Alfonso  Alligator    Male        Lazy       Play    9-Jun    it'sa me   \n",
       "..        ...        ...     ...         ...        ...      ...         ...   \n",
       "386    Winnie      Horse  Female       Peppy    Fashion   31-Jan      hay-OK   \n",
       "387  Wolfgang       Wolf    Male      Cranky  Education   25-Nov     snarrrl   \n",
       "388      Yuka      Koala  Female      Snooty    Fashion   20-Jul     tsk tsk   \n",
       "389      Zell       Deer    Male        Smug      Music    7-Jun       pronk   \n",
       "390    Zucker    Octopus    Male        Lazy     Nature    8-Mar       bloop   \n",
       "\n",
       "       Favorite_Song Style_1   Style_2 Color_1 Color_2  \\\n",
       "0         Steep Hill    Cool      Cool   Black    Blue   \n",
       "1      Go K.K. Rider  Active    Simple    Blue   Black   \n",
       "2         K.K. House  Simple   Elegant    Pink   White   \n",
       "3      Go K.K. Rider  Active    Active     Red   White   \n",
       "4        Forest Life  Simple    Simple     Red    Blue   \n",
       "..               ...     ...       ...     ...     ...   \n",
       "386     K.K. Country    Cool    Simple   White    Gray   \n",
       "387         K.K. D&B    Cool    Active   Black   Green   \n",
       "388     Soulful K.K.    Cool   Elegant  Orange  Yellow   \n",
       "389       K.K. Swing    Cool  Gorgeous  Purple    Gray   \n",
       "390  Spring Blossoms  Simple      Cute    Blue  Yellow   \n",
       "\n",
       "                   Wallpaper                     Flooring  \\\n",
       "0             dirt-clod wall                       tatami   \n",
       "1              concrete wall       colorful tile flooring   \n",
       "2     gray molded-panel wall           arabesque flooring   \n",
       "3              concrete wall        green rubber flooring   \n",
       "4       yellow playroom wall         green honeycomb tile   \n",
       "..                       ...                          ...   \n",
       "386      backyard-fence wall                backyard lawn   \n",
       "387  dark wooden-mosaic wall              stripe flooring   \n",
       "388      beige art-deco wall       simple purple flooring   \n",
       "389           cityscape wall  monochromatic tile flooring   \n",
       "390         chain-link fence                backyard lawn   \n",
       "\n",
       "                                        Furniture_List Filename  \\\n",
       "0    717;1849;7047;2736;787;5970;3449;3622;3802;410...    brd06   \n",
       "1    7845;7150;3468;4080;290;3971;3449;1708;4756;25...    squ05   \n",
       "2    4129;7236;7235;7802;896;3428;4027;7325;3958;71...    pig17   \n",
       "3    1452;4078;4013;833;4116;3697;7845;3307;3946;39...    gor08   \n",
       "4    4763;3205;3701;1557;3623;85;3208;3584;4761;121...    crd00   \n",
       "..                                                 ...      ...   \n",
       "386  1626;1626;5970;4003;3509;1620;1627;3467;1631;1...    hrs05   \n",
       "387  4117;7323;7323;3275;4109;3270;3196;4338;3200;3...    wol02   \n",
       "388    3957;3955;2554;3974;3951;794;4106;3959;3958;997    kal00   \n",
       "389  1875;863;4129;4053;4053;3951;794;3775;4046;423...    der02   \n",
       "390  4042;4412;7526;4077;4077;3064;4077;3946;3617;3...    ocp02   \n",
       "\n",
       "       Unique_Entry_ID  \n",
       "0    B3RyfNEqwGmcccRC3  \n",
       "1    SGMdki6dzpDZyXAw5  \n",
       "2    jzWCiDPm9MqtCfecP  \n",
       "3    LBifxETQJGEaLhBjC  \n",
       "4    REpd8KxB8p9aGBRSE  \n",
       "..                 ...  \n",
       "386  b4HwfyvThyipScSAv  \n",
       "387  RbF2wcn6jRxtgLDRd  \n",
       "388  QDcxk3dCNT6yeD9hk  \n",
       "389  LodBWtdMRZbjFNga9  \n",
       "390  2F5tipHqgmWvWXTLC  \n",
       "\n",
       "[391 rows x 17 columns]"
      ]
     },
     "execution_count": 3,
     "metadata": {},
     "output_type": "execute_result"
    }
   ],
   "source": [
    "# Remove all spaces from column names\n",
    "villagers = villagers.rename(columns={\"Favorite Song\":\"Favorite_Song\", \n",
    " \"Style 1\":\"Style_1\", \n",
    " \"Style 2\":\"Style_2\",\n",
    " \"Color 1\":\"Color_1\", \n",
    " \"Color 2\":\"Color_2\",\n",
    " \"Furniture List\":\"Furniture_List\", \n",
    " \"Unique Entry ID\":\"Unique_Entry_ID\"})\n",
    "villagers"
   ]
  },
  {
   "cell_type": "code",
   "execution_count": 4,
   "id": "4955f7b0",
   "metadata": {
    "execution": {
     "iopub.execute_input": "2023-03-07T15:06:44.293622Z",
     "iopub.status.busy": "2023-03-07T15:06:44.293172Z",
     "iopub.status.idle": "2023-03-07T15:06:44.316349Z",
     "shell.execute_reply": "2023-03-07T15:06:44.315316Z"
    },
    "papermill": {
     "duration": 0.041515,
     "end_time": "2023-03-07T15:06:44.319103",
     "exception": false,
     "start_time": "2023-03-07T15:06:44.277588",
     "status": "completed"
    },
    "tags": []
   },
   "outputs": [
    {
     "name": "stdout",
     "output_type": "stream",
     "text": [
      "<class 'pandas.core.frame.DataFrame'>\n",
      "RangeIndex: 391 entries, 0 to 390\n",
      "Data columns (total 17 columns):\n",
      " #   Column           Non-Null Count  Dtype \n",
      "---  ------           --------------  ----- \n",
      " 0   Name             391 non-null    object\n",
      " 1   Species          391 non-null    object\n",
      " 2   Gender           391 non-null    object\n",
      " 3   Personality      391 non-null    object\n",
      " 4   Hobby            391 non-null    object\n",
      " 5   Birthday         391 non-null    object\n",
      " 6   Catchphrase      391 non-null    object\n",
      " 7   Favorite_Song    391 non-null    object\n",
      " 8   Style_1          391 non-null    object\n",
      " 9   Style_2          391 non-null    object\n",
      " 10  Color_1          391 non-null    object\n",
      " 11  Color_2          391 non-null    object\n",
      " 12  Wallpaper        391 non-null    object\n",
      " 13  Flooring         391 non-null    object\n",
      " 14  Furniture_List   391 non-null    object\n",
      " 15  Filename         391 non-null    object\n",
      " 16  Unique_Entry_ID  391 non-null    object\n",
      "dtypes: object(17)\n",
      "memory usage: 52.1+ KB\n"
     ]
    }
   ],
   "source": [
    "villagers.info()"
   ]
  },
  {
   "cell_type": "code",
   "execution_count": 5,
   "id": "b8bc115e",
   "metadata": {
    "execution": {
     "iopub.execute_input": "2023-03-07T15:06:44.350211Z",
     "iopub.status.busy": "2023-03-07T15:06:44.349470Z",
     "iopub.status.idle": "2023-03-07T15:06:44.391108Z",
     "shell.execute_reply": "2023-03-07T15:06:44.390086Z"
    },
    "papermill": {
     "duration": 0.059895,
     "end_time": "2023-03-07T15:06:44.393739",
     "exception": false,
     "start_time": "2023-03-07T15:06:44.333844",
     "status": "completed"
    },
    "tags": []
   },
   "outputs": [
    {
     "data": {
      "text/html": [
       "<div>\n",
       "<style scoped>\n",
       "    .dataframe tbody tr th:only-of-type {\n",
       "        vertical-align: middle;\n",
       "    }\n",
       "\n",
       "    .dataframe tbody tr th {\n",
       "        vertical-align: top;\n",
       "    }\n",
       "\n",
       "    .dataframe thead th {\n",
       "        text-align: right;\n",
       "    }\n",
       "</style>\n",
       "<table border=\"1\" class=\"dataframe\">\n",
       "  <thead>\n",
       "    <tr style=\"text-align: right;\">\n",
       "      <th></th>\n",
       "      <th>Name</th>\n",
       "      <th>Species</th>\n",
       "      <th>Gender</th>\n",
       "      <th>Personality</th>\n",
       "      <th>Hobby</th>\n",
       "      <th>Birthday</th>\n",
       "      <th>Catchphrase</th>\n",
       "      <th>Favorite_Song</th>\n",
       "      <th>Style_1</th>\n",
       "      <th>Style_2</th>\n",
       "      <th>Color_1</th>\n",
       "      <th>Color_2</th>\n",
       "      <th>Wallpaper</th>\n",
       "      <th>Flooring</th>\n",
       "      <th>Furniture_List</th>\n",
       "      <th>Filename</th>\n",
       "      <th>Unique_Entry_ID</th>\n",
       "    </tr>\n",
       "  </thead>\n",
       "  <tbody>\n",
       "    <tr>\n",
       "      <th>count</th>\n",
       "      <td>391</td>\n",
       "      <td>391</td>\n",
       "      <td>391</td>\n",
       "      <td>391</td>\n",
       "      <td>391</td>\n",
       "      <td>391</td>\n",
       "      <td>391</td>\n",
       "      <td>391</td>\n",
       "      <td>391</td>\n",
       "      <td>391</td>\n",
       "      <td>391</td>\n",
       "      <td>391</td>\n",
       "      <td>391</td>\n",
       "      <td>391</td>\n",
       "      <td>391</td>\n",
       "      <td>391</td>\n",
       "      <td>391</td>\n",
       "    </tr>\n",
       "    <tr>\n",
       "      <th>unique</th>\n",
       "      <td>391</td>\n",
       "      <td>35</td>\n",
       "      <td>2</td>\n",
       "      <td>8</td>\n",
       "      <td>6</td>\n",
       "      <td>361</td>\n",
       "      <td>388</td>\n",
       "      <td>89</td>\n",
       "      <td>6</td>\n",
       "      <td>6</td>\n",
       "      <td>14</td>\n",
       "      <td>14</td>\n",
       "      <td>154</td>\n",
       "      <td>128</td>\n",
       "      <td>391</td>\n",
       "      <td>391</td>\n",
       "      <td>391</td>\n",
       "    </tr>\n",
       "    <tr>\n",
       "      <th>top</th>\n",
       "      <td>Admiral</td>\n",
       "      <td>Cat</td>\n",
       "      <td>Male</td>\n",
       "      <td>Lazy</td>\n",
       "      <td>Nature</td>\n",
       "      <td>27-Jan</td>\n",
       "      <td>sweetie</td>\n",
       "      <td>Forest Life</td>\n",
       "      <td>Simple</td>\n",
       "      <td>Simple</td>\n",
       "      <td>Black</td>\n",
       "      <td>Red</td>\n",
       "      <td>backyard-fence wall</td>\n",
       "      <td>backyard lawn</td>\n",
       "      <td>717;1849;7047;2736;787;5970;3449;3622;3802;410...</td>\n",
       "      <td>brd06</td>\n",
       "      <td>B3RyfNEqwGmcccRC3</td>\n",
       "    </tr>\n",
       "    <tr>\n",
       "      <th>freq</th>\n",
       "      <td>1</td>\n",
       "      <td>23</td>\n",
       "      <td>204</td>\n",
       "      <td>60</td>\n",
       "      <td>66</td>\n",
       "      <td>2</td>\n",
       "      <td>2</td>\n",
       "      <td>15</td>\n",
       "      <td>118</td>\n",
       "      <td>110</td>\n",
       "      <td>47</td>\n",
       "      <td>53</td>\n",
       "      <td>13</td>\n",
       "      <td>13</td>\n",
       "      <td>1</td>\n",
       "      <td>1</td>\n",
       "      <td>1</td>\n",
       "    </tr>\n",
       "  </tbody>\n",
       "</table>\n",
       "</div>"
      ],
      "text/plain": [
       "           Name Species Gender Personality   Hobby Birthday Catchphrase  \\\n",
       "count       391     391    391         391     391      391         391   \n",
       "unique      391      35      2           8       6      361         388   \n",
       "top     Admiral     Cat   Male        Lazy  Nature   27-Jan     sweetie   \n",
       "freq          1      23    204          60      66        2           2   \n",
       "\n",
       "       Favorite_Song Style_1 Style_2 Color_1 Color_2            Wallpaper  \\\n",
       "count            391     391     391     391     391                  391   \n",
       "unique            89       6       6      14      14                  154   \n",
       "top      Forest Life  Simple  Simple   Black     Red  backyard-fence wall   \n",
       "freq              15     118     110      47      53                   13   \n",
       "\n",
       "             Flooring                                     Furniture_List  \\\n",
       "count             391                                                391   \n",
       "unique            128                                                391   \n",
       "top     backyard lawn  717;1849;7047;2736;787;5970;3449;3622;3802;410...   \n",
       "freq               13                                                  1   \n",
       "\n",
       "       Filename    Unique_Entry_ID  \n",
       "count       391                391  \n",
       "unique      391                391  \n",
       "top       brd06  B3RyfNEqwGmcccRC3  \n",
       "freq          1                  1  "
      ]
     },
     "execution_count": 5,
     "metadata": {},
     "output_type": "execute_result"
    }
   ],
   "source": [
    "villagers.describe()"
   ]
  },
  {
   "cell_type": "code",
   "execution_count": 6,
   "id": "d954a0c8",
   "metadata": {
    "execution": {
     "iopub.execute_input": "2023-03-07T15:06:44.424899Z",
     "iopub.status.busy": "2023-03-07T15:06:44.424181Z",
     "iopub.status.idle": "2023-03-07T15:06:44.436618Z",
     "shell.execute_reply": "2023-03-07T15:06:44.435232Z"
    },
    "papermill": {
     "duration": 0.03118,
     "end_time": "2023-03-07T15:06:44.439446",
     "exception": false,
     "start_time": "2023-03-07T15:06:44.408266",
     "status": "completed"
    },
    "tags": []
   },
   "outputs": [
    {
     "name": "stdout",
     "output_type": "stream",
     "text": [
      "<class 'pandas.core.frame.DataFrame'>\n",
      "RangeIndex: 413 entries, 0 to 412\n",
      "Data columns (total 3 columns):\n",
      " #   Column  Non-Null Count  Dtype \n",
      "---  ------  --------------  ----- \n",
      " 0   tier    413 non-null    int64 \n",
      " 1   rank    413 non-null    int64 \n",
      " 2   name    413 non-null    object\n",
      "dtypes: int64(2), object(1)\n",
      "memory usage: 9.8+ KB\n"
     ]
    }
   ],
   "source": [
    "popularity.info()"
   ]
  },
  {
   "cell_type": "code",
   "execution_count": 7,
   "id": "d4f7e498",
   "metadata": {
    "execution": {
     "iopub.execute_input": "2023-03-07T15:06:44.470266Z",
     "iopub.status.busy": "2023-03-07T15:06:44.469815Z",
     "iopub.status.idle": "2023-03-07T15:06:44.485517Z",
     "shell.execute_reply": "2023-03-07T15:06:44.484666Z"
    },
    "papermill": {
     "duration": 0.034103,
     "end_time": "2023-03-07T15:06:44.488040",
     "exception": false,
     "start_time": "2023-03-07T15:06:44.453937",
     "status": "completed"
    },
    "tags": []
   },
   "outputs": [
    {
     "data": {
      "text/plain": [
       "['Shino',\n",
       " 'Sasha',\n",
       " 'Ione',\n",
       " 'Cephalobot',\n",
       " 'Étoile',\n",
       " 'Tiansheng',\n",
       " 'Petri',\n",
       " 'Quinn',\n",
       " 'Marlo',\n",
       " 'Chai',\n",
       " 'Azalea',\n",
       " 'Faith',\n",
       " 'Chabwick',\n",
       " 'WartJr',\n",
       " 'Rio',\n",
       " 'Buck(Brows)',\n",
       " 'Renee',\n",
       " 'Chelsea',\n",
       " 'Marty',\n",
       " 'Roswell',\n",
       " 'Zoe',\n",
       " 'OHare',\n",
       " 'Crackle(Spork)',\n",
       " 'Ace',\n",
       " 'Toby',\n",
       " 'Frett',\n",
       " 'Rilla']"
      ]
     },
     "execution_count": 7,
     "metadata": {},
     "output_type": "execute_result"
    }
   ],
   "source": [
    "# List of names from popularity dataset that are not in villlagers data set \n",
    "[name for name in popularity['name'].values if name not in villagers['Name'].values]"
   ]
  },
  {
   "cell_type": "code",
   "execution_count": 8,
   "id": "e8e86e5a",
   "metadata": {
    "execution": {
     "iopub.execute_input": "2023-03-07T15:06:44.520459Z",
     "iopub.status.busy": "2023-03-07T15:06:44.519780Z",
     "iopub.status.idle": "2023-03-07T15:06:44.541390Z",
     "shell.execute_reply": "2023-03-07T15:06:44.540367Z"
    },
    "papermill": {
     "duration": 0.040335,
     "end_time": "2023-03-07T15:06:44.543879",
     "exception": false,
     "start_time": "2023-03-07T15:06:44.503544",
     "status": "completed"
    },
    "tags": []
   },
   "outputs": [
    {
     "data": {
      "text/html": [
       "<div>\n",
       "<style scoped>\n",
       "    .dataframe tbody tr th:only-of-type {\n",
       "        vertical-align: middle;\n",
       "    }\n",
       "\n",
       "    .dataframe tbody tr th {\n",
       "        vertical-align: top;\n",
       "    }\n",
       "\n",
       "    .dataframe thead th {\n",
       "        text-align: right;\n",
       "    }\n",
       "</style>\n",
       "<table border=\"1\" class=\"dataframe\">\n",
       "  <thead>\n",
       "    <tr style=\"text-align: right;\">\n",
       "      <th></th>\n",
       "      <th>Tier</th>\n",
       "      <th>Rank</th>\n",
       "      <th>Name</th>\n",
       "      <th>Total_Popularity</th>\n",
       "    </tr>\n",
       "  </thead>\n",
       "  <tbody>\n",
       "    <tr>\n",
       "      <th>0</th>\n",
       "      <td>1</td>\n",
       "      <td>1</td>\n",
       "      <td>Raymond</td>\n",
       "      <td>1</td>\n",
       "    </tr>\n",
       "    <tr>\n",
       "      <th>1</th>\n",
       "      <td>1</td>\n",
       "      <td>2</td>\n",
       "      <td>Marshal</td>\n",
       "      <td>2</td>\n",
       "    </tr>\n",
       "    <tr>\n",
       "      <th>2</th>\n",
       "      <td>1</td>\n",
       "      <td>3</td>\n",
       "      <td>Shino</td>\n",
       "      <td>3</td>\n",
       "    </tr>\n",
       "    <tr>\n",
       "      <th>3</th>\n",
       "      <td>1</td>\n",
       "      <td>4</td>\n",
       "      <td>Sherb</td>\n",
       "      <td>4</td>\n",
       "    </tr>\n",
       "    <tr>\n",
       "      <th>4</th>\n",
       "      <td>1</td>\n",
       "      <td>5</td>\n",
       "      <td>Sasha</td>\n",
       "      <td>5</td>\n",
       "    </tr>\n",
       "    <tr>\n",
       "      <th>...</th>\n",
       "      <td>...</td>\n",
       "      <td>...</td>\n",
       "      <td>...</td>\n",
       "      <td>...</td>\n",
       "    </tr>\n",
       "    <tr>\n",
       "      <th>408</th>\n",
       "      <td>6</td>\n",
       "      <td>159</td>\n",
       "      <td>Rocco</td>\n",
       "      <td>409</td>\n",
       "    </tr>\n",
       "    <tr>\n",
       "      <th>409</th>\n",
       "      <td>6</td>\n",
       "      <td>160</td>\n",
       "      <td>Bettina</td>\n",
       "      <td>410</td>\n",
       "    </tr>\n",
       "    <tr>\n",
       "      <th>410</th>\n",
       "      <td>6</td>\n",
       "      <td>161</td>\n",
       "      <td>Boris</td>\n",
       "      <td>411</td>\n",
       "    </tr>\n",
       "    <tr>\n",
       "      <th>411</th>\n",
       "      <td>6</td>\n",
       "      <td>162</td>\n",
       "      <td>Bitty</td>\n",
       "      <td>412</td>\n",
       "    </tr>\n",
       "    <tr>\n",
       "      <th>412</th>\n",
       "      <td>6</td>\n",
       "      <td>163</td>\n",
       "      <td>Velma</td>\n",
       "      <td>413</td>\n",
       "    </tr>\n",
       "  </tbody>\n",
       "</table>\n",
       "<p>413 rows × 4 columns</p>\n",
       "</div>"
      ],
      "text/plain": [
       "     Tier  Rank     Name  Total_Popularity\n",
       "0       1     1  Raymond                 1\n",
       "1       1     2  Marshal                 2\n",
       "2       1     3    Shino                 3\n",
       "3       1     4    Sherb                 4\n",
       "4       1     5    Sasha                 5\n",
       "..    ...   ...      ...               ...\n",
       "408     6   159    Rocco               409\n",
       "409     6   160  Bettina               410\n",
       "410     6   161    Boris               411\n",
       "411     6   162    Bitty               412\n",
       "412     6   163    Velma               413\n",
       "\n",
       "[413 rows x 4 columns]"
      ]
     },
     "execution_count": 8,
     "metadata": {},
     "output_type": "execute_result"
    }
   ],
   "source": [
    "# Popularity is based on a tier and the rank within that tier, so we assign a total popularity for every villager\n",
    "# We also capitalize the column names so they can be merged with the villagers data frame later\n",
    "popularity.columns = ['Tier', 'Rank', 'Name']\n",
    "popularity = popularity.sort_values(['Tier', 'Rank'])\n",
    "popularity['Total_Popularity'] = np.arange(1, len(popularity)+1)\n",
    "popularity"
   ]
  },
  {
   "cell_type": "code",
   "execution_count": 9,
   "id": "d220dffe",
   "metadata": {
    "execution": {
     "iopub.execute_input": "2023-03-07T15:06:44.576428Z",
     "iopub.status.busy": "2023-03-07T15:06:44.575945Z",
     "iopub.status.idle": "2023-03-07T15:06:44.610442Z",
     "shell.execute_reply": "2023-03-07T15:06:44.609390Z"
    },
    "papermill": {
     "duration": 0.054052,
     "end_time": "2023-03-07T15:06:44.612936",
     "exception": false,
     "start_time": "2023-03-07T15:06:44.558884",
     "status": "completed"
    },
    "tags": []
   },
   "outputs": [
    {
     "data": {
      "text/html": [
       "<div>\n",
       "<style scoped>\n",
       "    .dataframe tbody tr th:only-of-type {\n",
       "        vertical-align: middle;\n",
       "    }\n",
       "\n",
       "    .dataframe tbody tr th {\n",
       "        vertical-align: top;\n",
       "    }\n",
       "\n",
       "    .dataframe thead th {\n",
       "        text-align: right;\n",
       "    }\n",
       "</style>\n",
       "<table border=\"1\" class=\"dataframe\">\n",
       "  <thead>\n",
       "    <tr style=\"text-align: right;\">\n",
       "      <th></th>\n",
       "      <th>Name</th>\n",
       "      <th>Species</th>\n",
       "      <th>Gender</th>\n",
       "      <th>Personality</th>\n",
       "      <th>Hobby</th>\n",
       "      <th>Style_1</th>\n",
       "      <th>Style_2</th>\n",
       "      <th>Color_1</th>\n",
       "      <th>Color_2</th>\n",
       "      <th>Tier</th>\n",
       "      <th>Rank</th>\n",
       "      <th>Total_Popularity</th>\n",
       "    </tr>\n",
       "  </thead>\n",
       "  <tbody>\n",
       "    <tr>\n",
       "      <th>0</th>\n",
       "      <td>Admiral</td>\n",
       "      <td>Bird</td>\n",
       "      <td>Male</td>\n",
       "      <td>Cranky</td>\n",
       "      <td>Nature</td>\n",
       "      <td>Cool</td>\n",
       "      <td>Cool</td>\n",
       "      <td>Black</td>\n",
       "      <td>Blue</td>\n",
       "      <td>6</td>\n",
       "      <td>89</td>\n",
       "      <td>339</td>\n",
       "    </tr>\n",
       "    <tr>\n",
       "      <th>1</th>\n",
       "      <td>Agent S</td>\n",
       "      <td>Squirrel</td>\n",
       "      <td>Female</td>\n",
       "      <td>Peppy</td>\n",
       "      <td>Fitness</td>\n",
       "      <td>Active</td>\n",
       "      <td>Simple</td>\n",
       "      <td>Blue</td>\n",
       "      <td>Black</td>\n",
       "      <td>6</td>\n",
       "      <td>45</td>\n",
       "      <td>295</td>\n",
       "    </tr>\n",
       "    <tr>\n",
       "      <th>2</th>\n",
       "      <td>Agnes</td>\n",
       "      <td>Pig</td>\n",
       "      <td>Female</td>\n",
       "      <td>Big Sister</td>\n",
       "      <td>Play</td>\n",
       "      <td>Simple</td>\n",
       "      <td>Elegant</td>\n",
       "      <td>Pink</td>\n",
       "      <td>White</td>\n",
       "      <td>4</td>\n",
       "      <td>26</td>\n",
       "      <td>96</td>\n",
       "    </tr>\n",
       "    <tr>\n",
       "      <th>3</th>\n",
       "      <td>Al</td>\n",
       "      <td>Gorilla</td>\n",
       "      <td>Male</td>\n",
       "      <td>Lazy</td>\n",
       "      <td>Fitness</td>\n",
       "      <td>Active</td>\n",
       "      <td>Active</td>\n",
       "      <td>Red</td>\n",
       "      <td>White</td>\n",
       "      <td>6</td>\n",
       "      <td>19</td>\n",
       "      <td>269</td>\n",
       "    </tr>\n",
       "    <tr>\n",
       "      <th>4</th>\n",
       "      <td>Alfonso</td>\n",
       "      <td>Alligator</td>\n",
       "      <td>Male</td>\n",
       "      <td>Lazy</td>\n",
       "      <td>Play</td>\n",
       "      <td>Simple</td>\n",
       "      <td>Simple</td>\n",
       "      <td>Red</td>\n",
       "      <td>Blue</td>\n",
       "      <td>6</td>\n",
       "      <td>6</td>\n",
       "      <td>256</td>\n",
       "    </tr>\n",
       "    <tr>\n",
       "      <th>...</th>\n",
       "      <td>...</td>\n",
       "      <td>...</td>\n",
       "      <td>...</td>\n",
       "      <td>...</td>\n",
       "      <td>...</td>\n",
       "      <td>...</td>\n",
       "      <td>...</td>\n",
       "      <td>...</td>\n",
       "      <td>...</td>\n",
       "      <td>...</td>\n",
       "      <td>...</td>\n",
       "      <td>...</td>\n",
       "    </tr>\n",
       "    <tr>\n",
       "      <th>381</th>\n",
       "      <td>Winnie</td>\n",
       "      <td>Horse</td>\n",
       "      <td>Female</td>\n",
       "      <td>Peppy</td>\n",
       "      <td>Fashion</td>\n",
       "      <td>Cool</td>\n",
       "      <td>Simple</td>\n",
       "      <td>White</td>\n",
       "      <td>Gray</td>\n",
       "      <td>5</td>\n",
       "      <td>86</td>\n",
       "      <td>216</td>\n",
       "    </tr>\n",
       "    <tr>\n",
       "      <th>382</th>\n",
       "      <td>Wolfgang</td>\n",
       "      <td>Wolf</td>\n",
       "      <td>Male</td>\n",
       "      <td>Cranky</td>\n",
       "      <td>Education</td>\n",
       "      <td>Cool</td>\n",
       "      <td>Active</td>\n",
       "      <td>Black</td>\n",
       "      <td>Green</td>\n",
       "      <td>3</td>\n",
       "      <td>15</td>\n",
       "      <td>55</td>\n",
       "    </tr>\n",
       "    <tr>\n",
       "      <th>383</th>\n",
       "      <td>Yuka</td>\n",
       "      <td>Koala</td>\n",
       "      <td>Female</td>\n",
       "      <td>Snooty</td>\n",
       "      <td>Fashion</td>\n",
       "      <td>Cool</td>\n",
       "      <td>Elegant</td>\n",
       "      <td>Orange</td>\n",
       "      <td>Yellow</td>\n",
       "      <td>5</td>\n",
       "      <td>103</td>\n",
       "      <td>233</td>\n",
       "    </tr>\n",
       "    <tr>\n",
       "      <th>384</th>\n",
       "      <td>Zell</td>\n",
       "      <td>Deer</td>\n",
       "      <td>Male</td>\n",
       "      <td>Smug</td>\n",
       "      <td>Music</td>\n",
       "      <td>Cool</td>\n",
       "      <td>Gorgeous</td>\n",
       "      <td>Purple</td>\n",
       "      <td>Gray</td>\n",
       "      <td>3</td>\n",
       "      <td>30</td>\n",
       "      <td>70</td>\n",
       "    </tr>\n",
       "    <tr>\n",
       "      <th>385</th>\n",
       "      <td>Zucker</td>\n",
       "      <td>Octopus</td>\n",
       "      <td>Male</td>\n",
       "      <td>Lazy</td>\n",
       "      <td>Nature</td>\n",
       "      <td>Simple</td>\n",
       "      <td>Cute</td>\n",
       "      <td>Blue</td>\n",
       "      <td>Yellow</td>\n",
       "      <td>1</td>\n",
       "      <td>8</td>\n",
       "      <td>8</td>\n",
       "    </tr>\n",
       "  </tbody>\n",
       "</table>\n",
       "<p>386 rows × 12 columns</p>\n",
       "</div>"
      ],
      "text/plain": [
       "         Name    Species  Gender Personality      Hobby Style_1   Style_2  \\\n",
       "0     Admiral       Bird    Male      Cranky     Nature    Cool      Cool   \n",
       "1     Agent S   Squirrel  Female       Peppy    Fitness  Active    Simple   \n",
       "2       Agnes        Pig  Female  Big Sister       Play  Simple   Elegant   \n",
       "3          Al    Gorilla    Male        Lazy    Fitness  Active    Active   \n",
       "4     Alfonso  Alligator    Male        Lazy       Play  Simple    Simple   \n",
       "..        ...        ...     ...         ...        ...     ...       ...   \n",
       "381    Winnie      Horse  Female       Peppy    Fashion    Cool    Simple   \n",
       "382  Wolfgang       Wolf    Male      Cranky  Education    Cool    Active   \n",
       "383      Yuka      Koala  Female      Snooty    Fashion    Cool   Elegant   \n",
       "384      Zell       Deer    Male        Smug      Music    Cool  Gorgeous   \n",
       "385    Zucker    Octopus    Male        Lazy     Nature  Simple      Cute   \n",
       "\n",
       "    Color_1 Color_2  Tier  Rank  Total_Popularity  \n",
       "0     Black    Blue     6    89               339  \n",
       "1      Blue   Black     6    45               295  \n",
       "2      Pink   White     4    26                96  \n",
       "3       Red   White     6    19               269  \n",
       "4       Red    Blue     6     6               256  \n",
       "..      ...     ...   ...   ...               ...  \n",
       "381   White    Gray     5    86               216  \n",
       "382   Black   Green     3    15                55  \n",
       "383  Orange  Yellow     5   103               233  \n",
       "384  Purple    Gray     3    30                70  \n",
       "385    Blue  Yellow     1     8                 8  \n",
       "\n",
       "[386 rows x 12 columns]"
      ]
     },
     "execution_count": 9,
     "metadata": {},
     "output_type": "execute_result"
    }
   ],
   "source": [
    "# Merge popularity information with villagers data set\n",
    "villagers = pd.merge(villagers, popularity, on=\"Name\")\n",
    "\n",
    "# Drop wallpaper, flooring, etc. because they are almost completely unique to each villager and ∴ not that interesting for this analysis \n",
    "villagers = villagers.drop(columns=['Catchphrase', 'Birthday', 'Favorite_Song', 'Wallpaper', 'Flooring',\n",
    "                                    'Furniture_List', 'Filename', 'Unique_Entry_ID'])\n",
    "villagers"
   ]
  },
  {
   "cell_type": "markdown",
   "id": "6b4239f3",
   "metadata": {
    "papermill": {
     "duration": 0.015559,
     "end_time": "2023-03-07T15:06:44.643907",
     "exception": false,
     "start_time": "2023-03-07T15:06:44.628348",
     "status": "completed"
    },
    "tags": []
   },
   "source": [
    "# Exploring and visualizing the data"
   ]
  },
  {
   "cell_type": "markdown",
   "id": "38a7e432",
   "metadata": {
    "papermill": {
     "duration": 0.015975,
     "end_time": "2023-03-07T15:06:44.676767",
     "exception": false,
     "start_time": "2023-03-07T15:06:44.660792",
     "status": "completed"
    },
    "tags": []
   },
   "source": [
    "It's always a good idea to just look at what we have first, so here I'm taking some of the features that I care about most when picking my favorite villager, i.e. personality type, species, and gender."
   ]
  },
  {
   "cell_type": "markdown",
   "id": "448eff51",
   "metadata": {
    "papermill": {
     "duration": 0.014791,
     "end_time": "2023-03-07T15:06:44.707573",
     "exception": false,
     "start_time": "2023-03-07T15:06:44.692782",
     "status": "completed"
    },
    "tags": []
   },
   "source": [
    "### Personality"
   ]
  },
  {
   "cell_type": "code",
   "execution_count": 10,
   "id": "a8604dfb",
   "metadata": {
    "execution": {
     "iopub.execute_input": "2023-03-07T15:06:44.740811Z",
     "iopub.status.busy": "2023-03-07T15:06:44.739949Z",
     "iopub.status.idle": "2023-03-07T15:06:44.749121Z",
     "shell.execute_reply": "2023-03-07T15:06:44.747965Z"
    },
    "papermill": {
     "duration": 0.028802,
     "end_time": "2023-03-07T15:06:44.751946",
     "exception": false,
     "start_time": "2023-03-07T15:06:44.723144",
     "status": "completed"
    },
    "tags": []
   },
   "outputs": [
    {
     "data": {
      "text/plain": [
       "Lazy          59\n",
       "Normal        59\n",
       "Snooty        55\n",
       "Cranky        54\n",
       "Jock          54\n",
       "Peppy         49\n",
       "Smug          33\n",
       "Big Sister    23\n",
       "Name: Personality, dtype: int64"
      ]
     },
     "execution_count": 10,
     "metadata": {},
     "output_type": "execute_result"
    }
   ],
   "source": [
    "# Number of each personality type\n",
    "villagers[\"Personality\"].value_counts()"
   ]
  },
  {
   "cell_type": "code",
   "execution_count": 11,
   "id": "dbb1a059",
   "metadata": {
    "execution": {
     "iopub.execute_input": "2023-03-07T15:06:44.785952Z",
     "iopub.status.busy": "2023-03-07T15:06:44.785482Z",
     "iopub.status.idle": "2023-03-07T15:06:45.011320Z",
     "shell.execute_reply": "2023-03-07T15:06:45.009521Z"
    },
    "papermill": {
     "duration": 0.248985,
     "end_time": "2023-03-07T15:06:45.016630",
     "exception": false,
     "start_time": "2023-03-07T15:06:44.767645",
     "status": "completed"
    },
    "tags": []
   },
   "outputs": [
    {
     "data": {
      "image/png": "[encoded data removed]",
      "text/plain": [
       "<Figure size 640x480 with 1 Axes>"
      ]
     },
     "metadata": {},
     "output_type": "display_data"
    }
   ],
   "source": [
    "# The same thing but a pie chart this time\n",
    "villagers[\"Personality\"].value_counts().plot(kind=\"pie\", title=\"Villager personality types\")\n",
    "plt.ylabel(\"\")\n",
    "plt.show()"
   ]
  },
  {
   "cell_type": "markdown",
   "id": "e612c4b3",
   "metadata": {
    "papermill": {
     "duration": 0.015541,
     "end_time": "2023-03-07T15:06:45.056729",
     "exception": false,
     "start_time": "2023-03-07T15:06:45.041188",
     "status": "completed"
    },
    "tags": []
   },
   "source": [
    "### Species "
   ]
  },
  {
   "cell_type": "code",
   "execution_count": 12,
   "id": "d19611df",
   "metadata": {
    "execution": {
     "iopub.execute_input": "2023-03-07T15:06:45.091223Z",
     "iopub.status.busy": "2023-03-07T15:06:45.089783Z",
     "iopub.status.idle": "2023-03-07T15:06:45.100160Z",
     "shell.execute_reply": "2023-03-07T15:06:45.099038Z"
    },
    "papermill": {
     "duration": 0.029998,
     "end_time": "2023-03-07T15:06:45.102562",
     "exception": false,
     "start_time": "2023-03-07T15:06:45.072564",
     "status": "completed"
    },
    "tags": []
   },
   "outputs": [
    {
     "data": {
      "text/plain": [
       "Cat          23\n",
       "Rabbit       19\n",
       "Squirrel     18\n",
       "Frog         17\n",
       "Duck         17\n",
       "Dog          16\n",
       "Cub          16\n",
       "Bear         15\n",
       "Mouse        15\n",
       "Pig          14\n",
       "Horse        14\n",
       "Bird         13\n",
       "Penguin      13\n",
       "Sheep        13\n",
       "Elephant     11\n",
       "Wolf         11\n",
       "Ostrich      10\n",
       "Deer         10\n",
       "Eagle         9\n",
       "Gorilla       9\n",
       "Chicken       9\n",
       "Koala         9\n",
       "Goat          8\n",
       "Hamster       8\n",
       "Kangaroo      8\n",
       "Monkey        8\n",
       "Anteater      7\n",
       "Hippo         7\n",
       "Tiger         7\n",
       "Alligator     7\n",
       "Lion          7\n",
       "Bull          6\n",
       "Rhino         5\n",
       "Cow           4\n",
       "Octopus       3\n",
       "Name: Species, dtype: int64"
      ]
     },
     "execution_count": 12,
     "metadata": {},
     "output_type": "execute_result"
    }
   ],
   "source": [
    "villagers[\"Species\"].value_counts()"
   ]
  },
  {
   "cell_type": "code",
   "execution_count": 13,
   "id": "60b84af0",
   "metadata": {
    "execution": {
     "iopub.execute_input": "2023-03-07T15:06:45.137036Z",
     "iopub.status.busy": "2023-03-07T15:06:45.135693Z",
     "iopub.status.idle": "2023-03-07T15:06:45.549730Z",
     "shell.execute_reply": "2023-03-07T15:06:45.548728Z"
    },
    "papermill": {
     "duration": 0.433561,
     "end_time": "2023-03-07T15:06:45.552119",
     "exception": false,
     "start_time": "2023-03-07T15:06:45.118558",
     "status": "completed"
    },
    "tags": []
   },
   "outputs": [
    {
     "data": {
      "image/png": "[encoded data removed]",
      "text/plain": [
       "<Figure size 1200x600 with 1 Axes>"
      ]
     },
     "metadata": {},
     "output_type": "display_data"
    }
   ],
   "source": [
    "villagers[\"Species\"].value_counts().plot(kind='bar', color=\"Orange\", figsize=(12,6))\n",
    "plt.xlabel(\"Species\")\n",
    "plt.ylabel(\"Count\")\n",
    "plt.show()"
   ]
  },
  {
   "cell_type": "markdown",
   "id": "adf5092d",
   "metadata": {
    "papermill": {
     "duration": 0.017329,
     "end_time": "2023-03-07T15:06:45.587778",
     "exception": false,
     "start_time": "2023-03-07T15:06:45.570449",
     "status": "completed"
    },
    "tags": []
   },
   "source": [
    "### Gender"
   ]
  },
  {
   "cell_type": "code",
   "execution_count": 14,
   "id": "5a72ad1c",
   "metadata": {
    "execution": {
     "iopub.execute_input": "2023-03-07T15:06:45.623726Z",
     "iopub.status.busy": "2023-03-07T15:06:45.622845Z",
     "iopub.status.idle": "2023-03-07T15:06:45.633319Z",
     "shell.execute_reply": "2023-03-07T15:06:45.632151Z"
    },
    "papermill": {
     "duration": 0.031452,
     "end_time": "2023-03-07T15:06:45.636093",
     "exception": false,
     "start_time": "2023-03-07T15:06:45.604641",
     "status": "completed"
    },
    "tags": []
   },
   "outputs": [
    {
     "data": {
      "text/plain": [
       "Male      200\n",
       "Female    186\n",
       "Name: Gender, dtype: int64"
      ]
     },
     "execution_count": 14,
     "metadata": {},
     "output_type": "execute_result"
    }
   ],
   "source": [
    "villagers[\"Gender\"].value_counts()"
   ]
  },
  {
   "cell_type": "code",
   "execution_count": 15,
   "id": "759e82fc",
   "metadata": {
    "execution": {
     "iopub.execute_input": "2023-03-07T15:06:45.673559Z",
     "iopub.status.busy": "2023-03-07T15:06:45.673121Z",
     "iopub.status.idle": "2023-03-07T15:06:45.787339Z",
     "shell.execute_reply": "2023-03-07T15:06:45.785103Z"
    },
    "papermill": {
     "duration": 0.138067,
     "end_time": "2023-03-07T15:06:45.792523",
     "exception": false,
     "start_time": "2023-03-07T15:06:45.654456",
     "status": "completed"
    },
    "tags": []
   },
   "outputs": [
    {
     "data": {
      "image/png": "[encoded data removed]",
      "text/plain": [
       "<Figure size 640x480 with 1 Axes>"
      ]
     },
     "metadata": {},
     "output_type": "display_data"
    }
   ],
   "source": [
    "villagers[\"Gender\"].value_counts().plot(kind=\"pie\")\n",
    "plt.show()"
   ]
  },
  {
   "cell_type": "markdown",
   "id": "c0cce794",
   "metadata": {
    "papermill": {
     "duration": 0.026065,
     "end_time": "2023-03-07T15:06:45.864016",
     "exception": false,
     "start_time": "2023-03-07T15:06:45.837951",
     "status": "completed"
    },
    "tags": []
   },
   "source": [
    "## Combinations of things! "
   ]
  },
  {
   "cell_type": "code",
   "execution_count": 16,
   "id": "025a50ee",
   "metadata": {
    "execution": {
     "iopub.execute_input": "2023-03-07T15:06:45.900913Z",
     "iopub.status.busy": "2023-03-07T15:06:45.900350Z",
     "iopub.status.idle": "2023-03-07T15:06:45.911950Z",
     "shell.execute_reply": "2023-03-07T15:06:45.910586Z"
    },
    "papermill": {
     "duration": 0.033367,
     "end_time": "2023-03-07T15:06:45.914553",
     "exception": false,
     "start_time": "2023-03-07T15:06:45.881186",
     "status": "completed"
    },
    "tags": []
   },
   "outputs": [
    {
     "data": {
      "text/plain": [
       "Tier  Personality\n",
       "1     Lazy            4\n",
       "      Normal          4\n",
       "      Smug            2\n",
       "      Snooty          2\n",
       "2     Normal          6\n",
       "      Peppy           6\n",
       "      Lazy            4\n",
       "      Cranky          2\n",
       "      Jock            2\n",
       "      Smug            2\n",
       "      Big Sister      1\n",
       "      Snooty          1\n",
       "3     Normal          8\n",
       "      Big Sister      5\n",
       "      Cranky          4\n",
       "      Peppy           4\n",
       "      Jock            3\n",
       "      Lazy            2\n",
       "      Smug            2\n",
       "      Snooty          1\n",
       "4     Peppy          10\n",
       "      Lazy            9\n",
       "      Normal          8\n",
       "      Big Sister      6\n",
       "      Smug            6\n",
       "      Snooty          6\n",
       "      Cranky          5\n",
       "      Jock            5\n",
       "5     Lazy           19\n",
       "      Normal         19\n",
       "      Jock           17\n",
       "      Peppy          16\n",
       "      Snooty         15\n",
       "      Cranky         12\n",
       "      Big Sister      7\n",
       "      Smug            5\n",
       "6     Cranky         31\n",
       "      Snooty         30\n",
       "      Jock           27\n",
       "      Lazy           21\n",
       "      Smug           16\n",
       "      Normal         14\n",
       "      Peppy          13\n",
       "      Big Sister      4\n",
       "Name: Personality, dtype: int64"
      ]
     },
     "execution_count": 16,
     "metadata": {},
     "output_type": "execute_result"
    }
   ],
   "source": [
    "# Number of personality types in each tier\n",
    "villagers.groupby('Tier').Personality.value_counts()"
   ]
  },
  {
   "cell_type": "code",
   "execution_count": 17,
   "id": "d8407494",
   "metadata": {
    "execution": {
     "iopub.execute_input": "2023-03-07T15:06:45.952723Z",
     "iopub.status.busy": "2023-03-07T15:06:45.952277Z",
     "iopub.status.idle": "2023-03-07T15:06:46.366046Z",
     "shell.execute_reply": "2023-03-07T15:06:46.364733Z"
    },
    "papermill": {
     "duration": 0.435883,
     "end_time": "2023-03-07T15:06:46.368980",
     "exception": false,
     "start_time": "2023-03-07T15:06:45.933097",
     "status": "completed"
    },
    "tags": []
   },
   "outputs": [
    {
     "data": {
      "image/png": "[encoded data removed]",
      "text/plain": [
       "<Figure size 640x480 with 1 Axes>"
      ]
     },
     "metadata": {},
     "output_type": "display_data"
    }
   ],
   "source": [
    "# Making it into a plot!\n",
    "sns.countplot(data=villagers, y=\"Personality\", hue=\"Tier\", palette=\"pastel\")\n",
    "plt.plot()\n",
    "plt.xlabel(\"Count\")\n",
    "plt.show()"
   ]
  },
  {
   "cell_type": "markdown",
   "id": "e0140f01",
   "metadata": {
    "papermill": {
     "duration": 0.018293,
     "end_time": "2023-03-07T15:06:46.405998",
     "exception": false,
     "start_time": "2023-03-07T15:06:46.387705",
     "status": "completed"
    },
    "tags": []
   },
   "source": [
    "Perhaps unsurprisingly, the least popular villagers are cranky, snooty, and jocks."
   ]
  },
  {
   "cell_type": "code",
   "execution_count": 18,
   "id": "79fb2f76",
   "metadata": {
    "execution": {
     "iopub.execute_input": "2023-03-07T15:06:46.444699Z",
     "iopub.status.busy": "2023-03-07T15:06:46.444022Z",
     "iopub.status.idle": "2023-03-07T15:06:47.189464Z",
     "shell.execute_reply": "2023-03-07T15:06:47.188166Z"
    },
    "papermill": {
     "duration": 0.768246,
     "end_time": "2023-03-07T15:06:47.192340",
     "exception": false,
     "start_time": "2023-03-07T15:06:46.424094",
     "status": "completed"
    },
    "tags": []
   },
   "outputs": [
    {
     "data": {
      "image/png": "[encoded data removed]",
      "text/plain": [
       "<Figure size 600x1200 with 1 Axes>"
      ]
     },
     "metadata": {},
     "output_type": "display_data"
    }
   ],
   "source": [
    "# Gender breakdown for each species  \n",
    "from matplotlib import rcParams\n",
    "rcParams['figure.figsize'] = 6,12\n",
    "\n",
    "sns.countplot(y=\"Species\", hue=\"Gender\", data=villagers, palette=\"pastel\")\n",
    "plt.xlabel(\"Count\")\n",
    "plt.show()"
   ]
  },
  {
   "cell_type": "code",
   "execution_count": 19,
   "id": "14f8ddf9",
   "metadata": {
    "execution": {
     "iopub.execute_input": "2023-03-07T15:06:47.234194Z",
     "iopub.status.busy": "2023-03-07T15:06:47.233748Z",
     "iopub.status.idle": "2023-03-07T15:06:48.383332Z",
     "shell.execute_reply": "2023-03-07T15:06:48.382095Z"
    },
    "papermill": {
     "duration": 1.173201,
     "end_time": "2023-03-07T15:06:48.386141",
     "exception": false,
     "start_time": "2023-03-07T15:06:47.212940",
     "status": "completed"
    },
    "tags": []
   },
   "outputs": [
    {
     "data": {
      "text/html": [
       "        <script type=\"text/javascript\">\n",
       "        window.PlotlyConfig = {MathJaxConfig: 'local'};\n",
       "        if (window.MathJax && window.MathJax.Hub && window.MathJax.Hub.Config) {window.MathJax.Hub.Config({SVG: {font: \"STIX-Web\"}});}\n",
       "        if (typeof require !== 'undefined') {\n",
       "        require.undef(\"plotly\");\n",
       "        requirejs.config({\n",
       "            paths: {\n",
       "                'plotly': ['https://cdn.plot.ly/plotly-2.18.0.min']\n",
       "            }\n",
       "        });\n",
       "        require(['plotly'], function(Plotly) {\n",
       "            window._Plotly = Plotly;\n",
       "        });\n",
       "        }\n",
       "        </script>\n",
       "        "
      ]
     },
     "metadata": {},
     "output_type": "display_data"
    },
    {
     "data": {
      "text/html": [
       "<div>                            <div id=\"d6262457-417a-4956-b933-768a04abf0f1\" class=\"plotly-graph-div\" style=\"height:525px; width:100%;\"></div>            <script type=\"text/javascript\">                require([\"plotly\"], function(Plotly) {                    window.PLOTLYENV=window.PLOTLYENV || {};                                    if (document.getElementById(\"d6262457-417a-4956-b933-768a04abf0f1\")) {                    Plotly.newPlot(                        \"d6262457-417a-4956-b933-768a04abf0f1\",                        [{\"alignmentgroup\":\"True\",\"customdata\":[[\"Admiral\",\"Bird\"],[\"Al\",\"Gorilla\"],[\"Alfonso\",\"Alligator\"],[\"Anchovy\",\"Bird\"],[\"Angus\",\"Bull\"],[\"Antonio\",\"Anteater\"],[\"Apollo\",\"Eagle\"],[\"Avery\",\"Eagle\"],[\"Axel\",\"Elephant\"],[\"Bam\",\"Deer\"],[\"Barold\",\"Cub\"],[\"Beardo\",\"Bear\"],[\"Beau\",\"Deer\"],[\"Benedict\",\"Chicken\"],[\"Benjamin\",\"Dog\"],[\"Biff\",\"Hippo\"],[\"Big Top\",\"Elephant\"],[\"Bill\",\"Duck\"],[\"Billy\",\"Goat\"],[\"Biskit\",\"Dog\"],[\"Bob\",\"Cat\"],[\"Bones\",\"Dog\"],[\"Boomer\",\"Penguin\"],[\"Boone\",\"Gorilla\"],[\"Boots\",\"Alligator\"],[\"Boris\",\"Pig\"],[\"Boyd\",\"Gorilla\"],[\"Broccolo\",\"Mouse\"],[\"Bruce\",\"Deer\"],[\"Bud\",\"Lion\"],[\"Butch\",\"Dog\"],[\"Buzz\",\"Eagle\"],[\"Camofrog\",\"Frog\"],[\"Cesar\",\"Gorilla\"],[\"Chadder\",\"Mouse\"],[\"Chester\",\"Cub\"],[\"Chief\",\"Wolf\"],[\"Chops\",\"Pig\"],[\"Chow\",\"Bear\"],[\"Claude\",\"Rabbit\"],[\"Clay\",\"Hamster\"],[\"Clyde\",\"Horse\"],[\"Coach\",\"Bull\"],[\"Cobb\",\"Pig\"],[\"Cole\",\"Rabbit\"],[\"Colton\",\"Horse\"],[\"Cousteau\",\"Frog\"],[\"Cranston\",\"Ostrich\"],[\"Croque\",\"Frog\"],[\"Cube\",\"Penguin\"],[\"Curlos\",\"Sheep\"],[\"Curly\",\"Pig\"],[\"Curt\",\"Bear\"],[\"Cyd\",\"Elephant\"],[\"Cyrano\",\"Anteater\"],[\"Del\",\"Alligator\"],[\"Deli\",\"Monkey\"],[\"Derwin\",\"Duck\"],[\"Dizzy\",\"Elephant\"],[\"Dobie\",\"Wolf\"],[\"Doc\",\"Rabbit\"],[\"Dom\",\"Sheep\"],[\"Drago\",\"Alligator\"],[\"Drake\",\"Duck\"],[\"Drift\",\"Frog\"],[\"Ed\",\"Horse\"],[\"Egbert\",\"Chicken\"],[\"Elmer\",\"Horse\"],[\"Elvis\",\"Lion\"],[\"Erik\",\"Deer\"],[\"Eugene\",\"Koala\"],[\"Fang\",\"Wolf\"],[\"Filbert\",\"Squirrel\"],[\"Flip\",\"Monkey\"],[\"Frank\",\"Eagle\"],[\"Frobert\",\"Frog\"],[\"Gaston\",\"Rabbit\"],[\"Genji\",\"Rabbit\"],[\"Gonzo\",\"Koala\"],[\"Goose\",\"Chicken\"],[\"Graham\",\"Hamster\"],[\"Grizzly\",\"Bear\"],[\"Groucho\",\"Bear\"],[\"Gruff\",\"Goat\"],[\"Hamlet\",\"Hamster\"],[\"Hamphrey\",\"Hamster\"],[\"Hans\",\"Gorilla\"],[\"Harry\",\"Hippo\"],[\"Henry\",\"Frog\"],[\"Hippeux\",\"Hippo\"],[\"Hopkins\",\"Rabbit\"],[\"Hopper\",\"Penguin\"],[\"Hornsby\",\"Rhino\"],[\"Huck\",\"Frog\"],[\"Hugh\",\"Pig\"],[\"Iggly\",\"Penguin\"],[\"Ike\",\"Bear\"],[\"Jacob\",\"Bird\"],[\"Jacques\",\"Bird\"],[\"Jay\",\"Bird\"],[\"Jeremiah\",\"Frog\"],[\"Jitters\",\"Bird\"],[\"Joey\",\"Duck\"],[\"Julian\",\"Horse\"],[\"Kabuki\",\"Cat\"],[\"Keaton\",\"Eagle\"],[\"Ken\",\"Chicken\"],[\"Kevin\",\"Pig\"],[\"Kid Cat\",\"Cat\"],[\"Kidd\",\"Goat\"],[\"Klaus\",\"Bear\"],[\"Knox\",\"Chicken\"],[\"Kody\",\"Cub\"],[\"Kyle\",\"Wolf\"],[\"Leonardo\",\"Tiger\"],[\"Leopold\",\"Lion\"],[\"Limberg\",\"Mouse\"],[\"Lionel\",\"Lion\"],[\"Lobo\",\"Wolf\"],[\"Lopez\",\"Deer\"],[\"Louie\",\"Gorilla\"],[\"Lucha\",\"Bird\"],[\"Lucky\",\"Dog\"],[\"Lyman\",\"Koala\"],[\"Mac\",\"Dog\"],[\"Marcel\",\"Dog\"],[\"Marshal\",\"Squirrel\"],[\"Moe\",\"Cat\"],[\"Monty\",\"Monkey\"],[\"Moose\",\"Mouse\"],[\"Mott\",\"Lion\"],[\"Murphy\",\"Cub\"],[\"Nate\",\"Bear\"],[\"Octavian\",\"Octopus\"],[\"Olaf\",\"Anteater\"],[\"Ozzie\",\"Koala\"],[\"Paolo\",\"Elephant\"],[\"Papi\",\"Horse\"],[\"Peck\",\"Bird\"],[\"Peewee\",\"Gorilla\"],[\"Phil\",\"Ostrich\"],[\"Pierce\",\"Eagle\"],[\"Pietro\",\"Sheep\"],[\"Poncho\",\"Cub\"],[\"Prince\",\"Frog\"],[\"Puck\",\"Penguin\"],[\"Pudge\",\"Cub\"],[\"Punchy\",\"Cat\"],[\"Quillson\",\"Duck\"],[\"Raddle\",\"Frog\"],[\"Rasher\",\"Pig\"],[\"Raymond\",\"Cat\"],[\"Rex\",\"Lion\"],[\"Ribbot\",\"Frog\"],[\"Ricky\",\"Squirrel\"],[\"Rizzo\",\"Mouse\"],[\"Roald\",\"Penguin\"],[\"Rocco\",\"Hippo\"],[\"Rod\",\"Mouse\"],[\"Rodeo\",\"Bull\"],[\"Rodney\",\"Hamster\"],[\"Rolf\",\"Tiger\"],[\"Rooney\",\"Kangaroo\"],[\"Rory\",\"Lion\"],[\"Roscoe\",\"Horse\"],[\"Rowan\",\"Tiger\"],[\"Rudy\",\"Cat\"],[\"Samson\",\"Mouse\"],[\"Scoot\",\"Duck\"],[\"Sheldon\",\"Squirrel\"],[\"Shep\",\"Dog\"],[\"Sherb\",\"Goat\"],[\"Simon\",\"Monkey\"],[\"Sly\",\"Alligator\"],[\"Snake\",\"Rabbit\"],[\"Sparro\",\"Bird\"],[\"Spike\",\"Rhino\"],[\"Sprocket\",\"Ostrich\"],[\"Static\",\"Squirrel\"],[\"Sterling\",\"Eagle\"],[\"Stinky\",\"Cat\"],[\"Stitches\",\"Cub\"],[\"Stu\",\"Bull\"],[\"T-Bone\",\"Bull\"],[\"Tad\",\"Frog\"],[\"Tank\",\"Rhino\"],[\"Teddy\",\"Bear\"],[\"Tex\",\"Penguin\"],[\"Tom\",\"Cat\"],[\"Tucker\",\"Elephant\"],[\"Tybalt\",\"Tiger\"],[\"Vic\",\"Bull\"],[\"Vladimir\",\"Cub\"],[\"Wade\",\"Penguin\"],[\"Walker\",\"Dog\"],[\"Walt\",\"Kangaroo\"],[\"Weber\",\"Duck\"],[\"Wolfgang\",\"Wolf\"],[\"Zell\",\"Deer\"],[\"Zucker\",\"Octopus\"]],\"hovertemplate\":\"Gender=Male<br>Personality=%{x}<br>Count=%{y}<br>Name=%{customdata[0]}<br>Species=%{customdata[1]}<extra></extra>\",\"legendgroup\":\"Male\",\"marker\":{\"color\":\"#636efa\",\"pattern\":{\"shape\":\"\"}},\"name\":\"Male\",\"offsetgroup\":\"Male\",\"orientation\":\"v\",\"showlegend\":true,\"textposition\":\"auto\",\"x\":[\"Cranky\",\"Lazy\",\"Lazy\",\"Lazy\",\"Cranky\",\"Jock\",\"Cranky\",\"Cranky\",\"Jock\",\"Jock\",\"Lazy\",\"Smug\",\"Lazy\",\"Lazy\",\"Lazy\",\"Jock\",\"Lazy\",\"Jock\",\"Jock\",\"Lazy\",\"Lazy\",\"Lazy\",\"Lazy\",\"Jock\",\"Jock\",\"Cranky\",\"Cranky\",\"Lazy\",\"Cranky\",\"Jock\",\"Cranky\",\"Cranky\",\"Cranky\",\"Cranky\",\"Smug\",\"Lazy\",\"Cranky\",\"Smug\",\"Cranky\",\"Lazy\",\"Lazy\",\"Lazy\",\"Jock\",\"Jock\",\"Lazy\",\"Smug\",\"Jock\",\"Lazy\",\"Cranky\",\"Lazy\",\"Smug\",\"Jock\",\"Cranky\",\"Cranky\",\"Cranky\",\"Cranky\",\"Lazy\",\"Lazy\",\"Lazy\",\"Cranky\",\"Lazy\",\"Jock\",\"Lazy\",\"Lazy\",\"Jock\",\"Smug\",\"Lazy\",\"Lazy\",\"Cranky\",\"Lazy\",\"Smug\",\"Cranky\",\"Lazy\",\"Jock\",\"Cranky\",\"Jock\",\"Cranky\",\"Jock\",\"Cranky\",\"Jock\",\"Smug\",\"Cranky\",\"Cranky\",\"Cranky\",\"Jock\",\"Cranky\",\"Smug\",\"Cranky\",\"Smug\",\"Smug\",\"Lazy\",\"Cranky\",\"Lazy\",\"Smug\",\"Lazy\",\"Jock\",\"Cranky\",\"Lazy\",\"Smug\",\"Jock\",\"Lazy\",\"Jock\",\"Lazy\",\"Smug\",\"Cranky\",\"Smug\",\"Smug\",\"Jock\",\"Jock\",\"Smug\",\"Smug\",\"Cranky\",\"Jock\",\"Smug\",\"Jock\",\"Smug\",\"Cranky\",\"Smug\",\"Cranky\",\"Smug\",\"Jock\",\"Smug\",\"Lazy\",\"Jock\",\"Jock\",\"Lazy\",\"Smug\",\"Lazy\",\"Cranky\",\"Jock\",\"Jock\",\"Cranky\",\"Lazy\",\"Cranky\",\"Smug\",\"Lazy\",\"Lazy\",\"Lazy\",\"Jock\",\"Cranky\",\"Smug\",\"Jock\",\"Smug\",\"Jock\",\"Lazy\",\"Lazy\",\"Lazy\",\"Lazy\",\"Smug\",\"Lazy\",\"Cranky\",\"Smug\",\"Lazy\",\"Jock\",\"Cranky\",\"Cranky\",\"Jock\",\"Cranky\",\"Jock\",\"Lazy\",\"Smug\",\"Cranky\",\"Cranky\",\"Jock\",\"Cranky\",\"Jock\",\"Jock\",\"Jock\",\"Jock\",\"Jock\",\"Smug\",\"Lazy\",\"Lazy\",\"Jock\",\"Jock\",\"Jock\",\"Cranky\",\"Jock\",\"Cranky\",\"Jock\",\"Jock\",\"Lazy\",\"Lazy\",\"Cranky\",\"Jock\",\"Jock\",\"Jock\",\"Smug\",\"Cranky\",\"Lazy\",\"Jock\",\"Cranky\",\"Cranky\",\"Lazy\",\"Lazy\",\"Cranky\",\"Lazy\",\"Cranky\",\"Smug\",\"Lazy\"],\"xaxis\":\"x\",\"y\":[1,1,1,1,1,1,1,1,1,1,1,1,1,1,1,1,1,1,1,1,1,1,1,1,1,1,1,1,1,1,1,1,1,1,1,1,1,1,1,1,1,1,1,1,1,1,1,1,1,1,1,1,1,1,1,1,1,1,1,1,1,1,1,1,1,1,1,1,1,1,1,1,1,1,1,1,1,1,1,1,1,1,1,1,1,1,1,1,1,1,1,1,1,1,1,1,1,1,1,1,1,1,1,1,1,1,1,1,1,1,1,1,1,1,1,1,1,1,1,1,1,1,1,1,1,1,1,1,1,1,1,1,1,1,1,1,1,1,1,1,1,1,1,1,1,1,1,1,1,1,1,1,1,1,1,1,1,1,1,1,1,1,1,1,1,1,1,1,1,1,1,1,1,1,1,1,1,1,1,1,1,1,1,1,1,1,1,1,1,1,1,1,1,1,1,1,1,1,1,1],\"yaxis\":\"y\",\"type\":\"bar\"},{\"alignmentgroup\":\"True\",\"customdata\":[[\"Agent S\",\"Squirrel\"],[\"Agnes\",\"Pig\"],[\"Alice\",\"Koala\"],[\"Alli\",\"Alligator\"],[\"Amelia\",\"Eagle\"],[\"Anabelle\",\"Anteater\"],[\"Anicotti\",\"Mouse\"],[\"Ankha\",\"Cat\"],[\"Annalisa\",\"Anteater\"],[\"Annalise\",\"Horse\"],[\"Apple\",\"Hamster\"],[\"Astrid\",\"Kangaroo\"],[\"Audie\",\"Wolf\"],[\"Aurora\",\"Penguin\"],[\"Ava\",\"Chicken\"],[\"Baabara\",\"Sheep\"],[\"Bangle\",\"Tiger\"],[\"Bea\",\"Dog\"],[\"Becky\",\"Chicken\"],[\"Bella\",\"Mouse\"],[\"Bertha\",\"Hippo\"],[\"Bettina\",\"Mouse\"],[\"Bianca\",\"Tiger\"],[\"Bitty\",\"Hippo\"],[\"Blaire\",\"Squirrel\"],[\"Blanche\",\"Ostrich\"],[\"Bluebear\",\"Cub\"],[\"Bonbon\",\"Rabbit\"],[\"Bree\",\"Mouse\"],[\"Broffina\",\"Chicken\"],[\"Bubbles\",\"Hippo\"],[\"Bunnie\",\"Rabbit\"],[\"Cally\",\"Squirrel\"],[\"Canberra\",\"Koala\"],[\"Candi\",\"Mouse\"],[\"Carmen\",\"Rabbit\"],[\"Caroline\",\"Squirrel\"],[\"Carrie\",\"Kangaroo\"],[\"Cashmere\",\"Sheep\"],[\"Celia\",\"Eagle\"],[\"Charlise\",\"Bear\"],[\"Cheri\",\"Cub\"],[\"Cherry\",\"Dog\"],[\"Chevre\",\"Goat\"],[\"Chrissy\",\"Rabbit\"],[\"Claudia\",\"Tiger\"],[\"Cleo\",\"Horse\"],[\"Coco\",\"Rabbit\"],[\"Cookie\",\"Dog\"],[\"Daisy\",\"Dog\"],[\"Deena\",\"Duck\"],[\"Deirdre\",\"Deer\"],[\"Diana\",\"Deer\"],[\"Diva\",\"Frog\"],[\"Dora\",\"Mouse\"],[\"Dotty\",\"Rabbit\"],[\"Elise\",\"Monkey\"],[\"Ellie\",\"Elephant\"],[\"Eloise\",\"Elephant\"],[\"Eunice\",\"Sheep\"],[\"Fauna\",\"Deer\"],[\"Felicity\",\"Cat\"],[\"Flo\",\"Penguin\"],[\"Flora\",\"Ostrich\"],[\"Flurry\",\"Hamster\"],[\"Francine\",\"Rabbit\"],[\"Freckles\",\"Duck\"],[\"Freya\",\"Wolf\"],[\"Friga\",\"Penguin\"],[\"Frita\",\"Sheep\"],[\"Fuchsia\",\"Deer\"],[\"Gabi\",\"Rabbit\"],[\"Gala\",\"Pig\"],[\"Gayle\",\"Alligator\"],[\"Gigi\",\"Frog\"],[\"Gladys\",\"Ostrich\"],[\"Gloria\",\"Duck\"],[\"Goldie\",\"Dog\"],[\"Greta\",\"Mouse\"],[\"Gwen\",\"Penguin\"],[\"Hazel\",\"Squirrel\"],[\"Jambette\",\"Frog\"],[\"Judy\",\"Cub\"],[\"Julia\",\"Ostrich\"],[\"June\",\"Cub\"],[\"Katt\",\"Cat\"],[\"Ketchup\",\"Duck\"],[\"Kiki\",\"Cat\"],[\"Kitt\",\"Kangaroo\"],[\"Kitty\",\"Cat\"],[\"Lily\",\"Frog\"],[\"Lolly\",\"Cat\"],[\"Lucy\",\"Pig\"],[\"Maddie\",\"Dog\"],[\"Maelle\",\"Duck\"],[\"Maggie\",\"Pig\"],[\"Mallary\",\"Duck\"],[\"Maple\",\"Cub\"],[\"Marcie\",\"Kangaroo\"],[\"Margie\",\"Elephant\"],[\"Marina\",\"Octopus\"],[\"Mathilda\",\"Kangaroo\"],[\"Megan\",\"Bear\"],[\"Melba\",\"Koala\"],[\"Merengue\",\"Rhino\"],[\"Merry\",\"Cat\"],[\"Midge\",\"Bird\"],[\"Mint\",\"Squirrel\"],[\"Mira\",\"Rabbit\"],[\"Miranda\",\"Duck\"],[\"Mitzi\",\"Cat\"],[\"Molly\",\"Duck\"],[\"Monique\",\"Cat\"],[\"Muffy\",\"Sheep\"],[\"Nan\",\"Goat\"],[\"Nana\",\"Monkey\"],[\"Naomi\",\"Cow\"],[\"Nibbles\",\"Squirrel\"],[\"Norma\",\"Cow\"],[\"Olive\",\"Cub\"],[\"Olivia\",\"Cat\"],[\"Opal\",\"Elephant\"],[\"Pancetti\",\"Pig\"],[\"Pango\",\"Anteater\"],[\"Pashmina\",\"Goat\"],[\"Pate\",\"Duck\"],[\"Patty\",\"Cow\"],[\"Paula\",\"Bear\"],[\"Peaches\",\"Horse\"],[\"Peanut\",\"Squirrel\"],[\"Pecan\",\"Squirrel\"],[\"Peggy\",\"Pig\"],[\"Pekoe\",\"Cub\"],[\"Penelope\",\"Mouse\"],[\"Phoebe\",\"Ostrich\"],[\"Pinky\",\"Bear\"],[\"Piper\",\"Bird\"],[\"Pippy\",\"Rabbit\"],[\"Plucky\",\"Chicken\"],[\"Pompom\",\"Duck\"],[\"Poppy\",\"Squirrel\"],[\"Portia\",\"Dog\"],[\"Puddles\",\"Frog\"],[\"Purrl\",\"Cat\"],[\"Queenie\",\"Ostrich\"],[\"Reneigh\",\"Horse\"],[\"Rhonda\",\"Rhino\"],[\"Robin\",\"Bird\"],[\"Rocket\",\"Gorilla\"],[\"Rosie\",\"Cat\"],[\"Ruby\",\"Rabbit\"],[\"Sally\",\"Squirrel\"],[\"Sandy\",\"Ostrich\"],[\"Savannah\",\"Horse\"],[\"Shari\",\"Monkey\"],[\"Skye\",\"Wolf\"],[\"Snooty\",\"Anteater\"],[\"Soleil\",\"Hamster\"],[\"Sprinkle\",\"Penguin\"],[\"Stella\",\"Sheep\"],[\"Sydney\",\"Koala\"],[\"Sylvana\",\"Squirrel\"],[\"Sylvia\",\"Kangaroo\"],[\"Tabby\",\"Cat\"],[\"Tammi\",\"Monkey\"],[\"Tammy\",\"Cub\"],[\"Tangy\",\"Cat\"],[\"Tasha\",\"Squirrel\"],[\"Tia\",\"Elephant\"],[\"Tiffany\",\"Rabbit\"],[\"Timbra\",\"Sheep\"],[\"Tipper\",\"Cow\"],[\"Truffles\",\"Pig\"],[\"Tutu\",\"Bear\"],[\"Twiggy\",\"Bird\"],[\"Ursala\",\"Bear\"],[\"Velma\",\"Goat\"],[\"Vesta\",\"Sheep\"],[\"Victoria\",\"Horse\"],[\"Violet\",\"Gorilla\"],[\"Vivian\",\"Wolf\"],[\"Wendy\",\"Sheep\"],[\"Whitney\",\"Wolf\"],[\"Willow\",\"Sheep\"],[\"Winnie\",\"Horse\"],[\"Yuka\",\"Koala\"]],\"hovertemplate\":\"Gender=Female<br>Personality=%{x}<br>Count=%{y}<br>Name=%{customdata[0]}<br>Species=%{customdata[1]}<extra></extra>\",\"legendgroup\":\"Female\",\"marker\":{\"color\":\"#EF553B\",\"pattern\":{\"shape\":\"\"}},\"name\":\"Female\",\"offsetgroup\":\"Female\",\"orientation\":\"v\",\"showlegend\":true,\"textposition\":\"auto\",\"x\":[\"Peppy\",\"Big Sister\",\"Normal\",\"Snooty\",\"Snooty\",\"Peppy\",\"Peppy\",\"Snooty\",\"Normal\",\"Snooty\",\"Peppy\",\"Snooty\",\"Peppy\",\"Normal\",\"Normal\",\"Snooty\",\"Peppy\",\"Normal\",\"Snooty\",\"Peppy\",\"Normal\",\"Normal\",\"Peppy\",\"Snooty\",\"Snooty\",\"Snooty\",\"Peppy\",\"Peppy\",\"Snooty\",\"Snooty\",\"Peppy\",\"Peppy\",\"Normal\",\"Big Sister\",\"Peppy\",\"Peppy\",\"Normal\",\"Normal\",\"Snooty\",\"Normal\",\"Big Sister\",\"Peppy\",\"Big Sister\",\"Normal\",\"Peppy\",\"Snooty\",\"Snooty\",\"Normal\",\"Peppy\",\"Normal\",\"Normal\",\"Big Sister\",\"Snooty\",\"Big Sister\",\"Normal\",\"Peppy\",\"Snooty\",\"Normal\",\"Snooty\",\"Normal\",\"Normal\",\"Peppy\",\"Big Sister\",\"Peppy\",\"Normal\",\"Snooty\",\"Peppy\",\"Snooty\",\"Snooty\",\"Big Sister\",\"Big Sister\",\"Peppy\",\"Normal\",\"Normal\",\"Snooty\",\"Normal\",\"Snooty\",\"Normal\",\"Snooty\",\"Snooty\",\"Big Sister\",\"Normal\",\"Snooty\",\"Snooty\",\"Normal\",\"Big Sister\",\"Peppy\",\"Normal\",\"Normal\",\"Snooty\",\"Normal\",\"Normal\",\"Normal\",\"Peppy\",\"Snooty\",\"Normal\",\"Snooty\",\"Normal\",\"Normal\",\"Normal\",\"Normal\",\"Snooty\",\"Normal\",\"Normal\",\"Normal\",\"Peppy\",\"Normal\",\"Snooty\",\"Big Sister\",\"Snooty\",\"Normal\",\"Normal\",\"Snooty\",\"Big Sister\",\"Normal\",\"Normal\",\"Snooty\",\"Peppy\",\"Normal\",\"Normal\",\"Snooty\",\"Snooty\",\"Snooty\",\"Peppy\",\"Big Sister\",\"Peppy\",\"Peppy\",\"Big Sister\",\"Normal\",\"Peppy\",\"Snooty\",\"Peppy\",\"Normal\",\"Peppy\",\"Big Sister\",\"Peppy\",\"Peppy\",\"Peppy\",\"Big Sister\",\"Peppy\",\"Normal\",\"Snooty\",\"Peppy\",\"Snooty\",\"Snooty\",\"Big Sister\",\"Normal\",\"Snooty\",\"Big Sister\",\"Peppy\",\"Peppy\",\"Normal\",\"Normal\",\"Normal\",\"Big Sister\",\"Normal\",\"Snooty\",\"Snooty\",\"Peppy\",\"Normal\",\"Normal\",\"Normal\",\"Big Sister\",\"Peppy\",\"Peppy\",\"Big Sister\",\"Peppy\",\"Snooty\",\"Normal\",\"Snooty\",\"Snooty\",\"Snooty\",\"Peppy\",\"Peppy\",\"Peppy\",\"Big Sister\",\"Snooty\",\"Normal\",\"Peppy\",\"Snooty\",\"Snooty\",\"Peppy\",\"Snooty\",\"Snooty\",\"Peppy\",\"Snooty\"],\"xaxis\":\"x\",\"y\":[1,1,1,1,1,1,1,1,1,1,1,1,1,1,1,1,1,1,1,1,1,1,1,1,1,1,1,1,1,1,1,1,1,1,1,1,1,1,1,1,1,1,1,1,1,1,1,1,1,1,1,1,1,1,1,1,1,1,1,1,1,1,1,1,1,1,1,1,1,1,1,1,1,1,1,1,1,1,1,1,1,1,1,1,1,1,1,1,1,1,1,1,1,1,1,1,1,1,1,1,1,1,1,1,1,1,1,1,1,1,1,1,1,1,1,1,1,1,1,1,1,1,1,1,1,1,1,1,1,1,1,1,1,1,1,1,1,1,1,1,1,1,1,1,1,1,1,1,1,1,1,1,1,1,1,1,1,1,1,1,1,1,1,1,1,1,1,1,1,1,1,1,1,1,1,1,1,1,1,1,1,1,1,1,1,1],\"yaxis\":\"y\",\"type\":\"bar\"}],                        {\"template\":{\"data\":{\"histogram2dcontour\":[{\"type\":\"histogram2dcontour\",\"colorbar\":{\"outlinewidth\":0,\"ticks\":\"\"},\"colorscale\":[[0.0,\"#0d0887\"],[0.1111111111111111,\"#46039f\"],[0.2222222222222222,\"#7201a8\"],[0.3333333333333333,\"#9c179e\"],[0.4444444444444444,\"#bd3786\"],[0.5555555555555556,\"#d8576b\"],[0.6666666666666666,\"#ed7953\"],[0.7777777777777778,\"#fb9f3a\"],[0.8888888888888888,\"#fdca26\"],[1.0,\"#f0f921\"]]}],\"choropleth\":[{\"type\":\"choropleth\",\"colorbar\":{\"outlinewidth\":0,\"ticks\":\"\"}}],\"histogram2d\":[{\"type\":\"histogram2d\",\"colorbar\":{\"outlinewidth\":0,\"ticks\":\"\"},\"colorscale\":[[0.0,\"#0d0887\"],[0.1111111111111111,\"#46039f\"],[0.2222222222222222,\"#7201a8\"],[0.3333333333333333,\"#9c179e\"],[0.4444444444444444,\"#bd3786\"],[0.5555555555555556,\"#d8576b\"],[0.6666666666666666,\"#ed7953\"],[0.7777777777777778,\"#fb9f3a\"],[0.8888888888888888,\"#fdca26\"],[1.0,\"#f0f921\"]]}],\"heatmap\":[{\"type\":\"heatmap\",\"colorbar\":{\"outlinewidth\":0,\"ticks\":\"\"},\"colorscale\":[[0.0,\"#0d0887\"],[0.1111111111111111,\"#46039f\"],[0.2222222222222222,\"#7201a8\"],[0.3333333333333333,\"#9c179e\"],[0.4444444444444444,\"#bd3786\"],[0.5555555555555556,\"#d8576b\"],[0.6666666666666666,\"#ed7953\"],[0.7777777777777778,\"#fb9f3a\"],[0.8888888888888888,\"#fdca26\"],[1.0,\"#f0f921\"]]}],\"heatmapgl\":[{\"type\":\"heatmapgl\",\"colorbar\":{\"outlinewidth\":0,\"ticks\":\"\"},\"colorscale\":[[0.0,\"#0d0887\"],[0.1111111111111111,\"#46039f\"],[0.2222222222222222,\"#7201a8\"],[0.3333333333333333,\"#9c179e\"],[0.4444444444444444,\"#bd3786\"],[0.5555555555555556,\"#d8576b\"],[0.6666666666666666,\"#ed7953\"],[0.7777777777777778,\"#fb9f3a\"],[0.8888888888888888,\"#fdca26\"],[1.0,\"#f0f921\"]]}],\"contourcarpet\":[{\"type\":\"contourcarpet\",\"colorbar\":{\"outlinewidth\":0,\"ticks\":\"\"}}],\"contour\":[{\"type\":\"contour\",\"colorbar\":{\"outlinewidth\":0,\"ticks\":\"\"},\"colorscale\":[[0.0,\"#0d0887\"],[0.1111111111111111,\"#46039f\"],[0.2222222222222222,\"#7201a8\"],[0.3333333333333333,\"#9c179e\"],[0.4444444444444444,\"#bd3786\"],[0.5555555555555556,\"#d8576b\"],[0.6666666666666666,\"#ed7953\"],[0.7777777777777778,\"#fb9f3a\"],[0.8888888888888888,\"#fdca26\"],[1.0,\"#f0f921\"]]}],\"surface\":[{\"type\":\"surface\",\"colorbar\":{\"outlinewidth\":0,\"ticks\":\"\"},\"colorscale\":[[0.0,\"#0d0887\"],[0.1111111111111111,\"#46039f\"],[0.2222222222222222,\"#7201a8\"],[0.3333333333333333,\"#9c179e\"],[0.4444444444444444,\"#bd3786\"],[0.5555555555555556,\"#d8576b\"],[0.6666666666666666,\"#ed7953\"],[0.7777777777777778,\"#fb9f3a\"],[0.8888888888888888,\"#fdca26\"],[1.0,\"#f0f921\"]]}],\"mesh3d\":[{\"type\":\"mesh3d\",\"colorbar\":{\"outlinewidth\":0,\"ticks\":\"\"}}],\"scatter\":[{\"fillpattern\":{\"fillmode\":\"overlay\",\"size\":10,\"solidity\":0.2},\"type\":\"scatter\"}],\"parcoords\":[{\"type\":\"parcoords\",\"line\":{\"colorbar\":{\"outlinewidth\":0,\"ticks\":\"\"}}}],\"scatterpolargl\":[{\"type\":\"scatterpolargl\",\"marker\":{\"colorbar\":{\"outlinewidth\":0,\"ticks\":\"\"}}}],\"bar\":[{\"error_x\":{\"color\":\"#2a3f5f\"},\"error_y\":{\"color\":\"#2a3f5f\"},\"marker\":{\"line\":{\"color\":\"#E5ECF6\",\"width\":0.5},\"pattern\":{\"fillmode\":\"overlay\",\"size\":10,\"solidity\":0.2}},\"type\":\"bar\"}],\"scattergeo\":[{\"type\":\"scattergeo\",\"marker\":{\"colorbar\":{\"outlinewidth\":0,\"ticks\":\"\"}}}],\"scatterpolar\":[{\"type\":\"scatterpolar\",\"marker\":{\"colorbar\":{\"outlinewidth\":0,\"ticks\":\"\"}}}],\"histogram\":[{\"marker\":{\"pattern\":{\"fillmode\":\"overlay\",\"size\":10,\"solidity\":0.2}},\"type\":\"histogram\"}],\"scattergl\":[{\"type\":\"scattergl\",\"marker\":{\"colorbar\":{\"outlinewidth\":0,\"ticks\":\"\"}}}],\"scatter3d\":[{\"type\":\"scatter3d\",\"line\":{\"colorbar\":{\"outlinewidth\":0,\"ticks\":\"\"}},\"marker\":{\"colorbar\":{\"outlinewidth\":0,\"ticks\":\"\"}}}],\"scattermapbox\":[{\"type\":\"scattermapbox\",\"marker\":{\"colorbar\":{\"outlinewidth\":0,\"ticks\":\"\"}}}],\"scatterternary\":[{\"type\":\"scatterternary\",\"marker\":{\"colorbar\":{\"outlinewidth\":0,\"ticks\":\"\"}}}],\"scattercarpet\":[{\"type\":\"scattercarpet\",\"marker\":{\"colorbar\":{\"outlinewidth\":0,\"ticks\":\"\"}}}],\"carpet\":[{\"aaxis\":{\"endlinecolor\":\"#2a3f5f\",\"gridcolor\":\"white\",\"linecolor\":\"white\",\"minorgridcolor\":\"white\",\"startlinecolor\":\"#2a3f5f\"},\"baxis\":{\"endlinecolor\":\"#2a3f5f\",\"gridcolor\":\"white\",\"linecolor\":\"white\",\"minorgridcolor\":\"white\",\"startlinecolor\":\"#2a3f5f\"},\"type\":\"carpet\"}],\"table\":[{\"cells\":{\"fill\":{\"color\":\"#EBF0F8\"},\"line\":{\"color\":\"white\"}},\"header\":{\"fill\":{\"color\":\"#C8D4E3\"},\"line\":{\"color\":\"white\"}},\"type\":\"table\"}],\"barpolar\":[{\"marker\":{\"line\":{\"color\":\"#E5ECF6\",\"width\":0.5},\"pattern\":{\"fillmode\":\"overlay\",\"size\":10,\"solidity\":0.2}},\"type\":\"barpolar\"}],\"pie\":[{\"automargin\":true,\"type\":\"pie\"}]},\"layout\":{\"autotypenumbers\":\"strict\",\"colorway\":[\"#636efa\",\"#EF553B\",\"#00cc96\",\"#ab63fa\",\"#FFA15A\",\"#19d3f3\",\"#FF6692\",\"#B6E880\",\"#FF97FF\",\"#FECB52\"],\"font\":{\"color\":\"#2a3f5f\"},\"hovermode\":\"closest\",\"hoverlabel\":{\"align\":\"left\"},\"paper_bgcolor\":\"white\",\"plot_bgcolor\":\"#E5ECF6\",\"polar\":{\"bgcolor\":\"#E5ECF6\",\"angularaxis\":{\"gridcolor\":\"white\",\"linecolor\":\"white\",\"ticks\":\"\"},\"radialaxis\":{\"gridcolor\":\"white\",\"linecolor\":\"white\",\"ticks\":\"\"}},\"ternary\":{\"bgcolor\":\"#E5ECF6\",\"aaxis\":{\"gridcolor\":\"white\",\"linecolor\":\"white\",\"ticks\":\"\"},\"baxis\":{\"gridcolor\":\"white\",\"linecolor\":\"white\",\"ticks\":\"\"},\"caxis\":{\"gridcolor\":\"white\",\"linecolor\":\"white\",\"ticks\":\"\"}},\"coloraxis\":{\"colorbar\":{\"outlinewidth\":0,\"ticks\":\"\"}},\"colorscale\":{\"sequential\":[[0.0,\"#0d0887\"],[0.1111111111111111,\"#46039f\"],[0.2222222222222222,\"#7201a8\"],[0.3333333333333333,\"#9c179e\"],[0.4444444444444444,\"#bd3786\"],[0.5555555555555556,\"#d8576b\"],[0.6666666666666666,\"#ed7953\"],[0.7777777777777778,\"#fb9f3a\"],[0.8888888888888888,\"#fdca26\"],[1.0,\"#f0f921\"]],\"sequentialminus\":[[0.0,\"#0d0887\"],[0.1111111111111111,\"#46039f\"],[0.2222222222222222,\"#7201a8\"],[0.3333333333333333,\"#9c179e\"],[0.4444444444444444,\"#bd3786\"],[0.5555555555555556,\"#d8576b\"],[0.6666666666666666,\"#ed7953\"],[0.7777777777777778,\"#fb9f3a\"],[0.8888888888888888,\"#fdca26\"],[1.0,\"#f0f921\"]],\"diverging\":[[0,\"#8e0152\"],[0.1,\"#c51b7d\"],[0.2,\"#de77ae\"],[0.3,\"#f1b6da\"],[0.4,\"#fde0ef\"],[0.5,\"#f7f7f7\"],[0.6,\"#e6f5d0\"],[0.7,\"#b8e186\"],[0.8,\"#7fbc41\"],[0.9,\"#4d9221\"],[1,\"#276419\"]]},\"xaxis\":{\"gridcolor\":\"white\",\"linecolor\":\"white\",\"ticks\":\"\",\"title\":{\"standoff\":15},\"zerolinecolor\":\"white\",\"automargin\":true,\"zerolinewidth\":2},\"yaxis\":{\"gridcolor\":\"white\",\"linecolor\":\"white\",\"ticks\":\"\",\"title\":{\"standoff\":15},\"zerolinecolor\":\"white\",\"automargin\":true,\"zerolinewidth\":2},\"scene\":{\"xaxis\":{\"backgroundcolor\":\"#E5ECF6\",\"gridcolor\":\"white\",\"linecolor\":\"white\",\"showbackground\":true,\"ticks\":\"\",\"zerolinecolor\":\"white\",\"gridwidth\":2},\"yaxis\":{\"backgroundcolor\":\"#E5ECF6\",\"gridcolor\":\"white\",\"linecolor\":\"white\",\"showbackground\":true,\"ticks\":\"\",\"zerolinecolor\":\"white\",\"gridwidth\":2},\"zaxis\":{\"backgroundcolor\":\"#E5ECF6\",\"gridcolor\":\"white\",\"linecolor\":\"white\",\"showbackground\":true,\"ticks\":\"\",\"zerolinecolor\":\"white\",\"gridwidth\":2}},\"shapedefaults\":{\"line\":{\"color\":\"#2a3f5f\"}},\"annotationdefaults\":{\"arrowcolor\":\"#2a3f5f\",\"arrowhead\":0,\"arrowwidth\":1},\"geo\":{\"bgcolor\":\"white\",\"landcolor\":\"#E5ECF6\",\"subunitcolor\":\"white\",\"showland\":true,\"showlakes\":true,\"lakecolor\":\"white\"},\"title\":{\"x\":0.05},\"mapbox\":{\"style\":\"light\"}}},\"xaxis\":{\"anchor\":\"y\",\"domain\":[0.0,1.0],\"title\":{\"text\":\"Personality\"}},\"yaxis\":{\"anchor\":\"x\",\"domain\":[0.0,1.0],\"title\":{\"text\":\"Count\"}},\"legend\":{\"title\":{\"text\":\"Gender\"},\"tracegroupgap\":0},\"title\":{\"text\":\"Villager personality types\"},\"barmode\":\"stack\"},                        {\"responsive\": true}                    ).then(function(){\n",
       "                            \n",
       "var gd = document.getElementById('d6262457-417a-4956-b933-768a04abf0f1');\n",
       "var x = new MutationObserver(function (mutations, observer) {{\n",
       "        var display = window.getComputedStyle(gd).display;\n",
       "        if (!display || display === 'none') {{\n",
       "            console.log([gd, 'removed!']);\n",
       "            Plotly.purge(gd);\n",
       "            observer.disconnect();\n",
       "        }}\n",
       "}});\n",
       "\n",
       "// Listen for the removal of the full notebook cells\n",
       "var notebookContainer = gd.closest('#notebook-container');\n",
       "if (notebookContainer) {{\n",
       "    x.observe(notebookContainer, {childList: true});\n",
       "}}\n",
       "\n",
       "// Listen for the clearing of the current output cell\n",
       "var outputEl = gd.closest('.output');\n",
       "if (outputEl) {{\n",
       "    x.observe(outputEl, {childList: true});\n",
       "}}\n",
       "\n",
       "                        })                };                });            </script>        </div>"
      ]
     },
     "metadata": {},
     "output_type": "display_data"
    }
   ],
   "source": [
    "# Moving over to Plotly because I like some of its functionality\n",
    "fig = px.bar(villagers, x=\"Personality\", color=\"Gender\", barmode=\"stack\",\n",
    "             hover_data=['Name','Species'], labels={\"count\":\"Count\"}, title=\"Villager personality types\")\n",
    "fig.show()"
   ]
  },
  {
   "cell_type": "markdown",
   "id": "9bef3523",
   "metadata": {
    "papermill": {
     "duration": 0.018939,
     "end_time": "2023-03-07T15:06:48.424813",
     "exception": false,
     "start_time": "2023-03-07T15:06:48.405874",
     "status": "completed"
    },
    "tags": []
   },
   "source": [
    "In Plotly bar charts, the bar segments are sized based on the value of the sample (e.g. a villager with popularity 234 will be given a larger portion of the bar than a villager with popularity 2). This means less popular villagers are shown to take up more space than than more popular villagers, so we're flipping the popularity order so this doesn't happen."
   ]
  },
  {
   "cell_type": "code",
   "execution_count": 20,
   "id": "93b01b14",
   "metadata": {
    "execution": {
     "iopub.execute_input": "2023-03-07T15:06:48.465636Z",
     "iopub.status.busy": "2023-03-07T15:06:48.464580Z",
     "iopub.status.idle": "2023-03-07T15:06:48.488258Z",
     "shell.execute_reply": "2023-03-07T15:06:48.487115Z"
    },
    "papermill": {
     "duration": 0.046657,
     "end_time": "2023-03-07T15:06:48.490627",
     "exception": false,
     "start_time": "2023-03-07T15:06:48.443970",
     "status": "completed"
    },
    "tags": []
   },
   "outputs": [
    {
     "data": {
      "text/html": [
       "<div>\n",
       "<style scoped>\n",
       "    .dataframe tbody tr th:only-of-type {\n",
       "        vertical-align: middle;\n",
       "    }\n",
       "\n",
       "    .dataframe tbody tr th {\n",
       "        vertical-align: top;\n",
       "    }\n",
       "\n",
       "    .dataframe thead th {\n",
       "        text-align: right;\n",
       "    }\n",
       "</style>\n",
       "<table border=\"1\" class=\"dataframe\">\n",
       "  <thead>\n",
       "    <tr style=\"text-align: right;\">\n",
       "      <th></th>\n",
       "      <th>Name</th>\n",
       "      <th>Species</th>\n",
       "      <th>Gender</th>\n",
       "      <th>Personality</th>\n",
       "      <th>Hobby</th>\n",
       "      <th>Style_1</th>\n",
       "      <th>Style_2</th>\n",
       "      <th>Color_1</th>\n",
       "      <th>Color_2</th>\n",
       "      <th>Tier</th>\n",
       "      <th>Rank</th>\n",
       "      <th>Total_Popularity</th>\n",
       "      <th>Total_Popularity_Updated</th>\n",
       "    </tr>\n",
       "  </thead>\n",
       "  <tbody>\n",
       "    <tr>\n",
       "      <th>296</th>\n",
       "      <td>Raymond</td>\n",
       "      <td>Cat</td>\n",
       "      <td>Male</td>\n",
       "      <td>Smug</td>\n",
       "      <td>Nature</td>\n",
       "      <td>Elegant</td>\n",
       "      <td>Cool</td>\n",
       "      <td>Black</td>\n",
       "      <td>Gray</td>\n",
       "      <td>1</td>\n",
       "      <td>1</td>\n",
       "      <td>1</td>\n",
       "      <td>413</td>\n",
       "    </tr>\n",
       "    <tr>\n",
       "      <th>227</th>\n",
       "      <td>Marshal</td>\n",
       "      <td>Squirrel</td>\n",
       "      <td>Male</td>\n",
       "      <td>Smug</td>\n",
       "      <td>Music</td>\n",
       "      <td>Elegant</td>\n",
       "      <td>Cool</td>\n",
       "      <td>Light blue</td>\n",
       "      <td>Blue</td>\n",
       "      <td>1</td>\n",
       "      <td>2</td>\n",
       "      <td>2</td>\n",
       "      <td>412</td>\n",
       "    </tr>\n",
       "    <tr>\n",
       "      <th>326</th>\n",
       "      <td>Sherb</td>\n",
       "      <td>Goat</td>\n",
       "      <td>Male</td>\n",
       "      <td>Lazy</td>\n",
       "      <td>Nature</td>\n",
       "      <td>Simple</td>\n",
       "      <td>Cute</td>\n",
       "      <td>Gray</td>\n",
       "      <td>Blue</td>\n",
       "      <td>1</td>\n",
       "      <td>4</td>\n",
       "      <td>4</td>\n",
       "      <td>411</td>\n",
       "    </tr>\n",
       "    <tr>\n",
       "      <th>12</th>\n",
       "      <td>Ankha</td>\n",
       "      <td>Cat</td>\n",
       "      <td>Female</td>\n",
       "      <td>Snooty</td>\n",
       "      <td>Nature</td>\n",
       "      <td>Gorgeous</td>\n",
       "      <td>Simple</td>\n",
       "      <td>Colorful</td>\n",
       "      <td>Brown</td>\n",
       "      <td>1</td>\n",
       "      <td>7</td>\n",
       "      <td>7</td>\n",
       "      <td>410</td>\n",
       "    </tr>\n",
       "    <tr>\n",
       "      <th>385</th>\n",
       "      <td>Zucker</td>\n",
       "      <td>Octopus</td>\n",
       "      <td>Male</td>\n",
       "      <td>Lazy</td>\n",
       "      <td>Nature</td>\n",
       "      <td>Simple</td>\n",
       "      <td>Cute</td>\n",
       "      <td>Blue</td>\n",
       "      <td>Yellow</td>\n",
       "      <td>1</td>\n",
       "      <td>8</td>\n",
       "      <td>8</td>\n",
       "      <td>409</td>\n",
       "    </tr>\n",
       "    <tr>\n",
       "      <th>...</th>\n",
       "      <td>...</td>\n",
       "      <td>...</td>\n",
       "      <td>...</td>\n",
       "      <td>...</td>\n",
       "      <td>...</td>\n",
       "      <td>...</td>\n",
       "      <td>...</td>\n",
       "      <td>...</td>\n",
       "      <td>...</td>\n",
       "      <td>...</td>\n",
       "      <td>...</td>\n",
       "      <td>...</td>\n",
       "      <td>...</td>\n",
       "    </tr>\n",
       "    <tr>\n",
       "      <th>305</th>\n",
       "      <td>Rocco</td>\n",
       "      <td>Hippo</td>\n",
       "      <td>Male</td>\n",
       "      <td>Cranky</td>\n",
       "      <td>Education</td>\n",
       "      <td>Simple</td>\n",
       "      <td>Cool</td>\n",
       "      <td>Yellow</td>\n",
       "      <td>Black</td>\n",
       "      <td>6</td>\n",
       "      <td>159</td>\n",
       "      <td>409</td>\n",
       "      <td>8</td>\n",
       "    </tr>\n",
       "    <tr>\n",
       "      <th>36</th>\n",
       "      <td>Bettina</td>\n",
       "      <td>Mouse</td>\n",
       "      <td>Female</td>\n",
       "      <td>Normal</td>\n",
       "      <td>Education</td>\n",
       "      <td>Simple</td>\n",
       "      <td>Elegant</td>\n",
       "      <td>White</td>\n",
       "      <td>Red</td>\n",
       "      <td>6</td>\n",
       "      <td>160</td>\n",
       "      <td>410</td>\n",
       "      <td>7</td>\n",
       "    </tr>\n",
       "    <tr>\n",
       "      <th>53</th>\n",
       "      <td>Boris</td>\n",
       "      <td>Pig</td>\n",
       "      <td>Male</td>\n",
       "      <td>Cranky</td>\n",
       "      <td>Nature</td>\n",
       "      <td>Cool</td>\n",
       "      <td>Gorgeous</td>\n",
       "      <td>Purple</td>\n",
       "      <td>Black</td>\n",
       "      <td>6</td>\n",
       "      <td>161</td>\n",
       "      <td>411</td>\n",
       "      <td>4</td>\n",
       "    </tr>\n",
       "    <tr>\n",
       "      <th>43</th>\n",
       "      <td>Bitty</td>\n",
       "      <td>Hippo</td>\n",
       "      <td>Female</td>\n",
       "      <td>Snooty</td>\n",
       "      <td>Education</td>\n",
       "      <td>Cute</td>\n",
       "      <td>Elegant</td>\n",
       "      <td>Pink</td>\n",
       "      <td>Orange</td>\n",
       "      <td>6</td>\n",
       "      <td>162</td>\n",
       "      <td>412</td>\n",
       "      <td>2</td>\n",
       "    </tr>\n",
       "    <tr>\n",
       "      <th>367</th>\n",
       "      <td>Velma</td>\n",
       "      <td>Goat</td>\n",
       "      <td>Female</td>\n",
       "      <td>Snooty</td>\n",
       "      <td>Education</td>\n",
       "      <td>Elegant</td>\n",
       "      <td>Gorgeous</td>\n",
       "      <td>Light blue</td>\n",
       "      <td>Purple</td>\n",
       "      <td>6</td>\n",
       "      <td>163</td>\n",
       "      <td>413</td>\n",
       "      <td>1</td>\n",
       "    </tr>\n",
       "  </tbody>\n",
       "</table>\n",
       "<p>386 rows × 13 columns</p>\n",
       "</div>"
      ],
      "text/plain": [
       "        Name   Species  Gender Personality      Hobby   Style_1   Style_2  \\\n",
       "296  Raymond       Cat    Male        Smug     Nature   Elegant      Cool   \n",
       "227  Marshal  Squirrel    Male        Smug      Music   Elegant      Cool   \n",
       "326    Sherb      Goat    Male        Lazy     Nature    Simple      Cute   \n",
       "12     Ankha       Cat  Female      Snooty     Nature  Gorgeous    Simple   \n",
       "385   Zucker   Octopus    Male        Lazy     Nature    Simple      Cute   \n",
       "..       ...       ...     ...         ...        ...       ...       ...   \n",
       "305    Rocco     Hippo    Male      Cranky  Education    Simple      Cool   \n",
       "36   Bettina     Mouse  Female      Normal  Education    Simple   Elegant   \n",
       "53     Boris       Pig    Male      Cranky     Nature      Cool  Gorgeous   \n",
       "43     Bitty     Hippo  Female      Snooty  Education      Cute   Elegant   \n",
       "367    Velma      Goat  Female      Snooty  Education   Elegant  Gorgeous   \n",
       "\n",
       "        Color_1 Color_2  Tier  Rank  Total_Popularity  \\\n",
       "296       Black    Gray     1     1                 1   \n",
       "227  Light blue    Blue     1     2                 2   \n",
       "326        Gray    Blue     1     4                 4   \n",
       "12     Colorful   Brown     1     7                 7   \n",
       "385        Blue  Yellow     1     8                 8   \n",
       "..          ...     ...   ...   ...               ...   \n",
       "305      Yellow   Black     6   159               409   \n",
       "36        White     Red     6   160               410   \n",
       "53       Purple   Black     6   161               411   \n",
       "43         Pink  Orange     6   162               412   \n",
       "367  Light blue  Purple     6   163               413   \n",
       "\n",
       "     Total_Popularity_Updated  \n",
       "296                       413  \n",
       "227                       412  \n",
       "326                       411  \n",
       "12                        410  \n",
       "385                       409  \n",
       "..                        ...  \n",
       "305                         8  \n",
       "36                          7  \n",
       "53                          4  \n",
       "43                          2  \n",
       "367                         1  \n",
       "\n",
       "[386 rows x 13 columns]"
      ]
     },
     "execution_count": 20,
     "metadata": {},
     "output_type": "execute_result"
    }
   ],
   "source": [
    "# Flipping order of values to correct for bar size in future plots\n",
    "# More popular villagers should have larger bars in chart than less popular villagers\n",
    "villagers = villagers.sort_values('Total_Popularity')\n",
    "r = np.flip(villagers[\"Total_Popularity\"].values)\n",
    "villagers['Total_Popularity_Updated'] = r\n",
    "villagers"
   ]
  },
  {
   "cell_type": "code",
   "execution_count": 21,
   "id": "6ec623d2",
   "metadata": {
    "execution": {
     "iopub.execute_input": "2023-03-07T15:06:48.532183Z",
     "iopub.status.busy": "2023-03-07T15:06:48.531773Z",
     "iopub.status.idle": "2023-03-07T15:06:48.551063Z",
     "shell.execute_reply": "2023-03-07T15:06:48.549792Z"
    },
    "papermill": {
     "duration": 0.043103,
     "end_time": "2023-03-07T15:06:48.553631",
     "exception": false,
     "start_time": "2023-03-07T15:06:48.510528",
     "status": "completed"
    },
    "tags": []
   },
   "outputs": [
    {
     "data": {
      "text/html": [
       "<div>\n",
       "<style scoped>\n",
       "    .dataframe tbody tr th:only-of-type {\n",
       "        vertical-align: middle;\n",
       "    }\n",
       "\n",
       "    .dataframe tbody tr th {\n",
       "        vertical-align: top;\n",
       "    }\n",
       "\n",
       "    .dataframe thead th {\n",
       "        text-align: right;\n",
       "    }\n",
       "</style>\n",
       "<table border=\"1\" class=\"dataframe\">\n",
       "  <thead>\n",
       "    <tr style=\"text-align: right;\">\n",
       "      <th></th>\n",
       "      <th>Name</th>\n",
       "      <th>Species</th>\n",
       "      <th>Gender</th>\n",
       "      <th>Personality</th>\n",
       "      <th>Hobby</th>\n",
       "      <th>Style_1</th>\n",
       "      <th>Style_2</th>\n",
       "      <th>Color_1</th>\n",
       "      <th>Color_2</th>\n",
       "      <th>Tier</th>\n",
       "      <th>Rank</th>\n",
       "      <th>Total_Popularity</th>\n",
       "      <th>Total_Popularity_Updated</th>\n",
       "    </tr>\n",
       "  </thead>\n",
       "  <tbody>\n",
       "    <tr>\n",
       "      <th>227</th>\n",
       "      <td>Marshal</td>\n",
       "      <td>Squirrel</td>\n",
       "      <td>Male</td>\n",
       "      <td>Smug</td>\n",
       "      <td>Music</td>\n",
       "      <td>Elegant</td>\n",
       "      <td>Cool</td>\n",
       "      <td>Light blue</td>\n",
       "      <td>Blue</td>\n",
       "      <td>1</td>\n",
       "      <td>2</td>\n",
       "      <td>2</td>\n",
       "      <td>412</td>\n",
       "    </tr>\n",
       "  </tbody>\n",
       "</table>\n",
       "</div>"
      ],
      "text/plain": [
       "        Name   Species Gender Personality  Hobby  Style_1 Style_2     Color_1  \\\n",
       "227  Marshal  Squirrel   Male        Smug  Music  Elegant    Cool  Light blue   \n",
       "\n",
       "    Color_2  Tier  Rank  Total_Popularity  Total_Popularity_Updated  \n",
       "227    Blue     1     2                 2                       412  "
      ]
     },
     "execution_count": 21,
     "metadata": {},
     "output_type": "execute_result"
    }
   ],
   "source": [
    "# Checking that Marshal now has the second greatest popularity value\n",
    "villagers.query(\"Name == 'Marshal'\")"
   ]
  },
  {
   "cell_type": "markdown",
   "id": "12de27d0",
   "metadata": {
    "papermill": {
     "duration": 0.021245,
     "end_time": "2023-03-07T15:06:48.595937",
     "exception": false,
     "start_time": "2023-03-07T15:06:48.574692",
     "status": "completed"
    },
    "tags": []
   },
   "source": [
    "Now, Marshal has a popularity of 412, giving him a much larger portion of the bar. "
   ]
  },
  {
   "cell_type": "code",
   "execution_count": 22,
   "id": "edd0f46a",
   "metadata": {
    "execution": {
     "iopub.execute_input": "2023-03-07T15:06:48.638608Z",
     "iopub.status.busy": "2023-03-07T15:06:48.638150Z",
     "iopub.status.idle": "2023-03-07T15:06:48.714156Z",
     "shell.execute_reply": "2023-03-07T15:06:48.713033Z"
    },
    "papermill": {
     "duration": 0.100411,
     "end_time": "2023-03-07T15:06:48.716718",
     "exception": false,
     "start_time": "2023-03-07T15:06:48.616307",
     "status": "completed"
    },
    "tags": []
   },
   "outputs": [
    {
     "data": {
      "text/html": [
       "<div>                            <div id=\"2d7021dc-e5f2-4f29-8ae3-aa978276969a\" class=\"plotly-graph-div\" style=\"height:525px; width:100%;\"></div>            <script type=\"text/javascript\">                require([\"plotly\"], function(Plotly) {                    window.PLOTLYENV=window.PLOTLYENV || {};                                    if (document.getElementById(\"2d7021dc-e5f2-4f29-8ae3-aa978276969a\")) {                    Plotly.newPlot(                        \"2d7021dc-e5f2-4f29-8ae3-aa978276969a\",                        [{\"alignmentgroup\":\"True\",\"customdata\":[[\"Marshal\",\"Squirrel\",\"Male\"],[\"Filbert\",\"Squirrel\",\"Male\"],[\"Static\",\"Squirrel\",\"Male\"],[\"Sheldon\",\"Squirrel\",\"Male\"],[\"Ricky\",\"Squirrel\",\"Male\"]],\"hovertemplate\":\"Gender=%{customdata[2]}<br>Personality=%{x}<br>Popularity=%{y}<br>Name=%{customdata[0]}<br>Species=%{customdata[1]}<extra></extra>\",\"legendgroup\":\"Male\",\"marker\":{\"color\":\"#636efa\",\"pattern\":{\"shape\":\"\"}},\"name\":\"Male\",\"offsetgroup\":\"Male\",\"orientation\":\"v\",\"showlegend\":true,\"textposition\":\"auto\",\"x\":[\"Smug\",\"Lazy\",\"Cranky\",\"Jock\",\"Cranky\"],\"xaxis\":\"x\",\"y\":[412,375,340,129,32],\"yaxis\":\"y\",\"type\":\"bar\"},{\"alignmentgroup\":\"True\",\"customdata\":[[\"Poppy\",\"Squirrel\",\"Female\"],[\"Hazel\",\"Squirrel\",\"Female\"],[\"Sylvana\",\"Squirrel\",\"Female\"],[\"Peanut\",\"Squirrel\",\"Female\"],[\"Tasha\",\"Squirrel\",\"Female\"],[\"Blaire\",\"Squirrel\",\"Female\"],[\"Mint\",\"Squirrel\",\"Female\"],[\"Caroline\",\"Squirrel\",\"Female\"],[\"Pecan\",\"Squirrel\",\"Female\"],[\"Sally\",\"Squirrel\",\"Female\"],[\"Cally\",\"Squirrel\",\"Female\"],[\"Nibbles\",\"Squirrel\",\"Female\"],[\"Agent S\",\"Squirrel\",\"Female\"]],\"hovertemplate\":\"Gender=%{customdata[2]}<br>Personality=%{x}<br>Popularity=%{y}<br>Name=%{customdata[0]}<br>Species=%{customdata[1]}<extra></extra>\",\"legendgroup\":\"Female\",\"marker\":{\"color\":\"#EF553B\",\"pattern\":{\"shape\":\"\"}},\"name\":\"Female\",\"offsetgroup\":\"Female\",\"orientation\":\"v\",\"showlegend\":true,\"textposition\":\"auto\",\"x\":[\"Normal\",\"Big Sister\",\"Normal\",\"Peppy\",\"Snooty\",\"Snooty\",\"Snooty\",\"Normal\",\"Snooty\",\"Normal\",\"Normal\",\"Peppy\",\"Peppy\"],\"xaxis\":\"x\",\"y\":[381,355,332,309,302,282,263,254,241,197,176,152,124],\"yaxis\":\"y\",\"type\":\"bar\"}],                        {\"template\":{\"data\":{\"histogram2dcontour\":[{\"type\":\"histogram2dcontour\",\"colorbar\":{\"outlinewidth\":0,\"ticks\":\"\"},\"colorscale\":[[0.0,\"#0d0887\"],[0.1111111111111111,\"#46039f\"],[0.2222222222222222,\"#7201a8\"],[0.3333333333333333,\"#9c179e\"],[0.4444444444444444,\"#bd3786\"],[0.5555555555555556,\"#d8576b\"],[0.6666666666666666,\"#ed7953\"],[0.7777777777777778,\"#fb9f3a\"],[0.8888888888888888,\"#fdca26\"],[1.0,\"#f0f921\"]]}],\"choropleth\":[{\"type\":\"choropleth\",\"colorbar\":{\"outlinewidth\":0,\"ticks\":\"\"}}],\"histogram2d\":[{\"type\":\"histogram2d\",\"colorbar\":{\"outlinewidth\":0,\"ticks\":\"\"},\"colorscale\":[[0.0,\"#0d0887\"],[0.1111111111111111,\"#46039f\"],[0.2222222222222222,\"#7201a8\"],[0.3333333333333333,\"#9c179e\"],[0.4444444444444444,\"#bd3786\"],[0.5555555555555556,\"#d8576b\"],[0.6666666666666666,\"#ed7953\"],[0.7777777777777778,\"#fb9f3a\"],[0.8888888888888888,\"#fdca26\"],[1.0,\"#f0f921\"]]}],\"heatmap\":[{\"type\":\"heatmap\",\"colorbar\":{\"outlinewidth\":0,\"ticks\":\"\"},\"colorscale\":[[0.0,\"#0d0887\"],[0.1111111111111111,\"#46039f\"],[0.2222222222222222,\"#7201a8\"],[0.3333333333333333,\"#9c179e\"],[0.4444444444444444,\"#bd3786\"],[0.5555555555555556,\"#d8576b\"],[0.6666666666666666,\"#ed7953\"],[0.7777777777777778,\"#fb9f3a\"],[0.8888888888888888,\"#fdca26\"],[1.0,\"#f0f921\"]]}],\"heatmapgl\":[{\"type\":\"heatmapgl\",\"colorbar\":{\"outlinewidth\":0,\"ticks\":\"\"},\"colorscale\":[[0.0,\"#0d0887\"],[0.1111111111111111,\"#46039f\"],[0.2222222222222222,\"#7201a8\"],[0.3333333333333333,\"#9c179e\"],[0.4444444444444444,\"#bd3786\"],[0.5555555555555556,\"#d8576b\"],[0.6666666666666666,\"#ed7953\"],[0.7777777777777778,\"#fb9f3a\"],[0.8888888888888888,\"#fdca26\"],[1.0,\"#f0f921\"]]}],\"contourcarpet\":[{\"type\":\"contourcarpet\",\"colorbar\":{\"outlinewidth\":0,\"ticks\":\"\"}}],\"contour\":[{\"type\":\"contour\",\"colorbar\":{\"outlinewidth\":0,\"ticks\":\"\"},\"colorscale\":[[0.0,\"#0d0887\"],[0.1111111111111111,\"#46039f\"],[0.2222222222222222,\"#7201a8\"],[0.3333333333333333,\"#9c179e\"],[0.4444444444444444,\"#bd3786\"],[0.5555555555555556,\"#d8576b\"],[0.6666666666666666,\"#ed7953\"],[0.7777777777777778,\"#fb9f3a\"],[0.8888888888888888,\"#fdca26\"],[1.0,\"#f0f921\"]]}],\"surface\":[{\"type\":\"surface\",\"colorbar\":{\"outlinewidth\":0,\"ticks\":\"\"},\"colorscale\":[[0.0,\"#0d0887\"],[0.1111111111111111,\"#46039f\"],[0.2222222222222222,\"#7201a8\"],[0.3333333333333333,\"#9c179e\"],[0.4444444444444444,\"#bd3786\"],[0.5555555555555556,\"#d8576b\"],[0.6666666666666666,\"#ed7953\"],[0.7777777777777778,\"#fb9f3a\"],[0.8888888888888888,\"#fdca26\"],[1.0,\"#f0f921\"]]}],\"mesh3d\":[{\"type\":\"mesh3d\",\"colorbar\":{\"outlinewidth\":0,\"ticks\":\"\"}}],\"scatter\":[{\"fillpattern\":{\"fillmode\":\"overlay\",\"size\":10,\"solidity\":0.2},\"type\":\"scatter\"}],\"parcoords\":[{\"type\":\"parcoords\",\"line\":{\"colorbar\":{\"outlinewidth\":0,\"ticks\":\"\"}}}],\"scatterpolargl\":[{\"type\":\"scatterpolargl\",\"marker\":{\"colorbar\":{\"outlinewidth\":0,\"ticks\":\"\"}}}],\"bar\":[{\"error_x\":{\"color\":\"#2a3f5f\"},\"error_y\":{\"color\":\"#2a3f5f\"},\"marker\":{\"line\":{\"color\":\"#E5ECF6\",\"width\":0.5},\"pattern\":{\"fillmode\":\"overlay\",\"size\":10,\"solidity\":0.2}},\"type\":\"bar\"}],\"scattergeo\":[{\"type\":\"scattergeo\",\"marker\":{\"colorbar\":{\"outlinewidth\":0,\"ticks\":\"\"}}}],\"scatterpolar\":[{\"type\":\"scatterpolar\",\"marker\":{\"colorbar\":{\"outlinewidth\":0,\"ticks\":\"\"}}}],\"histogram\":[{\"marker\":{\"pattern\":{\"fillmode\":\"overlay\",\"size\":10,\"solidity\":0.2}},\"type\":\"histogram\"}],\"scattergl\":[{\"type\":\"scattergl\",\"marker\":{\"colorbar\":{\"outlinewidth\":0,\"ticks\":\"\"}}}],\"scatter3d\":[{\"type\":\"scatter3d\",\"line\":{\"colorbar\":{\"outlinewidth\":0,\"ticks\":\"\"}},\"marker\":{\"colorbar\":{\"outlinewidth\":0,\"ticks\":\"\"}}}],\"scattermapbox\":[{\"type\":\"scattermapbox\",\"marker\":{\"colorbar\":{\"outlinewidth\":0,\"ticks\":\"\"}}}],\"scatterternary\":[{\"type\":\"scatterternary\",\"marker\":{\"colorbar\":{\"outlinewidth\":0,\"ticks\":\"\"}}}],\"scattercarpet\":[{\"type\":\"scattercarpet\",\"marker\":{\"colorbar\":{\"outlinewidth\":0,\"ticks\":\"\"}}}],\"carpet\":[{\"aaxis\":{\"endlinecolor\":\"#2a3f5f\",\"gridcolor\":\"white\",\"linecolor\":\"white\",\"minorgridcolor\":\"white\",\"startlinecolor\":\"#2a3f5f\"},\"baxis\":{\"endlinecolor\":\"#2a3f5f\",\"gridcolor\":\"white\",\"linecolor\":\"white\",\"minorgridcolor\":\"white\",\"startlinecolor\":\"#2a3f5f\"},\"type\":\"carpet\"}],\"table\":[{\"cells\":{\"fill\":{\"color\":\"#EBF0F8\"},\"line\":{\"color\":\"white\"}},\"header\":{\"fill\":{\"color\":\"#C8D4E3\"},\"line\":{\"color\":\"white\"}},\"type\":\"table\"}],\"barpolar\":[{\"marker\":{\"line\":{\"color\":\"#E5ECF6\",\"width\":0.5},\"pattern\":{\"fillmode\":\"overlay\",\"size\":10,\"solidity\":0.2}},\"type\":\"barpolar\"}],\"pie\":[{\"automargin\":true,\"type\":\"pie\"}]},\"layout\":{\"autotypenumbers\":\"strict\",\"colorway\":[\"#636efa\",\"#EF553B\",\"#00cc96\",\"#ab63fa\",\"#FFA15A\",\"#19d3f3\",\"#FF6692\",\"#B6E880\",\"#FF97FF\",\"#FECB52\"],\"font\":{\"color\":\"#2a3f5f\"},\"hovermode\":\"closest\",\"hoverlabel\":{\"align\":\"left\"},\"paper_bgcolor\":\"white\",\"plot_bgcolor\":\"#E5ECF6\",\"polar\":{\"bgcolor\":\"#E5ECF6\",\"angularaxis\":{\"gridcolor\":\"white\",\"linecolor\":\"white\",\"ticks\":\"\"},\"radialaxis\":{\"gridcolor\":\"white\",\"linecolor\":\"white\",\"ticks\":\"\"}},\"ternary\":{\"bgcolor\":\"#E5ECF6\",\"aaxis\":{\"gridcolor\":\"white\",\"linecolor\":\"white\",\"ticks\":\"\"},\"baxis\":{\"gridcolor\":\"white\",\"linecolor\":\"white\",\"ticks\":\"\"},\"caxis\":{\"gridcolor\":\"white\",\"linecolor\":\"white\",\"ticks\":\"\"}},\"coloraxis\":{\"colorbar\":{\"outlinewidth\":0,\"ticks\":\"\"}},\"colorscale\":{\"sequential\":[[0.0,\"#0d0887\"],[0.1111111111111111,\"#46039f\"],[0.2222222222222222,\"#7201a8\"],[0.3333333333333333,\"#9c179e\"],[0.4444444444444444,\"#bd3786\"],[0.5555555555555556,\"#d8576b\"],[0.6666666666666666,\"#ed7953\"],[0.7777777777777778,\"#fb9f3a\"],[0.8888888888888888,\"#fdca26\"],[1.0,\"#f0f921\"]],\"sequentialminus\":[[0.0,\"#0d0887\"],[0.1111111111111111,\"#46039f\"],[0.2222222222222222,\"#7201a8\"],[0.3333333333333333,\"#9c179e\"],[0.4444444444444444,\"#bd3786\"],[0.5555555555555556,\"#d8576b\"],[0.6666666666666666,\"#ed7953\"],[0.7777777777777778,\"#fb9f3a\"],[0.8888888888888888,\"#fdca26\"],[1.0,\"#f0f921\"]],\"diverging\":[[0,\"#8e0152\"],[0.1,\"#c51b7d\"],[0.2,\"#de77ae\"],[0.3,\"#f1b6da\"],[0.4,\"#fde0ef\"],[0.5,\"#f7f7f7\"],[0.6,\"#e6f5d0\"],[0.7,\"#b8e186\"],[0.8,\"#7fbc41\"],[0.9,\"#4d9221\"],[1,\"#276419\"]]},\"xaxis\":{\"gridcolor\":\"white\",\"linecolor\":\"white\",\"ticks\":\"\",\"title\":{\"standoff\":15},\"zerolinecolor\":\"white\",\"automargin\":true,\"zerolinewidth\":2},\"yaxis\":{\"gridcolor\":\"white\",\"linecolor\":\"white\",\"ticks\":\"\",\"title\":{\"standoff\":15},\"zerolinecolor\":\"white\",\"automargin\":true,\"zerolinewidth\":2},\"scene\":{\"xaxis\":{\"backgroundcolor\":\"#E5ECF6\",\"gridcolor\":\"white\",\"linecolor\":\"white\",\"showbackground\":true,\"ticks\":\"\",\"zerolinecolor\":\"white\",\"gridwidth\":2},\"yaxis\":{\"backgroundcolor\":\"#E5ECF6\",\"gridcolor\":\"white\",\"linecolor\":\"white\",\"showbackground\":true,\"ticks\":\"\",\"zerolinecolor\":\"white\",\"gridwidth\":2},\"zaxis\":{\"backgroundcolor\":\"#E5ECF6\",\"gridcolor\":\"white\",\"linecolor\":\"white\",\"showbackground\":true,\"ticks\":\"\",\"zerolinecolor\":\"white\",\"gridwidth\":2}},\"shapedefaults\":{\"line\":{\"color\":\"#2a3f5f\"}},\"annotationdefaults\":{\"arrowcolor\":\"#2a3f5f\",\"arrowhead\":0,\"arrowwidth\":1},\"geo\":{\"bgcolor\":\"white\",\"landcolor\":\"#E5ECF6\",\"subunitcolor\":\"white\",\"showland\":true,\"showlakes\":true,\"lakecolor\":\"white\"},\"title\":{\"x\":0.05},\"mapbox\":{\"style\":\"light\"}}},\"xaxis\":{\"anchor\":\"y\",\"domain\":[0.0,1.0],\"title\":{\"text\":\"Personality\"}},\"yaxis\":{\"anchor\":\"x\",\"domain\":[0.0,1.0],\"title\":{\"text\":\"Popularity\"}},\"legend\":{\"title\":{\"text\":\"Gender\"},\"tracegroupgap\":0},\"title\":{\"text\":\"Popularity and personality type of squirrel villagers\"},\"barmode\":\"relative\"},                        {\"responsive\": true}                    ).then(function(){\n",
       "                            \n",
       "var gd = document.getElementById('2d7021dc-e5f2-4f29-8ae3-aa978276969a');\n",
       "var x = new MutationObserver(function (mutations, observer) {{\n",
       "        var display = window.getComputedStyle(gd).display;\n",
       "        if (!display || display === 'none') {{\n",
       "            console.log([gd, 'removed!']);\n",
       "            Plotly.purge(gd);\n",
       "            observer.disconnect();\n",
       "        }}\n",
       "}});\n",
       "\n",
       "// Listen for the removal of the full notebook cells\n",
       "var notebookContainer = gd.closest('#notebook-container');\n",
       "if (notebookContainer) {{\n",
       "    x.observe(notebookContainer, {childList: true});\n",
       "}}\n",
       "\n",
       "// Listen for the clearing of the current output cell\n",
       "var outputEl = gd.closest('.output');\n",
       "if (outputEl) {{\n",
       "    x.observe(outputEl, {childList: true});\n",
       "}}\n",
       "\n",
       "                        })                };                });            </script>        </div>"
      ]
     },
     "metadata": {},
     "output_type": "display_data"
    }
   ],
   "source": [
    "fig = px.bar(villagers.query(\"Species=='Squirrel'\"), x=\"Personality\", y=\"Total_Popularity_Updated\", color=\"Gender\",\n",
    "             hover_data=[\"Name\", \"Species\", \"Gender\"], labels={\"Total_Popularity_Updated\":\"Popularity\"}, \n",
    "             title=\"Popularity and personality type of squirrel villagers\")\n",
    "fig.show()"
   ]
  },
  {
   "cell_type": "markdown",
   "id": "758e2132",
   "metadata": {
    "papermill": {
     "duration": 0.020746,
     "end_time": "2023-03-07T15:06:48.758704",
     "exception": false,
     "start_time": "2023-03-07T15:06:48.737958",
     "status": "completed"
    },
    "tags": []
   },
   "source": [
    "## Predicting new popular villagers"
   ]
  },
  {
   "cell_type": "markdown",
   "id": "80142514",
   "metadata": {
    "papermill": {
     "duration": 0.020761,
     "end_time": "2023-03-07T15:06:48.800301",
     "exception": false,
     "start_time": "2023-03-07T15:06:48.779540",
     "status": "completed"
    },
    "tags": []
   },
   "source": [
    "### Preprocessing"
   ]
  },
  {
   "cell_type": "markdown",
   "id": "ea412a3e",
   "metadata": {
    "papermill": {
     "duration": 0.019843,
     "end_time": "2023-03-07T15:06:48.840685",
     "exception": false,
     "start_time": "2023-03-07T15:06:48.820842",
     "status": "completed"
    },
    "tags": []
   },
   "source": [
    "I decided to make this model a binary classifier based on whether a villager is popular or not popular. I arbitrarily chose the top 1/3, but other values would work too. I'm also taking a subset of the data that does not include popularity information to use for predictions."
   ]
  },
  {
   "cell_type": "code",
   "execution_count": 23,
   "id": "8e01eb51",
   "metadata": {
    "execution": {
     "iopub.execute_input": "2023-03-07T15:06:48.885012Z",
     "iopub.status.busy": "2023-03-07T15:06:48.884047Z",
     "iopub.status.idle": "2023-03-07T15:06:48.893028Z",
     "shell.execute_reply": "2023-03-07T15:06:48.891942Z"
    },
    "papermill": {
     "duration": 0.034113,
     "end_time": "2023-03-07T15:06:48.895653",
     "exception": false,
     "start_time": "2023-03-07T15:06:48.861540",
     "status": "completed"
    },
    "tags": []
   },
   "outputs": [],
   "source": [
    "# Determining a popular/not popular threshold for predictions \n",
    "subs = villagers[['Name',\n",
    "    'Species', 'Gender', 'Personality', 'Hobby', 'Style_1', 'Style_2', 'Color_1', 'Color_2']].copy()\n",
    "    #, 'Tier', 'Rank', 'Total_Popularity'],\n",
    "pop = np.full(len(subs), \"Yes\")\n",
    "pop[round(len(subs)*0.33):] = \"No\"\n",
    "subs[\"Popular\"] = pop"
   ]
  },
  {
   "cell_type": "code",
   "execution_count": 24,
   "id": "1c0428a4",
   "metadata": {
    "execution": {
     "iopub.execute_input": "2023-03-07T15:06:48.938960Z",
     "iopub.status.busy": "2023-03-07T15:06:48.938078Z",
     "iopub.status.idle": "2023-03-07T15:06:48.947394Z",
     "shell.execute_reply": "2023-03-07T15:06:48.946336Z"
    },
    "papermill": {
     "duration": 0.034432,
     "end_time": "2023-03-07T15:06:48.950103",
     "exception": false,
     "start_time": "2023-03-07T15:06:48.915671",
     "status": "completed"
    },
    "tags": []
   },
   "outputs": [
    {
     "data": {
      "text/plain": [
       "No     259\n",
       "Yes    127\n",
       "Name: Popular, dtype: int64"
      ]
     },
     "execution_count": 24,
     "metadata": {},
     "output_type": "execute_result"
    }
   ],
   "source": [
    "# This leaves us with 127 popular villagers and 259 unpopular villagers\n",
    "subs[\"Popular\"].value_counts()"
   ]
  },
  {
   "cell_type": "code",
   "execution_count": 25,
   "id": "7b4047fd",
   "metadata": {
    "execution": {
     "iopub.execute_input": "2023-03-07T15:06:48.993238Z",
     "iopub.status.busy": "2023-03-07T15:06:48.992788Z",
     "iopub.status.idle": "2023-03-07T15:06:49.000958Z",
     "shell.execute_reply": "2023-03-07T15:06:48.999904Z"
    },
    "papermill": {
     "duration": 0.032552,
     "end_time": "2023-03-07T15:06:49.003140",
     "exception": false,
     "start_time": "2023-03-07T15:06:48.970588",
     "status": "completed"
    },
    "tags": []
   },
   "outputs": [],
   "source": [
    "# Removing names and unhelpful features and splitting into X and y \n",
    "# Unhelpful features chosen empirically\n",
    "X = subs[[#'Name',\n",
    "          'Species', \n",
    "          'Gender',\n",
    "          'Personality',\n",
    "          'Hobby',\n",
    "          'Style_1',\n",
    "          #'Color_1', \n",
    "          #'Style_2',\n",
    "          #'Color_2'\n",
    "         ]].copy().reset_index(drop=True)\n",
    "y = subs[\"Popular\"].copy().reset_index(drop=True)"
   ]
  },
  {
   "cell_type": "markdown",
   "id": "e2020625",
   "metadata": {
    "papermill": {
     "duration": 0.019982,
     "end_time": "2023-03-07T15:06:49.043406",
     "exception": false,
     "start_time": "2023-03-07T15:06:49.023424",
     "status": "completed"
    },
    "tags": []
   },
   "source": [
    "### More imports"
   ]
  },
  {
   "cell_type": "code",
   "execution_count": 26,
   "id": "1037f2c9",
   "metadata": {
    "execution": {
     "iopub.execute_input": "2023-03-07T15:06:49.087702Z",
     "iopub.status.busy": "2023-03-07T15:06:49.086766Z",
     "iopub.status.idle": "2023-03-07T15:06:49.525586Z",
     "shell.execute_reply": "2023-03-07T15:06:49.524302Z"
    },
    "papermill": {
     "duration": 0.464896,
     "end_time": "2023-03-07T15:06:49.529030",
     "exception": false,
     "start_time": "2023-03-07T15:06:49.064134",
     "status": "completed"
    },
    "tags": []
   },
   "outputs": [],
   "source": [
    "from sklearn.linear_model import LogisticRegression\n",
    "from sklearn.tree import DecisionTreeClassifier\n",
    "from sklearn.neighbors import KNeighborsClassifier\n",
    "from sklearn.svm import LinearSVC\n",
    "from sklearn.preprocessing import OneHotEncoder\n",
    "from sklearn.model_selection import train_test_split, StratifiedKFold, GridSearchCV\n",
    "from sklearn.feature_selection import SelectKBest, f_classif, chi2\n",
    "from sklearn.metrics import accuracy_score, roc_auc_score, balanced_accuracy_score"
   ]
  },
  {
   "cell_type": "markdown",
   "id": "11c339ac",
   "metadata": {
    "papermill": {
     "duration": 0.033973,
     "end_time": "2023-03-07T15:06:49.588610",
     "exception": false,
     "start_time": "2023-03-07T15:06:49.554637",
     "status": "completed"
    },
    "tags": []
   },
   "source": [
    "### Encoding the categorical data\n",
    "\n",
    "The data is nominal not ordinal so I am using sklearn's one hot encoder."
   ]
  },
  {
   "cell_type": "code",
   "execution_count": 27,
   "id": "0cdfee92",
   "metadata": {
    "execution": {
     "iopub.execute_input": "2023-03-07T15:06:49.640965Z",
     "iopub.status.busy": "2023-03-07T15:06:49.640515Z",
     "iopub.status.idle": "2023-03-07T15:06:49.653433Z",
     "shell.execute_reply": "2023-03-07T15:06:49.652363Z"
    },
    "papermill": {
     "duration": 0.039871,
     "end_time": "2023-03-07T15:06:49.656438",
     "exception": false,
     "start_time": "2023-03-07T15:06:49.616567",
     "status": "completed"
    },
    "tags": []
   },
   "outputs": [
    {
     "data": {
      "text/plain": [
       "[array(['Alligator', 'Anteater', 'Bear', 'Bird', 'Bull', 'Cat', 'Chicken',\n",
       "        'Cow', 'Cub', 'Deer', 'Dog', 'Duck', 'Eagle', 'Elephant', 'Frog',\n",
       "        'Goat', 'Gorilla', 'Hamster', 'Hippo', 'Horse', 'Kangaroo',\n",
       "        'Koala', 'Lion', 'Monkey', 'Mouse', 'Octopus', 'Ostrich',\n",
       "        'Penguin', 'Pig', 'Rabbit', 'Rhino', 'Sheep', 'Squirrel', 'Tiger',\n",
       "        'Wolf'], dtype=object),\n",
       " array(['Female', 'Male'], dtype=object),\n",
       " array(['Big Sister', 'Cranky', 'Jock', 'Lazy', 'Normal', 'Peppy', 'Smug',\n",
       "        'Snooty'], dtype=object),\n",
       " array(['Education', 'Fashion', 'Fitness', 'Music', 'Nature', 'Play'],\n",
       "       dtype=object),\n",
       " array(['Active', 'Cool', 'Cute', 'Elegant', 'Gorgeous', 'Simple'],\n",
       "       dtype=object)]"
      ]
     },
     "execution_count": 27,
     "metadata": {},
     "output_type": "execute_result"
    }
   ],
   "source": [
    "encoder = OneHotEncoder(sparse=False, handle_unknown=\"ignore\").fit(X)\n",
    "X_encoded = encoder.transform(X)\n",
    "#X_encoded\n",
    "encoder.categories_"
   ]
  },
  {
   "cell_type": "markdown",
   "id": "ec70fed4",
   "metadata": {
    "papermill": {
     "duration": 0.02244,
     "end_time": "2023-03-07T15:06:49.707865",
     "exception": false,
     "start_time": "2023-03-07T15:06:49.685425",
     "status": "completed"
    },
    "tags": []
   },
   "source": [
    "We can then look at a sample and see what features come from that"
   ]
  },
  {
   "cell_type": "code",
   "execution_count": 28,
   "id": "b8b6f08b",
   "metadata": {
    "execution": {
     "iopub.execute_input": "2023-03-07T15:06:49.755917Z",
     "iopub.status.busy": "2023-03-07T15:06:49.754691Z",
     "iopub.status.idle": "2023-03-07T15:06:49.763735Z",
     "shell.execute_reply": "2023-03-07T15:06:49.762674Z"
    },
    "papermill": {
     "duration": 0.036475,
     "end_time": "2023-03-07T15:06:49.766219",
     "exception": false,
     "start_time": "2023-03-07T15:06:49.729744",
     "status": "completed"
    },
    "tags": []
   },
   "outputs": [
    {
     "data": {
      "text/plain": [
       "array([['Squirrel', 'Male', 'Lazy', 'Nature', 'Simple']], dtype=object)"
      ]
     },
     "execution_count": 28,
     "metadata": {},
     "output_type": "execute_result"
    }
   ],
   "source": [
    "encoder.inverse_transform(X_encoded[37].reshape(1, -1))"
   ]
  },
  {
   "cell_type": "markdown",
   "id": "bf7005c9",
   "metadata": {
    "papermill": {
     "duration": 0.020762,
     "end_time": "2023-03-07T15:06:49.808383",
     "exception": false,
     "start_time": "2023-03-07T15:06:49.787621",
     "status": "completed"
    },
    "tags": []
   },
   "source": [
    "If we query the villagers data set we can see which villager it is and what their rank is. "
   ]
  },
  {
   "cell_type": "code",
   "execution_count": 29,
   "id": "e1fb8176",
   "metadata": {
    "execution": {
     "iopub.execute_input": "2023-03-07T15:06:49.853285Z",
     "iopub.status.busy": "2023-03-07T15:06:49.852906Z",
     "iopub.status.idle": "2023-03-07T15:06:49.874185Z",
     "shell.execute_reply": "2023-03-07T15:06:49.873265Z"
    },
    "papermill": {
     "duration": 0.046876,
     "end_time": "2023-03-07T15:06:49.876992",
     "exception": false,
     "start_time": "2023-03-07T15:06:49.830116",
     "status": "completed"
    },
    "tags": []
   },
   "outputs": [
    {
     "data": {
      "text/html": [
       "<div>\n",
       "<style scoped>\n",
       "    .dataframe tbody tr th:only-of-type {\n",
       "        vertical-align: middle;\n",
       "    }\n",
       "\n",
       "    .dataframe tbody tr th {\n",
       "        vertical-align: top;\n",
       "    }\n",
       "\n",
       "    .dataframe thead th {\n",
       "        text-align: right;\n",
       "    }\n",
       "</style>\n",
       "<table border=\"1\" class=\"dataframe\">\n",
       "  <thead>\n",
       "    <tr style=\"text-align: right;\">\n",
       "      <th></th>\n",
       "      <th>Name</th>\n",
       "      <th>Species</th>\n",
       "      <th>Gender</th>\n",
       "      <th>Personality</th>\n",
       "      <th>Hobby</th>\n",
       "      <th>Style_1</th>\n",
       "      <th>Style_2</th>\n",
       "      <th>Color_1</th>\n",
       "      <th>Color_2</th>\n",
       "      <th>Tier</th>\n",
       "      <th>Rank</th>\n",
       "      <th>Total_Popularity</th>\n",
       "      <th>Total_Popularity_Updated</th>\n",
       "    </tr>\n",
       "  </thead>\n",
       "  <tbody>\n",
       "    <tr>\n",
       "      <th>134</th>\n",
       "      <td>Filbert</td>\n",
       "      <td>Squirrel</td>\n",
       "      <td>Male</td>\n",
       "      <td>Lazy</td>\n",
       "      <td>Nature</td>\n",
       "      <td>Simple</td>\n",
       "      <td>Cute</td>\n",
       "      <td>Blue</td>\n",
       "      <td>White</td>\n",
       "      <td>3</td>\n",
       "      <td>2</td>\n",
       "      <td>42</td>\n",
       "      <td>375</td>\n",
       "    </tr>\n",
       "  </tbody>\n",
       "</table>\n",
       "</div>"
      ],
      "text/plain": [
       "        Name   Species Gender Personality   Hobby Style_1 Style_2 Color_1  \\\n",
       "134  Filbert  Squirrel   Male        Lazy  Nature  Simple    Cute    Blue   \n",
       "\n",
       "    Color_2  Tier  Rank  Total_Popularity  Total_Popularity_Updated  \n",
       "134   White     3     2                42                       375  "
      ]
     },
     "execution_count": 29,
     "metadata": {},
     "output_type": "execute_result"
    }
   ],
   "source": [
    "villagers.query(\"Species == 'Squirrel' and Gender == 'Male' and Personality == 'Lazy' and Hobby == 'Nature'\")"
   ]
  },
  {
   "cell_type": "markdown",
   "id": "d6dcd19d",
   "metadata": {
    "papermill": {
     "duration": 0.02052,
     "end_time": "2023-03-07T15:06:49.923371",
     "exception": false,
     "start_time": "2023-03-07T15:06:49.902851",
     "status": "completed"
    },
    "tags": []
   },
   "source": [
    "And if we look at y, he should be marked as popular, which he is! "
   ]
  },
  {
   "cell_type": "code",
   "execution_count": 30,
   "id": "759a8349",
   "metadata": {
    "execution": {
     "iopub.execute_input": "2023-03-07T15:06:49.967687Z",
     "iopub.status.busy": "2023-03-07T15:06:49.967242Z",
     "iopub.status.idle": "2023-03-07T15:06:49.975052Z",
     "shell.execute_reply": "2023-03-07T15:06:49.973803Z"
    },
    "papermill": {
     "duration": 0.032245,
     "end_time": "2023-03-07T15:06:49.977567",
     "exception": false,
     "start_time": "2023-03-07T15:06:49.945322",
     "status": "completed"
    },
    "tags": []
   },
   "outputs": [
    {
     "data": {
      "text/plain": [
       "'Yes'"
      ]
     },
     "execution_count": 30,
     "metadata": {},
     "output_type": "execute_result"
    }
   ],
   "source": [
    "y[37]"
   ]
  },
  {
   "cell_type": "markdown",
   "id": "8d96ce6b",
   "metadata": {
    "papermill": {
     "duration": 0.021354,
     "end_time": "2023-03-07T15:06:50.020126",
     "exception": false,
     "start_time": "2023-03-07T15:06:49.998772",
     "status": "completed"
    },
    "tags": []
   },
   "source": [
    "### Train/test split\n",
    "\n",
    "We choose 10% as the test split and stratify the data based on y so there is an even proportion of popular and unpopular villagers in the test and training sets."
   ]
  },
  {
   "cell_type": "code",
   "execution_count": 31,
   "id": "0c736496",
   "metadata": {
    "execution": {
     "iopub.execute_input": "2023-03-07T15:06:50.063980Z",
     "iopub.status.busy": "2023-03-07T15:06:50.063034Z",
     "iopub.status.idle": "2023-03-07T15:06:50.072875Z",
     "shell.execute_reply": "2023-03-07T15:06:50.071895Z"
    },
    "papermill": {
     "duration": 0.034863,
     "end_time": "2023-03-07T15:06:50.075817",
     "exception": false,
     "start_time": "2023-03-07T15:06:50.040954",
     "status": "completed"
    },
    "tags": []
   },
   "outputs": [],
   "source": [
    "X_train, X_test, y_train, y_test = train_test_split(X_encoded, y, test_size=0.10, random_state=34, stratify=y)"
   ]
  },
  {
   "cell_type": "code",
   "execution_count": 32,
   "id": "0eba3000",
   "metadata": {
    "execution": {
     "iopub.execute_input": "2023-03-07T15:06:50.122996Z",
     "iopub.status.busy": "2023-03-07T15:06:50.122321Z",
     "iopub.status.idle": "2023-03-07T15:06:50.246477Z",
     "shell.execute_reply": "2023-03-07T15:06:50.244718Z"
    },
    "papermill": {
     "duration": 0.153018,
     "end_time": "2023-03-07T15:06:50.250525",
     "exception": false,
     "start_time": "2023-03-07T15:06:50.097507",
     "status": "completed"
    },
    "tags": []
   },
   "outputs": [
    {
     "name": "stdout",
     "output_type": "stream",
     "text": [
      "Model accuracy on the training set is 0.81844\n"
     ]
    }
   ],
   "source": [
    "#model = DecisionTreeClassifier()\n",
    "#model = LinearSVC()\n",
    "#model = KNeighborsClassifier(n_neighbors=5)\n",
    "#model = LogisticRegression(solver=\"newton-cg\", penalty='l2', max_iter=200, fit_intercept=True, C=10)\n",
    "model = LogisticRegression()#(solver=\"newton-cg\", penalty='l2', max_iter=200, fit_intercept=True, C=10)\n",
    "model.fit(X_train, y_train)\n",
    "y_pred = model.predict(X_train)\n",
    "\n",
    "print(f'Model accuracy on the training set is {accuracy_score(y_train, y_pred):0.5f}')"
   ]
  },
  {
   "cell_type": "markdown",
   "id": "ebe2d6f6",
   "metadata": {
    "papermill": {
     "duration": 0.041839,
     "end_time": "2023-03-07T15:06:50.369258",
     "exception": false,
     "start_time": "2023-03-07T15:06:50.327419",
     "status": "completed"
    },
    "tags": []
   },
   "source": [
    "Since the data set is unbalanced with mostly unpopular villagers, we can use a dummy data set of only no as our baseline. "
   ]
  },
  {
   "cell_type": "code",
   "execution_count": 33,
   "id": "42d2ef7e",
   "metadata": {
    "execution": {
     "iopub.execute_input": "2023-03-07T15:06:50.413565Z",
     "iopub.status.busy": "2023-03-07T15:06:50.413129Z",
     "iopub.status.idle": "2023-03-07T15:06:50.421168Z",
     "shell.execute_reply": "2023-03-07T15:06:50.419938Z"
    },
    "papermill": {
     "duration": 0.033144,
     "end_time": "2023-03-07T15:06:50.423681",
     "exception": false,
     "start_time": "2023-03-07T15:06:50.390537",
     "status": "completed"
    },
    "tags": []
   },
   "outputs": [
    {
     "name": "stdout",
     "output_type": "stream",
     "text": [
      "Baseline accuracy is 0.6715\n"
     ]
    }
   ],
   "source": [
    "y_dummy = np.full_like(y_train, 'No')\n",
    "print(f\"Baseline accuracy is {accuracy_score(y_train, y_dummy):0.4f}\")"
   ]
  },
  {
   "cell_type": "markdown",
   "id": "06923a90",
   "metadata": {
    "papermill": {
     "duration": 0.020829,
     "end_time": "2023-03-07T15:06:50.465584",
     "exception": false,
     "start_time": "2023-03-07T15:06:50.444755",
     "status": "completed"
    },
    "tags": []
   },
   "source": [
    "Evaluating on the test set, we get an accuracy of about 71.79%, which isn't really great, but it's better than guessing. That score can almost definitely be improved by more hyperparameter tuning and feature selection. (coming soon?)"
   ]
  },
  {
   "cell_type": "code",
   "execution_count": 34,
   "id": "e8c8c427",
   "metadata": {
    "execution": {
     "iopub.execute_input": "2023-03-07T15:06:50.511566Z",
     "iopub.status.busy": "2023-03-07T15:06:50.510440Z",
     "iopub.status.idle": "2023-03-07T15:06:50.518195Z",
     "shell.execute_reply": "2023-03-07T15:06:50.516768Z"
    },
    "papermill": {
     "duration": 0.034638,
     "end_time": "2023-03-07T15:06:50.521044",
     "exception": false,
     "start_time": "2023-03-07T15:06:50.486406",
     "status": "completed"
    },
    "tags": []
   },
   "outputs": [
    {
     "name": "stdout",
     "output_type": "stream",
     "text": [
      "Accuracy on the test set is 0.7179\n"
     ]
    }
   ],
   "source": [
    "print(f\"Accuracy on the test set is {model.score(X_test, y_test):0.4f}\")"
   ]
  },
  {
   "cell_type": "markdown",
   "id": "a6b8f566",
   "metadata": {
    "papermill": {
     "duration": 0.021625,
     "end_time": "2023-03-07T15:06:50.563998",
     "exception": false,
     "start_time": "2023-03-07T15:06:50.542373",
     "status": "completed"
    },
    "tags": []
   },
   "source": [
    "## My new bffl Pancake \n",
    "To test my new, definitely highly accurate prediction model, I am making a fake villager I will call Pancake. She is a cute, normal hamster whose hobby is nature. Let's see if she's popular! "
   ]
  },
  {
   "cell_type": "code",
   "execution_count": 35,
   "id": "6f818b7c",
   "metadata": {
    "execution": {
     "iopub.execute_input": "2023-03-07T15:06:50.610806Z",
     "iopub.status.busy": "2023-03-07T15:06:50.609216Z",
     "iopub.status.idle": "2023-03-07T15:06:50.620939Z",
     "shell.execute_reply": "2023-03-07T15:06:50.618971Z"
    },
    "papermill": {
     "duration": 0.037321,
     "end_time": "2023-03-07T15:06:50.623951",
     "exception": false,
     "start_time": "2023-03-07T15:06:50.586630",
     "status": "completed"
    },
    "tags": []
   },
   "outputs": [
    {
     "name": "stderr",
     "output_type": "stream",
     "text": [
      "/opt/conda/lib/python3.7/site-packages/sklearn/base.py:451: UserWarning:\n",
      "\n",
      "X does not have valid feature names, but OneHotEncoder was fitted with feature names\n",
      "\n"
     ]
    },
    {
     "data": {
      "text/plain": [
       "array(['Yes'], dtype=object)"
      ]
     },
     "execution_count": 35,
     "metadata": {},
     "output_type": "execute_result"
    }
   ],
   "source": [
    "Pancake = [\"Hamster\", \"Female\", \"Normal\", \"Nature\", \"Cute\"]\n",
    "model.predict(encoder.transform([Pancake]))"
   ]
  },
  {
   "cell_type": "markdown",
   "id": "5338edac",
   "metadata": {
    "papermill": {
     "duration": 0.022515,
     "end_time": "2023-03-07T15:06:50.668755",
     "exception": false,
     "start_time": "2023-03-07T15:06:50.646240",
     "status": "completed"
    },
    "tags": []
   },
   "source": [
    "She's popular!! Of course she is. With a name like Pancake she has to be popular."
   ]
  },
  {
   "cell_type": "markdown",
   "id": "65bef0ee",
   "metadata": {
    "_kg_hide-input": true,
    "papermill": {
     "duration": 0.020799,
     "end_time": "2023-03-07T15:06:50.711501",
     "exception": false,
     "start_time": "2023-03-07T15:06:50.690702",
     "status": "completed"
    },
    "tags": []
   },
   "source": [
    "## Scratch code for later"
   ]
  },
  {
   "cell_type": "markdown",
   "id": "b4bcde37",
   "metadata": {
    "_kg_hide-input": true,
    "papermill": {
     "duration": 0.021755,
     "end_time": "2023-03-07T15:06:50.755263",
     "exception": false,
     "start_time": "2023-03-07T15:06:50.733508",
     "status": "completed"
    },
    "tags": []
   },
   "source": [
    "skf = StratifiedKFold(n_splits=7)\n",
    "fold = 0\n",
    "accuracy = 0\n",
    "X_df = pd.DataFrame(X_encoded)\n",
    "for train_idx, val_idx in skf.split(X_df, y):\n",
    "    X_train = X_df.loc[train_idx]\n",
    "    y_train = y.loc[train_idx]\n",
    "    X_val = X_df.loc[val_idx]\n",
    "    y_val = y.loc[val_idx]\n",
    "\n",
    "    # Fit model on training data\n",
    "    #model = DecisionTreeClassifier()\n",
    "    #model = KNeighborsClassifier(n_neighbors=7)\n",
    "    #model = LinearSVC()\n",
    "    model = LogisticRegression()\n",
    "    model.fit(X_train, y_train)\n",
    "    pred = model.predict(X_val)\n",
    "    #pred_prob = model.predict_proba(X_val)[:, 1]\n",
    "    acc_score = accuracy_score(y_val, pred)\n",
    "    print(f\"======= Fold {fold+1} ========\")\n",
    "    print(f\"Accuracy on the validation set is {acc_score:0.4f}\")\n",
    "    fold += 1\n",
    "    accuracy += acc_score\n",
    "print()\n",
    "print(f'Average accuracy on the validation set is {accuracy/fold:0.4f}')"
   ]
  },
  {
   "cell_type": "code",
   "execution_count": 36,
   "id": "bb52e917",
   "metadata": {
    "_kg_hide-input": true,
    "_kg_hide-output": true,
    "execution": {
     "iopub.execute_input": "2023-03-07T15:06:50.801376Z",
     "iopub.status.busy": "2023-03-07T15:06:50.800928Z",
     "iopub.status.idle": "2023-03-07T15:07:38.204867Z",
     "shell.execute_reply": "2023-03-07T15:07:38.203078Z"
    },
    "papermill": {
     "duration": 47.467886,
     "end_time": "2023-03-07T15:07:38.245643",
     "exception": false,
     "start_time": "2023-03-07T15:06:50.777757",
     "status": "completed"
    },
    "tags": []
   },
   "outputs": [
    {
     "data": {
      "text/plain": [
       "({'C': 2,\n",
       "  'class_weight': None,\n",
       "  'fit_intercept': True,\n",
       "  'max_iter': 100,\n",
       "  'penalty': 'l2',\n",
       "  'solver': 'liblinear',\n",
       "  'tol': 0.0001},\n",
       " 0.7754037267080746)"
      ]
     },
     "execution_count": 36,
     "metadata": {},
     "output_type": "execute_result"
    }
   ],
   "source": [
    "from warnings import simplefilter\n",
    "from sklearn.exceptions import ConvergenceWarning\n",
    "simplefilter(\"ignore\", category=ConvergenceWarning)\n",
    "\n",
    "hyperparams = dict(penalty=['l2','l1'],\n",
    "                   class_weight=[None, 'balanced'],\n",
    "                   tol=[1e-4, 1e-5, 1e-6, 1e-3],\n",
    "                   C=[1.0, 0.5, 2, 5, 10, 15, 20],\n",
    "                   fit_intercept=[True, False],\n",
    "                   max_iter=[100, 200, 300, 500],\n",
    "                   solver=['liblinear'])#,'liblinear', 'lbfgs'])\n",
    "\n",
    "clf = GridSearchCV(model, hyperparams, scoring='accuracy', cv=5, return_train_score=True)\n",
    "search = clf.fit(X_train, y_train)\n",
    "search.best_params_, search.best_score_"
   ]
  },
  {
   "cell_type": "markdown",
   "id": "8ca92224",
   "metadata": {
    "_kg_hide-input": true,
    "papermill": {
     "duration": 0.021535,
     "end_time": "2023-03-07T15:07:38.288497",
     "exception": false,
     "start_time": "2023-03-07T15:07:38.266962",
     "status": "completed"
    },
    "tags": []
   },
   "source": [
    "villagers = pd.read_csv('/kaggle/input/animal-crossing-new-horizons-nookplaza-dataset/villagers.csv')\n",
    "\n",
    "new_birthdays = []\n",
    "for birthday in villagers['Birthday']:\n",
    "    new_birthdays.append(birthday.replace(birthday[-3:], months[birthday[-3:]]+'-00'))\n",
    "villagers[\"Birthday\"] = new_birthdays\n",
    "villagers[\"Birthday\"] = pd.to_datetime(villagers[\"Birthday\"], dayfirst=True)\n",
    "\n",
    "peppy_gworls = villagers[(villagers[\"Gender\"]==\"Female\") & (villagers[\"Personality\"]==\"Peppy\")]\n",
    "peppy_gworls = peppy_gworls.sort_values(['Favorite Song', \"Birthday\"])\n",
    "sns.catplot(data=peppy_gworls, y=\"Species\", hue=\"Style 1\")"
   ]
  },
  {
   "cell_type": "code",
   "execution_count": 37,
   "id": "b3dfc15c",
   "metadata": {
    "_kg_hide-input": true,
    "execution": {
     "iopub.execute_input": "2023-03-07T15:07:38.334133Z",
     "iopub.status.busy": "2023-03-07T15:07:38.333698Z",
     "iopub.status.idle": "2023-03-07T15:07:38.344150Z",
     "shell.execute_reply": "2023-03-07T15:07:38.342888Z"
    },
    "papermill": {
     "duration": 0.036514,
     "end_time": "2023-03-07T15:07:38.347058",
     "exception": false,
     "start_time": "2023-03-07T15:07:38.310544",
     "status": "completed"
    },
    "tags": []
   },
   "outputs": [],
   "source": [
    "# Make text features numeric to perform correlation calculations\n",
    "personality_int = pd.factorize(villagers['Personality'])\n",
    "species_int = pd.factorize(villagers['Species'])\n",
    "gender_int = pd.factorize(villagers['Gender'])\n",
    "\n",
    "villagers[\"personality_int\"] = personality_int[0]\n",
    "villagers['species_int'] = species_int[0]\n",
    "villagers[\"gender_int\"] = gender_int[0]"
   ]
  },
  {
   "cell_type": "code",
   "execution_count": 38,
   "id": "5c303d3a",
   "metadata": {
    "_kg_hide-input": true,
    "execution": {
     "iopub.execute_input": "2023-03-07T15:07:38.392682Z",
     "iopub.status.busy": "2023-03-07T15:07:38.392202Z",
     "iopub.status.idle": "2023-03-07T15:07:38.554900Z",
     "shell.execute_reply": "2023-03-07T15:07:38.553802Z"
    },
    "papermill": {
     "duration": 0.189117,
     "end_time": "2023-03-07T15:07:38.557880",
     "exception": false,
     "start_time": "2023-03-07T15:07:38.368763",
     "status": "completed"
    },
    "tags": []
   },
   "outputs": [
    {
     "name": "stdout",
     "output_type": "stream",
     "text": [
      "The selected features are:\n",
      "Deer\n",
      "Wolf\n",
      "Cat\n",
      "Rabbit\n",
      "Squirrel\n",
      "Simple\n",
      "Music\n",
      "Duck\n",
      "Cub\n",
      "Elegant\n",
      "Cute\n",
      "Active\n",
      "Cool\n",
      "Play\n",
      "Nature\n",
      "Pig\n",
      "Penguin\n",
      "Horse\n",
      "Sheep\n",
      "Dog\n"
     ]
    }
   ],
   "source": [
    "from sklearn.ensemble import ExtraTreesClassifier\n",
    "from sklearn.feature_selection import SelectFromModel\n",
    "\n",
    "clf = ExtraTreesClassifier(n_estimators=50)\n",
    "clf.fit(X_encoded, y)\n",
    "model = SelectFromModel(clf, prefit=True)\n",
    "X_new = model.transform(X_encoded)\n",
    "X_new.shape\n",
    "\n",
    "# We can see there are only the top 20 best features left, so we can see what those are\n",
    "def retrieve_features(number):\n",
    "    features = []\n",
    "    for i, feature in enumerate(clf.feature_importances_):\n",
    "        features.append((i, feature))\n",
    "    sorted_features = sorted(features, key=lambda x: x[1], reverse=True)[:number]\n",
    "\n",
    "    all_categories = []\n",
    "    for category in encoder.categories_:\n",
    "        all_categories.extend(category[:])\n",
    "\n",
    "    print('The selected features are:')\n",
    "    for pair in sorted_features:\n",
    "        print(all_categories[pair[0]])\n",
    "\n",
    "retrieve_features(20)"
   ]
  },
  {
   "cell_type": "code",
   "execution_count": 39,
   "id": "a7c9cdaf",
   "metadata": {
    "_kg_hide-input": true,
    "execution": {
     "iopub.execute_input": "2023-03-07T15:07:38.605503Z",
     "iopub.status.busy": "2023-03-07T15:07:38.605087Z",
     "iopub.status.idle": "2023-03-07T15:07:38.932214Z",
     "shell.execute_reply": "2023-03-07T15:07:38.930834Z"
    },
    "papermill": {
     "duration": 0.353466,
     "end_time": "2023-03-07T15:07:38.934874",
     "exception": false,
     "start_time": "2023-03-07T15:07:38.581408",
     "status": "completed"
    },
    "tags": []
   },
   "outputs": [
    {
     "data": {
      "text/plain": [
       "<AxesSubplot:>"
      ]
     },
     "execution_count": 39,
     "metadata": {},
     "output_type": "execute_result"
    },
    {
     "data": {
      "image/png": "[encoded data removed]",
      "text/plain": [
       "<Figure size 600x1200 with 2 Axes>"
      ]
     },
     "metadata": {},
     "output_type": "display_data"
    }
   ],
   "source": [
    "df_corr = villagers[['Total_Popularity','personality_int',\n",
    "    'species_int','gender_int']].corr()\n",
    "df_corr\n",
    "sns.heatmap(df_corr, annot=True)"
   ]
  }
 ],
 "metadata": {
  "kernelspec": {
   "display_name": "Python 3",
   "language": "python",
   "name": "python3"
  },
  "language_info": {
   "codemirror_mode": {
    "name": "ipython",
    "version": 3
   },
   "file_extension": ".py",
   "mimetype": "text/x-python",
   "name": "python",
   "nbconvert_exporter": "python",
   "pygments_lexer": "ipython3",
   "version": "3.7.12"
  },
  "papermill": {
   "default_parameters": {},
   "duration": 69.86036,
   "end_time": "2023-03-07T15:07:39.984796",
   "environment_variables": {},
   "exception": null,
   "input_path": "__notebook__.ipynb",
   "output_path": "__notebook__.ipynb",
   "parameters": {},
   "start_time": "2023-03-07T15:06:30.124436",
   "version": "2.3.4"
  }
 },
 "nbformat": 4,
 "nbformat_minor": 5
}
